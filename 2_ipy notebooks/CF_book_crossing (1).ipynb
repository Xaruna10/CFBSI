{
 "cells": [
  {
   "cell_type": "markdown",
   "metadata": {
    "id": "_PPpCUXF-ikp"
   },
   "source": [
    "# DATA PREPROCESSING"
   ]
  },
  {
   "cell_type": "code",
   "execution_count": 1,
   "metadata": {
    "id": "3euMr35POGFA"
   },
   "outputs": [],
   "source": [
    "import os\n",
    "import numpy as np\n",
    "import pandas as pd\n",
    "from scipy.sparse import *\n",
    "from scipy import *\n",
    "from sklearn.preprocessing import LabelEncoder"
   ]
  },
  {
   "cell_type": "code",
   "execution_count": 2,
   "metadata": {
    "id": "oGHa8nh1XLzW"
   },
   "outputs": [],
   "source": [
    "# https://grouplens.org/datasets/book-crossing/\n",
    "# load book_crossing dataset 1 million ratings , ~270k users and ~270k bookids, did preprocessing with few columns and rows\n",
    "data = pd.read_excel('Book_Ratings.xlsx') # encoding='ISO-8859-1'\n"
   ]
  },
  {
   "cell_type": "code",
   "execution_count": 3,
   "metadata": {
    "colab": {
     "base_uri": "https://localhost:8080/",
     "height": 221
    },
    "id": "fXAO6Z7hcxKL",
    "outputId": "e9464d12-3c95-4e16-98dd-c15ea6b6d7d8"
   },
   "outputs": [
    {
     "name": "stdout",
     "output_type": "stream",
     "text": [
      "There are 1048574 rows and 3 columns\n"
     ]
    },
    {
     "data": {
      "text/html": [
       "<div>\n",
       "<style scoped>\n",
       "    .dataframe tbody tr th:only-of-type {\n",
       "        vertical-align: middle;\n",
       "    }\n",
       "\n",
       "    .dataframe tbody tr th {\n",
       "        vertical-align: top;\n",
       "    }\n",
       "\n",
       "    .dataframe thead th {\n",
       "        text-align: right;\n",
       "    }\n",
       "</style>\n",
       "<table border=\"1\" class=\"dataframe\">\n",
       "  <thead>\n",
       "    <tr style=\"text-align: right;\">\n",
       "      <th></th>\n",
       "      <th>User-ID</th>\n",
       "      <th>ISBN</th>\n",
       "      <th>Book-Rating</th>\n",
       "    </tr>\n",
       "  </thead>\n",
       "  <tbody>\n",
       "    <tr>\n",
       "      <th>0</th>\n",
       "      <td>276725</td>\n",
       "      <td>034545104X</td>\n",
       "      <td>0.0</td>\n",
       "    </tr>\n",
       "    <tr>\n",
       "      <th>1</th>\n",
       "      <td>276726</td>\n",
       "      <td>155061224</td>\n",
       "      <td>5.0</td>\n",
       "    </tr>\n",
       "    <tr>\n",
       "      <th>2</th>\n",
       "      <td>276727</td>\n",
       "      <td>446520802</td>\n",
       "      <td>0.0</td>\n",
       "    </tr>\n",
       "    <tr>\n",
       "      <th>3</th>\n",
       "      <td>276729</td>\n",
       "      <td>052165615X</td>\n",
       "      <td>3.0</td>\n",
       "    </tr>\n",
       "    <tr>\n",
       "      <th>4</th>\n",
       "      <td>276729</td>\n",
       "      <td>521795028</td>\n",
       "      <td>6.0</td>\n",
       "    </tr>\n",
       "  </tbody>\n",
       "</table>\n",
       "</div>"
      ],
      "text/plain": [
       "   User-ID        ISBN  Book-Rating\n",
       "0   276725  034545104X          0.0\n",
       "1   276726   155061224          5.0\n",
       "2   276727   446520802          0.0\n",
       "3   276729  052165615X          3.0\n",
       "4   276729   521795028          6.0"
      ]
     },
     "execution_count": 3,
     "metadata": {},
     "output_type": "execute_result"
    }
   ],
   "source": [
    "nRow, nCol = data.shape\n",
    "print(f'There are {nRow} rows and {nCol} columns')\n",
    "data.head()"
   ]
  },
  {
   "cell_type": "code",
   "execution_count": 3,
   "metadata": {
    "colab": {
     "base_uri": "https://localhost:8080/"
    },
    "id": "TqOtMBIPhQcN",
    "outputId": "35ec70cb-fd5b-4d28-a7b9-2adafe0cb284"
   },
   "outputs": [
    {
     "data": {
      "text/plain": [
       "User-ID          int64\n",
       "ISBN            object\n",
       "Book-Rating    float64\n",
       "dtype: object"
      ]
     },
     "execution_count": 3,
     "metadata": {},
     "output_type": "execute_result"
    }
   ],
   "source": [
    "data.dtypes"
   ]
  },
  {
   "cell_type": "code",
   "execution_count": 4,
   "metadata": {
    "colab": {
     "base_uri": "https://localhost:8080/",
     "height": 419
    },
    "id": "C6cZ5RHddeWo",
    "outputId": "6a58c4d8-0943-42cc-c44b-feb92682caa1"
   },
   "outputs": [
    {
     "data": {
      "text/html": [
       "<div>\n",
       "<style scoped>\n",
       "    .dataframe tbody tr th:only-of-type {\n",
       "        vertical-align: middle;\n",
       "    }\n",
       "\n",
       "    .dataframe tbody tr th {\n",
       "        vertical-align: top;\n",
       "    }\n",
       "\n",
       "    .dataframe thead th {\n",
       "        text-align: right;\n",
       "    }\n",
       "</style>\n",
       "<table border=\"1\" class=\"dataframe\">\n",
       "  <thead>\n",
       "    <tr style=\"text-align: right;\">\n",
       "      <th></th>\n",
       "      <th>userid</th>\n",
       "      <th>movieid</th>\n",
       "      <th>movieRating</th>\n",
       "    </tr>\n",
       "  </thead>\n",
       "  <tbody>\n",
       "    <tr>\n",
       "      <th>0</th>\n",
       "      <td>276725</td>\n",
       "      <td>034545104X</td>\n",
       "      <td>0.0</td>\n",
       "    </tr>\n",
       "    <tr>\n",
       "      <th>1</th>\n",
       "      <td>276726</td>\n",
       "      <td>155061224</td>\n",
       "      <td>5.0</td>\n",
       "    </tr>\n",
       "    <tr>\n",
       "      <th>2</th>\n",
       "      <td>276727</td>\n",
       "      <td>446520802</td>\n",
       "      <td>0.0</td>\n",
       "    </tr>\n",
       "    <tr>\n",
       "      <th>3</th>\n",
       "      <td>276729</td>\n",
       "      <td>052165615X</td>\n",
       "      <td>3.0</td>\n",
       "    </tr>\n",
       "    <tr>\n",
       "      <th>4</th>\n",
       "      <td>276729</td>\n",
       "      <td>521795028</td>\n",
       "      <td>6.0</td>\n",
       "    </tr>\n",
       "    <tr>\n",
       "      <th>...</th>\n",
       "      <td>...</td>\n",
       "      <td>...</td>\n",
       "      <td>...</td>\n",
       "    </tr>\n",
       "    <tr>\n",
       "      <th>1048569</th>\n",
       "      <td>250764</td>\n",
       "      <td>451410777</td>\n",
       "      <td>0.0</td>\n",
       "    </tr>\n",
       "    <tr>\n",
       "      <th>1048570</th>\n",
       "      <td>250764</td>\n",
       "      <td>452264464</td>\n",
       "      <td>8.0</td>\n",
       "    </tr>\n",
       "    <tr>\n",
       "      <th>1048571</th>\n",
       "      <td>250764</td>\n",
       "      <td>048623715X</td>\n",
       "      <td>0.0</td>\n",
       "    </tr>\n",
       "    <tr>\n",
       "      <th>1048572</th>\n",
       "      <td>250764</td>\n",
       "      <td>486256588</td>\n",
       "      <td>0.0</td>\n",
       "    </tr>\n",
       "    <tr>\n",
       "      <th>1048573</th>\n",
       "      <td>250764</td>\n",
       "      <td>515069434</td>\n",
       "      <td>0.0</td>\n",
       "    </tr>\n",
       "  </tbody>\n",
       "</table>\n",
       "<p>1048574 rows × 3 columns</p>\n",
       "</div>"
      ],
      "text/plain": [
       "         userid     movieid  movieRating\n",
       "0        276725  034545104X          0.0\n",
       "1        276726   155061224          5.0\n",
       "2        276727   446520802          0.0\n",
       "3        276729  052165615X          3.0\n",
       "4        276729   521795028          6.0\n",
       "...         ...         ...          ...\n",
       "1048569  250764   451410777          0.0\n",
       "1048570  250764   452264464          8.0\n",
       "1048571  250764  048623715X          0.0\n",
       "1048572  250764   486256588          0.0\n",
       "1048573  250764   515069434          0.0\n",
       "\n",
       "[1048574 rows x 3 columns]"
      ]
     },
     "execution_count": 4,
     "metadata": {},
     "output_type": "execute_result"
    }
   ],
   "source": [
    "sample_data = data.rename(columns={'User-ID': 'userid', 'ISBN': 'movieid', 'Book-Rating': 'movieRating'})\n",
    "sample_data"
   ]
  },
  {
   "cell_type": "code",
   "execution_count": 68,
   "metadata": {
    "colab": {
     "base_uri": "https://localhost:8080/"
    },
    "id": "Z4ivtMW6yLKs",
    "outputId": "55207077-3b17-4dd8-a8c3-8f45d933eb4f"
   },
   "outputs": [
    {
     "name": "stdout",
     "output_type": "stream",
     "text": [
      "userid           int64\n",
      "movieid         object\n",
      "movieRating    float64\n",
      "num             object\n",
      "dtype: object\n",
      "   userid     movieid  movieRating         num\n",
      "0  276725   034545104          0.0   034545104\n",
      "1  276726   155061224          5.0   155061224\n",
      "2  276727   446520802          0.0   446520802\n",
      "3  276729   052165615          3.0   052165615\n",
      "4  276729   521795028          6.0   521795028\n",
      "5  276733  2080674722          0.0  2080674722\n",
      "6  276736  3257224281          8.0  3257224281\n",
      "7  276737   600570967          6.0   600570967\n",
      "8  276744   038550120          7.0   038550120\n",
      "9  276745   342310538         10.0   342310538\n",
      "userid           int64\n",
      "movieid         object\n",
      "movieRating    float64\n",
      "num             object\n",
      "dtype: object\n"
     ]
    },
    {
     "data": {
      "text/plain": [
       "userid            128375\n",
       "movieid        068484477\n",
       "movieRating            0\n",
       "num            068484477\n",
       "Name: 531937, dtype: object"
      ]
     },
     "execution_count": 68,
     "metadata": {},
     "output_type": "execute_result"
    }
   ],
   "source": [
    "# data cleaning\n",
    "# df = sample_data\n",
    "# df['movieid'] = df['movieid'].astype(str)\n",
    "# print(df.dtypes)\n",
    "# df['movieid'] = df['movieid'].str.replace('\\D+','')\n",
    "# # df['movieid'] = df['movieid'].str.replace('[^0-9]', '')\n",
    "\n",
    "# def numbers(element):\n",
    "#   if type(element) == str: \n",
    "#     return \"\".join(filter(str.isnumeric, element))\n",
    "\n",
    "# df.loc[:,'num'] = [numbers(x) for x in df.movieid]\n",
    "# # df['num'].astype(float)\n",
    "# print(df.head(10))\n",
    "# print(df.dtypes)\n",
    "# df[df['movieid'] == ''].index\n",
    "# # pd.isnull('movieid')\n",
    "# # df.isnull().sum().sum()\n",
    "# # df.dropna()\n",
    "# # df\n",
    "# df.iloc[531937]"
   ]
  },
  {
   "cell_type": "code",
   "execution_count": 5,
   "metadata": {
    "colab": {
     "base_uri": "https://localhost:8080/"
    },
    "id": "To_GFTPBb-5h",
    "outputId": "8125fd7d-3997-4ae0-b1c8-fd806bb9f759"
   },
   "outputs": [
    {
     "name": "stdout",
     "output_type": "stream",
     "text": [
      "95512\n"
     ]
    }
   ],
   "source": [
    "frequency = sample_data.groupby('userid').count()\n",
    "print(len(frequency))\n",
    "test_users = []\n",
    "for i in range(len(frequency)):\n",
    "    fre = frequency.iloc[i]\n",
    "    break\n",
    "    if (fre[0] > 100):\n",
    "        test_users.append(i+1)\n",
    "#print(len(test_users))"
   ]
  },
  {
   "cell_type": "code",
   "execution_count": 6,
   "metadata": {
    "id": "Ctziaji7lu_W"
   },
   "outputs": [],
   "source": [
    "test_userid = []\n",
    "test_movieid = []\n",
    "test_movieRating = []"
   ]
  },
  {
   "cell_type": "code",
   "execution_count": 7,
   "metadata": {
    "colab": {
     "base_uri": "https://localhost:8080/"
    },
    "id": "AMEFNxp2lxvf",
    "outputId": "30bc9f6f-f496-46d2-834a-ea1c47603b37"
   },
   "outputs": [
    {
     "name": "stdout",
     "output_type": "stream",
     "text": [
      "278854\n"
     ]
    }
   ],
   "source": [
    "print(sample_data.userid.max())\n"
   ]
  },
  {
   "cell_type": "markdown",
   "metadata": {
    "id": "35c8Qiooo_49"
   },
   "source": [
    "create testing set"
   ]
  },
  {
   "cell_type": "code",
   "execution_count": 8,
   "metadata": {
    "id": "H5VG3zitl2-n"
   },
   "outputs": [],
   "source": [
    "# if the user has rated more than \"50\" movies then add him to test dataset\n",
    "for user in range(1,278855):\n",
    "    filter_df = sample_data.query(\"userid == \" + str(user))\n",
    "    if (len(filter_df) < 50):\n",
    "        continue\n",
    "    # add 20% of that particular user data to the testdata set \n",
    "    portion = int(len(filter_df)*(0.2))\n",
    "    random_indices = set(np.random.choice(len(filter_df), portion))\n",
    "    for i in random_indices:\n",
    "        row = filter_df.iloc[i]\n",
    "        test_userid.append(row.userid)\n",
    "        test_movieid.append(row.movieid)\n",
    "        test_movieRating.append(row.movieRating)\n",
    " "
   ]
  },
  {
   "cell_type": "code",
   "execution_count": 9,
   "metadata": {
    "colab": {
     "base_uri": "https://localhost:8080/"
    },
    "id": "Y2fx7f8CmW8o",
    "outputId": "7a4ac85a-e2c5-4e73-9c0c-4759dbf723c2"
   },
   "outputs": [
    {
     "name": "stdout",
     "output_type": "stream",
     "text": [
      "126624\n",
      "126624\n",
      "126624\n"
     ]
    }
   ],
   "source": [
    "print(len(test_userid))\n",
    "print(len(test_movieid))\n",
    "print(len(test_movieRating))"
   ]
  },
  {
   "cell_type": "code",
   "execution_count": 10,
   "metadata": {
    "colab": {
     "base_uri": "https://localhost:8080/"
    },
    "id": "hhaKF86rm_kZ",
    "outputId": "3cba0d17-4fb7-4076-8f7f-6a7cb498da48"
   },
   "outputs": [
    {
     "name": "stdout",
     "output_type": "stream",
     "text": [
      "   userid     movieid  movieRating\n",
      "0     183  9728487606            6\n",
      "1     183   100940/86            9\n",
      "2     183    10745/85            0\n",
      "3     183   350583378            0\n",
      "4     183  40827/3218            0\n"
     ]
    },
    {
     "data": {
      "text/plain": [
       "(126624, 3)"
      ]
     },
     "execution_count": 10,
     "metadata": {},
     "output_type": "execute_result"
    }
   ],
   "source": [
    "test_df_dict = {\"userid\": test_userid, \"movieid\":test_movieid, \"movieRating\":test_movieRating}\n",
    "convert_dict = {\n",
    "    \"userid\" :      int,\n",
    "    \"movieid\" :     object,\n",
    "    \"movieRating\"  :   int\n",
    "    }\n",
    "test_df = pd.DataFrame(test_df_dict)\n",
    "test_df = test_df.astype(convert_dict)\n",
    "print(test_df.head())\n",
    "test_df.shape"
   ]
  },
  {
   "cell_type": "code",
   "execution_count": 13,
   "metadata": {
    "id": "zsryMbPUnZj4"
   },
   "outputs": [],
   "source": [
    "test_df.to_csv(\"test_ratings.csv\",index=False)\n",
    "# test dataset csv"
   ]
  },
  {
   "cell_type": "code",
   "execution_count": 14,
   "metadata": {
    "colab": {
     "base_uri": "https://localhost:8080/"
    },
    "id": "ADI4Ynl9pgK6",
    "outputId": "59d9ae1a-15d5-4157-826d-1c746990ded2"
   },
   "outputs": [
    {
     "name": "stdout",
     "output_type": "stream",
     "text": [
      "3115\n"
     ]
    }
   ],
   "source": [
    "test_data = pd.read_csv('test_ratings.csv')\n",
    "test_users = test_data.userid.unique()\n",
    "print(len(test_users))\n",
    "test_users_list = test_users.tolist()\n",
    "with open ('test_users.txt', 'w') as fo:\n",
    "     fo.write(','.join(str(i) for i in test_users_list))"
   ]
  },
  {
   "cell_type": "code",
   "execution_count": 15,
   "metadata": {
    "colab": {
     "base_uri": "https://localhost:8080/"
    },
    "id": "7FPUmlhFoFQ7",
    "outputId": "adfb5ba2-cd02-4fb0-c0f6-b3c47fbdfbac"
   },
   "outputs": [
    {
     "name": "stdout",
     "output_type": "stream",
     "text": [
      "126624\n",
      "(120548, 0)\n",
      ":)\n",
      "126623\n",
      "126624\n"
     ]
    }
   ],
   "source": [
    "# data redundancy\n",
    "# adding unique userid,movieid tuple to the test_tuple_set\n",
    "#  trying to avoid users who have rated same movie twice\n",
    "test_tuple_set = set()\n",
    "print(len(test_userid))\n",
    "for i in range(len(test_userid)):\n",
    "    userid_movieid_tuple = (test_userid[i], test_movieid[i])\n",
    "    if userid_movieid_tuple in test_tuple_set:\n",
    "        print(userid_movieid_tuple)\n",
    "        print(\":)\")\n",
    "    test_tuple_set.add(userid_movieid_tuple)\n",
    "print(len(test_tuple_set))\n",
    "print(len(test_df))"
   ]
  },
  {
   "cell_type": "markdown",
   "metadata": {
    "id": "cOmztEjEofhN"
   },
   "source": [
    "create Training set"
   ]
  },
  {
   "cell_type": "code",
   "execution_count": 16,
   "metadata": {
    "id": "mbSB5HwcodsX"
   },
   "outputs": [],
   "source": [
    "def drop_rating(row):\n",
    "    print(len(row))\n",
    "    t = (row.userid, row.movieid)\n",
    "    if t in test_tuple_set:\n",
    "        row.movieRating = 0.0\n",
    "    return row"
   ]
  },
  {
   "cell_type": "code",
   "execution_count": 17,
   "metadata": {
    "id": "quF2kxbxowbO"
   },
   "outputs": [],
   "source": [
    "# removing test data values/ratings from the training dataset and making them zero not deleting \n",
    "for i in range(len(sample_data)): # len(sample_data)\n",
    "    row = sample_data.iloc[i]\n",
    "    t = (row.userid, row.movieid)\n",
    "    if t in test_tuple_set:\n",
    "        sample_data.at[i,'movieRating'] = 0.0\n"
   ]
  },
  {
   "cell_type": "code",
   "execution_count": 18,
   "metadata": {
    "colab": {
     "base_uri": "https://localhost:8080/",
     "height": 359
    },
    "id": "ay1NJs6Go1kx",
    "outputId": "0873998d-b727-4354-fe05-1c2f45dab779"
   },
   "outputs": [
    {
     "data": {
      "text/html": [
       "<div>\n",
       "<style scoped>\n",
       "    .dataframe tbody tr th:only-of-type {\n",
       "        vertical-align: middle;\n",
       "    }\n",
       "\n",
       "    .dataframe tbody tr th {\n",
       "        vertical-align: top;\n",
       "    }\n",
       "\n",
       "    .dataframe thead th {\n",
       "        text-align: right;\n",
       "    }\n",
       "</style>\n",
       "<table border=\"1\" class=\"dataframe\">\n",
       "  <thead>\n",
       "    <tr style=\"text-align: right;\">\n",
       "      <th></th>\n",
       "      <th>userid</th>\n",
       "      <th>movieid</th>\n",
       "      <th>movieRating</th>\n",
       "    </tr>\n",
       "  </thead>\n",
       "  <tbody>\n",
       "    <tr>\n",
       "      <th>0</th>\n",
       "      <td>276725</td>\n",
       "      <td>034545104X</td>\n",
       "      <td>0.0</td>\n",
       "    </tr>\n",
       "    <tr>\n",
       "      <th>1</th>\n",
       "      <td>276726</td>\n",
       "      <td>155061224</td>\n",
       "      <td>5.0</td>\n",
       "    </tr>\n",
       "    <tr>\n",
       "      <th>2</th>\n",
       "      <td>276727</td>\n",
       "      <td>446520802</td>\n",
       "      <td>0.0</td>\n",
       "    </tr>\n",
       "    <tr>\n",
       "      <th>3</th>\n",
       "      <td>276729</td>\n",
       "      <td>052165615X</td>\n",
       "      <td>3.0</td>\n",
       "    </tr>\n",
       "    <tr>\n",
       "      <th>4</th>\n",
       "      <td>276729</td>\n",
       "      <td>521795028</td>\n",
       "      <td>6.0</td>\n",
       "    </tr>\n",
       "    <tr>\n",
       "      <th>5</th>\n",
       "      <td>276733</td>\n",
       "      <td>2080674722</td>\n",
       "      <td>0.0</td>\n",
       "    </tr>\n",
       "    <tr>\n",
       "      <th>6</th>\n",
       "      <td>276736</td>\n",
       "      <td>3257224281</td>\n",
       "      <td>8.0</td>\n",
       "    </tr>\n",
       "    <tr>\n",
       "      <th>7</th>\n",
       "      <td>276737</td>\n",
       "      <td>600570967</td>\n",
       "      <td>6.0</td>\n",
       "    </tr>\n",
       "    <tr>\n",
       "      <th>8</th>\n",
       "      <td>276744</td>\n",
       "      <td>038550120X</td>\n",
       "      <td>7.0</td>\n",
       "    </tr>\n",
       "    <tr>\n",
       "      <th>9</th>\n",
       "      <td>276745</td>\n",
       "      <td>342310538</td>\n",
       "      <td>10.0</td>\n",
       "    </tr>\n",
       "  </tbody>\n",
       "</table>\n",
       "</div>"
      ],
      "text/plain": [
       "   userid     movieid  movieRating\n",
       "0  276725  034545104X          0.0\n",
       "1  276726   155061224          5.0\n",
       "2  276727   446520802          0.0\n",
       "3  276729  052165615X          3.0\n",
       "4  276729   521795028          6.0\n",
       "5  276733  2080674722          0.0\n",
       "6  276736  3257224281          8.0\n",
       "7  276737   600570967          6.0\n",
       "8  276744  038550120X          7.0\n",
       "9  276745   342310538         10.0"
      ]
     },
     "execution_count": 18,
     "metadata": {},
     "output_type": "execute_result"
    }
   ],
   "source": [
    "sample_data.head(10)"
   ]
  },
  {
   "cell_type": "code",
   "execution_count": 19,
   "metadata": {
    "id": "bpObtKNXpH2r"
   },
   "outputs": [],
   "source": [
    "sample_data.to_csv(\"train_ratings.csv\", index=False)"
   ]
  },
  {
   "cell_type": "code",
   "execution_count": 20,
   "metadata": {
    "colab": {
     "base_uri": "https://localhost:8080/"
    },
    "id": "CC54BYX4pS5q",
    "outputId": "461fa493-249e-4a4c-df42-9c34daa3174d"
   },
   "outputs": [
    {
     "data": {
      "text/plain": [
       "322729"
      ]
     },
     "execution_count": 20,
     "metadata": {},
     "output_type": "execute_result"
    }
   ],
   "source": [
    "len(sample_data.movieid.unique())\n",
    "# total unique movies/items\n",
    "# sample_data = whole data"
   ]
  },
  {
   "cell_type": "code",
   "execution_count": 21,
   "metadata": {
    "colab": {
     "base_uri": "https://localhost:8080/"
    },
    "id": "u0Jhf_mkq5K-",
    "outputId": "07c53f7a-b9e5-4fa0-f4db-906005e330fb"
   },
   "outputs": [
    {
     "name": "stdout",
     "output_type": "stream",
     "text": [
      "['034545104X' 155061224 446520802 ... '048623715X' 486256588 515069434]\n"
     ]
    }
   ],
   "source": [
    "# converting unique movies numpy ndarray to list\n",
    "unique_movies = sample_data.movieid.unique()\n",
    "type (list(unique_movies))\n",
    "print(unique_movies)"
   ]
  },
  {
   "cell_type": "markdown",
   "metadata": {
    "id": "0twJxXjKrYA_"
   },
   "source": [
    " ***ASSIGN* CONTINUOUS INDEX TO movieid**"
   ]
  },
  {
   "cell_type": "code",
   "execution_count": 22,
   "metadata": {
    "id": "3ltOzpGWrNdl"
   },
   "outputs": [],
   "source": [
    "# adding index to movie id thru a dict\n",
    "original_movie_ids = []\n",
    "mapped_movie_ids = []\n",
    "movie_dict = {}\n",
    "count = 1\n",
    "for movie_id in unique_movies:\n",
    "    original_movie_ids.append(movie_id)\n",
    "    mapped_movie_ids.append(count)\n",
    "    movie_dict[movie_id] = count\n",
    "    count += 1"
   ]
  },
  {
   "cell_type": "code",
   "execution_count": 23,
   "metadata": {
    "colab": {
     "base_uri": "https://localhost:8080/"
    },
    "id": "XVN3u4Ej34C9",
    "outputId": "467d84cd-a732-4654-e9d1-cd24067b1956"
   },
   "outputs": [
    {
     "name": "stdout",
     "output_type": "stream",
     "text": [
      "322729\n",
      "322729\n"
     ]
    }
   ],
   "source": [
    "print(len(original_movie_ids))\n",
    "print(len(mapped_movie_ids))"
   ]
  },
  {
   "cell_type": "code",
   "execution_count": 24,
   "metadata": {
    "colab": {
     "base_uri": "https://localhost:8080/"
    },
    "id": "8yBVp1Kx4B3u",
    "outputId": "6adb021b-a0b7-4156-9931-ca23d4a2fd67"
   },
   "outputs": [
    {
     "name": "stdout",
     "output_type": "stream",
     "text": [
      "  original_movie_ids  mapped_movie_ids\n",
      "0         034545104X                 1\n",
      "1          155061224                 2\n",
      "2          446520802                 3\n",
      "3         052165615X                 4\n",
      "4          521795028                 5\n"
     ]
    }
   ],
   "source": [
    "# creating a dataframe with colomn1 as uniquemovieids and column2 as mappedmovieids(aka index) , dataframe index vs movie index\n",
    "movies_map_df_dict = {\"original_movie_ids\": original_movie_ids,\n",
    "                      \"mapped_movie_ids\":mapped_movie_ids}\n",
    "movies_map_df = pd.DataFrame(movies_map_df_dict)\n",
    "print(movies_map_df.head())\n",
    "movies_map_df.to_csv(\"mapped_movie_ids.csv\",index=False)"
   ]
  },
  {
   "cell_type": "code",
   "execution_count": 185,
   "metadata": {
    "colab": {
     "base_uri": "https://localhost:8080/"
    },
    "id": "hM_4VbLRvUxR",
    "outputId": "e4f356e5-b48a-4ffb-e23b-1be176b812ae"
   },
   "outputs": [
    {
     "data": {
      "text/plain": [
       "200000"
      ]
     },
     "execution_count": 185,
     "metadata": {},
     "output_type": "execute_result"
    }
   ],
   "source": [
    "len(sample_data)"
   ]
  },
  {
   "cell_type": "code",
   "execution_count": 26,
   "metadata": {
    "id": "YDOaO2oD4fCx"
   },
   "outputs": [],
   "source": [
    "# adding a column(mapped_movie_id) to orginal wholedataset dataframe sample_data\n",
    "# len(sample_data)\n",
    "for i in range(len(sample_data)): # len(sample_data)\n",
    "  mapped_movie_id = movie_dict[sample_data.iloc[i][1]] # int()\n",
    "#     print(sample_data.iloc[i][1] ,mapped_movie_id )\n",
    "  sample_data.loc[sample_data.index[i], 'mapped_movie_id'] = (mapped_movie_id) # int()\n",
    "    "
   ]
  },
  {
   "cell_type": "code",
   "execution_count": 160,
   "metadata": {
    "colab": {
     "base_uri": "https://localhost:8080/",
     "height": 204
    },
    "id": "bgqORxQa4w1E",
    "outputId": "e8a28763-ad9c-4d70-cdb0-69612cb2c353"
   },
   "outputs": [
    {
     "data": {
      "text/html": [
       "<div>\n",
       "<style scoped>\n",
       "    .dataframe tbody tr th:only-of-type {\n",
       "        vertical-align: middle;\n",
       "    }\n",
       "\n",
       "    .dataframe tbody tr th {\n",
       "        vertical-align: top;\n",
       "    }\n",
       "\n",
       "    .dataframe thead th {\n",
       "        text-align: right;\n",
       "    }\n",
       "</style>\n",
       "<table border=\"1\" class=\"dataframe\">\n",
       "  <thead>\n",
       "    <tr style=\"text-align: right;\">\n",
       "      <th></th>\n",
       "      <th>userid</th>\n",
       "      <th>movieid</th>\n",
       "      <th>movieRating</th>\n",
       "      <th>mapped_movie_id</th>\n",
       "    </tr>\n",
       "  </thead>\n",
       "  <tbody>\n",
       "    <tr>\n",
       "      <th>0</th>\n",
       "      <td>276725</td>\n",
       "      <td>034545104X</td>\n",
       "      <td>0.0</td>\n",
       "      <td>1.0</td>\n",
       "    </tr>\n",
       "    <tr>\n",
       "      <th>1</th>\n",
       "      <td>276726</td>\n",
       "      <td>155061224</td>\n",
       "      <td>5.0</td>\n",
       "      <td>2.0</td>\n",
       "    </tr>\n",
       "    <tr>\n",
       "      <th>2</th>\n",
       "      <td>276727</td>\n",
       "      <td>446520802</td>\n",
       "      <td>0.0</td>\n",
       "      <td>3.0</td>\n",
       "    </tr>\n",
       "    <tr>\n",
       "      <th>3</th>\n",
       "      <td>276729</td>\n",
       "      <td>052165615X</td>\n",
       "      <td>3.0</td>\n",
       "      <td>4.0</td>\n",
       "    </tr>\n",
       "    <tr>\n",
       "      <th>4</th>\n",
       "      <td>276729</td>\n",
       "      <td>521795028</td>\n",
       "      <td>6.0</td>\n",
       "      <td>5.0</td>\n",
       "    </tr>\n",
       "  </tbody>\n",
       "</table>\n",
       "</div>"
      ],
      "text/plain": [
       "   userid     movieid  movieRating  mapped_movie_id\n",
       "0  276725  034545104X          0.0              1.0\n",
       "1  276726   155061224          5.0              2.0\n",
       "2  276727   446520802          0.0              3.0\n",
       "3  276729  052165615X          3.0              4.0\n",
       "4  276729   521795028          6.0              5.0"
      ]
     },
     "execution_count": 160,
     "metadata": {},
     "output_type": "execute_result"
    }
   ],
   "source": [
    "sample_data.head()"
   ]
  },
  {
   "cell_type": "code",
   "execution_count": 199,
   "metadata": {},
   "outputs": [],
   "source": [
    "sample_data = sample_data[:100000]"
   ]
  },
  {
   "cell_type": "code",
   "execution_count": 200,
   "metadata": {
    "colab": {
     "base_uri": "https://localhost:8080/",
     "height": 214
    },
    "id": "ESXOMKAn5IXA",
    "outputId": "80766ac0-23a4-4f10-e323-5b2e2ad6a130"
   },
   "outputs": [],
   "source": [
    "users = np.array(sample_data['userid'])\n",
    "items = np.array(sample_data['movieid'])\n",
    "ratings = np.array(sample_data['movieRating'])\n",
    "mapped_movie_ids = np.array(sample_data['mapped_movie_id'])"
   ]
  },
  {
   "cell_type": "code",
   "execution_count": 201,
   "metadata": {
    "colab": {
     "base_uri": "https://localhost:8080/"
    },
    "id": "WiIs07mN5Nyj",
    "outputId": "cc350ed5-c709-42ea-b9c3-8595ed3ec5f3"
   },
   "outputs": [
    {
     "name": "stdout",
     "output_type": "stream",
     "text": [
      "276729 052165615X 3.0\n"
     ]
    }
   ],
   "source": [
    "print(users[3],items[3], ratings[3])"
   ]
  },
  {
   "cell_type": "code",
   "execution_count": 202,
   "metadata": {
    "id": "2Jz3qZra5RUT"
   },
   "outputs": [],
   "source": [
    "#sample_data.movieid.max() alpha numeric"
   ]
  },
  {
   "cell_type": "code",
   "execution_count": 203,
   "metadata": {
    "colab": {
     "base_uri": "https://localhost:8080/"
    },
    "id": "fZtBqBVs5jza",
    "outputId": "c3dc3732-36d5-4657-a0ab-86023eb4d7f1"
   },
   "outputs": [
    {
     "data": {
      "text/plain": [
       "(100000, 100000, 100000, 100000)"
      ]
     },
     "execution_count": 203,
     "metadata": {},
     "output_type": "execute_result"
    }
   ],
   "source": [
    "len(users), len(items), len(ratings), len(mapped_movie_ids)"
   ]
  },
  {
   "cell_type": "code",
   "execution_count": 204,
   "metadata": {
    "colab": {
     "base_uri": "https://localhost:8080/"
    },
    "id": "hVOLuwhX5myQ",
    "outputId": "09b4db3c-d986-42c8-9657-e7bafb94a80a"
   },
   "outputs": [
    {
     "data": {
      "text/plain": [
       "9424"
      ]
     },
     "execution_count": 204,
     "metadata": {},
     "output_type": "execute_result"
    }
   ],
   "source": [
    "len(sample_data.userid.unique())\n",
    "# unique users in wholedataset"
   ]
  },
  {
   "cell_type": "code",
   "execution_count": 205,
   "metadata": {
    "colab": {
     "base_uri": "https://localhost:8080/"
    },
    "id": "f_CX1iBp5q9B",
    "outputId": "02700803-d14e-4113-a4b8-df162b06b304"
   },
   "outputs": [
    {
     "data": {
      "text/plain": [
       "63797"
      ]
     },
     "execution_count": 205,
     "metadata": {},
     "output_type": "execute_result"
    }
   ],
   "source": [
    "len(sample_data.movieid.unique())\n",
    "# unique movies in wholedataset"
   ]
  },
  {
   "cell_type": "code",
   "execution_count": 206,
   "metadata": {
    "id": "8a6SI7sc503W"
   },
   "outputs": [],
   "source": [
    "# sample_data.to_sparse(fill_value=0)"
   ]
  },
  {
   "cell_type": "markdown",
   "metadata": {
    "id": "Fy4H3V9e6_W_"
   },
   "source": [
    "Create Utility Matrix"
   ]
  },
  {
   "cell_type": "code",
   "execution_count": 221,
   "metadata": {
    "id": "G929tv-V94rH"
   },
   "outputs": [],
   "source": [
    "users = users.astype(np.uint32)\n",
    "ratings = ratings.astype(np.uint32)\n",
    "mapped_movie_ids = mapped_movie_ids.astype(np.uint32)"
   ]
  },
  {
   "cell_type": "code",
   "execution_count": 222,
   "metadata": {},
   "outputs": [
    {
     "name": "stdout",
     "output_type": "stream",
     "text": [
      "100000\n"
     ]
    }
   ],
   "source": [
    "print(len(users))"
   ]
  },
  {
   "cell_type": "code",
   "execution_count": 223,
   "metadata": {
    "colab": {
     "base_uri": "https://localhost:8080/",
     "height": 180
    },
    "id": "xQAEnFZ47CDj",
    "outputId": "7fde4d04-69e9-4e18-eb61-c7d562aa7e37"
   },
   "outputs": [],
   "source": [
    "# converting original dataframe sample_data to a matrix representation/utility matrix with the help of csr_matrix func of scipy\n",
    "utility_csr = csr_matrix((ratings.astype(int), (users , mapped_movie_ids.astype(int))))"
   ]
  },
  {
   "cell_type": "code",
   "execution_count": 224,
   "metadata": {},
   "outputs": [
    {
     "data": {
      "text/plain": [
       "(23289, 63798)"
      ]
     },
     "execution_count": 224,
     "metadata": {},
     "output_type": "execute_result"
    }
   ],
   "source": [
    "utility_csr.shape"
   ]
  },
  {
   "cell_type": "code",
   "execution_count": 225,
   "metadata": {
    "colab": {
     "base_uri": "https://localhost:8080/",
     "height": 197
    },
    "id": "jvFSHrow7VAj",
    "outputId": "6b2745ec-09fb-481d-9852-f9db1fa881e5"
   },
   "outputs": [
    {
     "ename": "MemoryError",
     "evalue": "Unable to allocate 5.54 GiB for an array with shape (23289, 63798) and data type int32",
     "output_type": "error",
     "traceback": [
      "\u001b[1;31m---------------------------------------------------------------------------\u001b[0m",
      "\u001b[1;31mMemoryError\u001b[0m                               Traceback (most recent call last)",
      "\u001b[1;32m<ipython-input-225-8c59590b2ed6>\u001b[0m in \u001b[0;36m<module>\u001b[1;34m\u001b[0m\n\u001b[1;32m----> 1\u001b[1;33m \u001b[0mutility_matrix\u001b[0m \u001b[1;33m=\u001b[0m \u001b[0mcsr_matrix\u001b[0m\u001b[1;33m(\u001b[0m\u001b[1;33m(\u001b[0m\u001b[0mratings\u001b[0m\u001b[1;33m.\u001b[0m\u001b[0mastype\u001b[0m\u001b[1;33m(\u001b[0m\u001b[0mint\u001b[0m\u001b[1;33m)\u001b[0m\u001b[1;33m,\u001b[0m \u001b[1;33m(\u001b[0m\u001b[0musers\u001b[0m\u001b[1;33m,\u001b[0m \u001b[0mmapped_movie_ids\u001b[0m\u001b[1;33m.\u001b[0m\u001b[0mastype\u001b[0m\u001b[1;33m(\u001b[0m\u001b[0mint\u001b[0m\u001b[1;33m)\u001b[0m\u001b[1;33m)\u001b[0m\u001b[1;33m)\u001b[0m\u001b[1;33m)\u001b[0m\u001b[1;33m.\u001b[0m\u001b[0mtoarray\u001b[0m\u001b[1;33m(\u001b[0m\u001b[1;33m)\u001b[0m \u001b[1;31m# Users x Items\u001b[0m\u001b[1;33m\u001b[0m\u001b[1;33m\u001b[0m\u001b[0m\n\u001b[0m\u001b[0;32m      2\u001b[0m \u001b[0mutility_matrix_t\u001b[0m \u001b[1;33m=\u001b[0m \u001b[0mutility_matrix\u001b[0m\u001b[1;33m.\u001b[0m\u001b[0mT\u001b[0m\u001b[1;33m\u001b[0m\u001b[1;33m\u001b[0m\u001b[0m\n\u001b[0;32m      3\u001b[0m \u001b[0mutility_matrix\u001b[0m\u001b[1;33m\u001b[0m\u001b[1;33m\u001b[0m\u001b[0m\n",
      "\u001b[1;32mC:\\ProgramData\\Anaconda3\\lib\\site-packages\\scipy\\sparse\\compressed.py\u001b[0m in \u001b[0;36mtoarray\u001b[1;34m(self, order, out)\u001b[0m\n\u001b[0;32m   1023\u001b[0m         \u001b[1;32mif\u001b[0m \u001b[0mout\u001b[0m \u001b[1;32mis\u001b[0m \u001b[1;32mNone\u001b[0m \u001b[1;32mand\u001b[0m \u001b[0morder\u001b[0m \u001b[1;32mis\u001b[0m \u001b[1;32mNone\u001b[0m\u001b[1;33m:\u001b[0m\u001b[1;33m\u001b[0m\u001b[1;33m\u001b[0m\u001b[0m\n\u001b[0;32m   1024\u001b[0m             \u001b[0morder\u001b[0m \u001b[1;33m=\u001b[0m \u001b[0mself\u001b[0m\u001b[1;33m.\u001b[0m\u001b[0m_swap\u001b[0m\u001b[1;33m(\u001b[0m\u001b[1;34m'cf'\u001b[0m\u001b[1;33m)\u001b[0m\u001b[1;33m[\u001b[0m\u001b[1;36m0\u001b[0m\u001b[1;33m]\u001b[0m\u001b[1;33m\u001b[0m\u001b[1;33m\u001b[0m\u001b[0m\n\u001b[1;32m-> 1025\u001b[1;33m         \u001b[0mout\u001b[0m \u001b[1;33m=\u001b[0m \u001b[0mself\u001b[0m\u001b[1;33m.\u001b[0m\u001b[0m_process_toarray_args\u001b[0m\u001b[1;33m(\u001b[0m\u001b[0morder\u001b[0m\u001b[1;33m,\u001b[0m \u001b[0mout\u001b[0m\u001b[1;33m)\u001b[0m\u001b[1;33m\u001b[0m\u001b[1;33m\u001b[0m\u001b[0m\n\u001b[0m\u001b[0;32m   1026\u001b[0m         \u001b[1;32mif\u001b[0m \u001b[1;32mnot\u001b[0m \u001b[1;33m(\u001b[0m\u001b[0mout\u001b[0m\u001b[1;33m.\u001b[0m\u001b[0mflags\u001b[0m\u001b[1;33m.\u001b[0m\u001b[0mc_contiguous\u001b[0m \u001b[1;32mor\u001b[0m \u001b[0mout\u001b[0m\u001b[1;33m.\u001b[0m\u001b[0mflags\u001b[0m\u001b[1;33m.\u001b[0m\u001b[0mf_contiguous\u001b[0m\u001b[1;33m)\u001b[0m\u001b[1;33m:\u001b[0m\u001b[1;33m\u001b[0m\u001b[1;33m\u001b[0m\u001b[0m\n\u001b[0;32m   1027\u001b[0m             \u001b[1;32mraise\u001b[0m \u001b[0mValueError\u001b[0m\u001b[1;33m(\u001b[0m\u001b[1;34m'Output array must be C or F contiguous'\u001b[0m\u001b[1;33m)\u001b[0m\u001b[1;33m\u001b[0m\u001b[1;33m\u001b[0m\u001b[0m\n",
      "\u001b[1;32mC:\\ProgramData\\Anaconda3\\lib\\site-packages\\scipy\\sparse\\base.py\u001b[0m in \u001b[0;36m_process_toarray_args\u001b[1;34m(self, order, out)\u001b[0m\n\u001b[0;32m   1183\u001b[0m             \u001b[1;32mreturn\u001b[0m \u001b[0mout\u001b[0m\u001b[1;33m\u001b[0m\u001b[1;33m\u001b[0m\u001b[0m\n\u001b[0;32m   1184\u001b[0m         \u001b[1;32melse\u001b[0m\u001b[1;33m:\u001b[0m\u001b[1;33m\u001b[0m\u001b[1;33m\u001b[0m\u001b[0m\n\u001b[1;32m-> 1185\u001b[1;33m             \u001b[1;32mreturn\u001b[0m \u001b[0mnp\u001b[0m\u001b[1;33m.\u001b[0m\u001b[0mzeros\u001b[0m\u001b[1;33m(\u001b[0m\u001b[0mself\u001b[0m\u001b[1;33m.\u001b[0m\u001b[0mshape\u001b[0m\u001b[1;33m,\u001b[0m \u001b[0mdtype\u001b[0m\u001b[1;33m=\u001b[0m\u001b[0mself\u001b[0m\u001b[1;33m.\u001b[0m\u001b[0mdtype\u001b[0m\u001b[1;33m,\u001b[0m \u001b[0morder\u001b[0m\u001b[1;33m=\u001b[0m\u001b[0morder\u001b[0m\u001b[1;33m)\u001b[0m\u001b[1;33m\u001b[0m\u001b[1;33m\u001b[0m\u001b[0m\n\u001b[0m\u001b[0;32m   1186\u001b[0m \u001b[1;33m\u001b[0m\u001b[0m\n\u001b[0;32m   1187\u001b[0m \u001b[1;33m\u001b[0m\u001b[0m\n",
      "\u001b[1;31mMemoryError\u001b[0m: Unable to allocate 5.54 GiB for an array with shape (23289, 63798) and data type int32"
     ]
    }
   ],
   "source": [
    "utility_matrix = csr_matrix((ratings.astype(int), (users, mapped_movie_ids.astype(int)))).toarray() # Users x Items \n",
    "utility_matrix_t = utility_matrix.T\n",
    "utility_matrix"
   ]
  },
  {
   "cell_type": "code",
   "execution_count": 90,
   "metadata": {
    "colab": {
     "base_uri": "https://localhost:8080/",
     "height": 163
    },
    "id": "SPhBS2SZ7XJb",
    "outputId": "6ac6be8a-ef06-4b75-c8d8-7dd0aa76e14e"
   },
   "outputs": [],
   "source": [
    "#print(utility_matrix[users[4]][items[4]])"
   ]
  },
  {
   "cell_type": "code",
   "execution_count": 219,
   "metadata": {
    "colab": {
     "base_uri": "https://localhost:8080/"
    },
    "id": "CQqckgPp7ZPv",
    "outputId": "c2da0e93-c659-47a7-be45-530c2464aaf4"
   },
   "outputs": [
    {
     "name": "stdout",
     "output_type": "stream",
     "text": [
      "(23289, 63798)\n",
      "(63798, 23289)\n"
     ]
    }
   ],
   "source": [
    "# we have an extra expendable row(likely first row), column in both user_utility_matrix and item_utility_matrix\n",
    "# shud be 943x1682 / 1682x943 , somewhere csr_matrix func is adding an extra row\n",
    "print(utility_matrix.shape)\n",
    "print(utility_matrix_t.shape)"
   ]
  },
  {
   "cell_type": "code",
   "execution_count": 220,
   "metadata": {
    "id": "lMyKq7-b7e8O"
   },
   "outputs": [
    {
     "ename": "OSError",
     "evalue": "[Errno 28] No space left on device",
     "output_type": "error",
     "traceback": [
      "\u001b[1;31m---------------------------------------------------------------------------\u001b[0m",
      "\u001b[1;31mOSError\u001b[0m                                   Traceback (most recent call last)",
      "\u001b[1;32m<ipython-input-220-c786dcb540c6>\u001b[0m in \u001b[0;36m<module>\u001b[1;34m\u001b[0m\n\u001b[1;32m----> 1\u001b[1;33m \u001b[0mnp\u001b[0m\u001b[1;33m.\u001b[0m\u001b[0msavetxt\u001b[0m\u001b[1;33m(\u001b[0m\u001b[1;34m'users_m.txt'\u001b[0m\u001b[1;33m,\u001b[0m \u001b[0mutility_matrix\u001b[0m\u001b[1;33m,\u001b[0m \u001b[0mfmt\u001b[0m\u001b[1;33m=\u001b[0m\u001b[1;34m\"%d\"\u001b[0m\u001b[1;33m)\u001b[0m \u001b[1;31m# All rows as a USERS\u001b[0m\u001b[1;33m\u001b[0m\u001b[1;33m\u001b[0m\u001b[0m\n\u001b[0m\u001b[0;32m      2\u001b[0m \u001b[0mnp\u001b[0m\u001b[1;33m.\u001b[0m\u001b[0msavetxt\u001b[0m\u001b[1;33m(\u001b[0m\u001b[1;34m'items_m.txt'\u001b[0m\u001b[1;33m,\u001b[0m \u001b[0mutility_matrix_t\u001b[0m\u001b[1;33m,\u001b[0m \u001b[0mfmt\u001b[0m\u001b[1;33m=\u001b[0m\u001b[1;34m\"%d\"\u001b[0m\u001b[1;33m)\u001b[0m \u001b[1;31m# All rows as a ITEMS\u001b[0m\u001b[1;33m\u001b[0m\u001b[1;33m\u001b[0m\u001b[0m\n",
      "\u001b[1;32m<__array_function__ internals>\u001b[0m in \u001b[0;36msavetxt\u001b[1;34m(*args, **kwargs)\u001b[0m\n",
      "\u001b[1;32mC:\\ProgramData\\Anaconda3\\lib\\site-packages\\numpy\\lib\\npyio.py\u001b[0m in \u001b[0;36msavetxt\u001b[1;34m(fname, X, fmt, delimiter, newline, header, footer, comments, encoding)\u001b[0m\n\u001b[0;32m   1427\u001b[0m                                     \u001b[1;34m\"format specifier ('%s')\"\u001b[0m\u001b[1;33m\u001b[0m\u001b[1;33m\u001b[0m\u001b[0m\n\u001b[0;32m   1428\u001b[0m                                     % (str(X.dtype), format))\n\u001b[1;32m-> 1429\u001b[1;33m                 \u001b[0mfh\u001b[0m\u001b[1;33m.\u001b[0m\u001b[0mwrite\u001b[0m\u001b[1;33m(\u001b[0m\u001b[0mv\u001b[0m\u001b[1;33m)\u001b[0m\u001b[1;33m\u001b[0m\u001b[1;33m\u001b[0m\u001b[0m\n\u001b[0m\u001b[0;32m   1430\u001b[0m \u001b[1;33m\u001b[0m\u001b[0m\n\u001b[0;32m   1431\u001b[0m         \u001b[1;32mif\u001b[0m \u001b[0mlen\u001b[0m\u001b[1;33m(\u001b[0m\u001b[0mfooter\u001b[0m\u001b[1;33m)\u001b[0m \u001b[1;33m>\u001b[0m \u001b[1;36m0\u001b[0m\u001b[1;33m:\u001b[0m\u001b[1;33m\u001b[0m\u001b[1;33m\u001b[0m\u001b[0m\n",
      "\u001b[1;31mOSError\u001b[0m: [Errno 28] No space left on device"
     ]
    }
   ],
   "source": [
    "np.savetxt('users_m.txt', utility_matrix, fmt=\"%d\") # All rows as a USERS\n",
    "np.savetxt('items_m.txt', utility_matrix_t, fmt=\"%d\") # All rows as a ITEMS"
   ]
  },
  {
   "cell_type": "code",
   "execution_count": null,
   "metadata": {
    "id": "GJmBy7A9hGwe"
   },
   "outputs": [],
   "source": [
    "# # passing the above two txt files into java code for generating recommendation thru compressed bit vectors"
   ]
  },
  {
   "cell_type": "code",
   "execution_count": null,
   "metadata": {
    "id": "AHXWmh1thdrn"
   },
   "outputs": [],
   "source": [
    "# below four cells revist"
   ]
  },
  {
   "cell_type": "code",
   "execution_count": null,
   "metadata": {
    "id": "Pr9UvAu-7rkh"
   },
   "outputs": [],
   "source": [
    "mapped_movie_ids_dict = {}\n",
    "for key in movie_dict:\n",
    "    value = movie_dict[key]\n",
    "    mapped_movie_ids_dict[value] = key"
   ]
  },
  {
   "cell_type": "code",
   "execution_count": null,
   "metadata": {
    "id": "oSdVB9RN74T4"
   },
   "outputs": [],
   "source": [
    "def get_original_movie_ids(mapped_movie_ids):\n",
    "    original_ids = []\n",
    "    for movie_id in mapped_movie_ids:\n",
    "        if int(movie_id) in mapped_movie_ids_dict:\n",
    "            original_ids.append(mapped_movie_ids_dict[int(movie_id)])\n",
    "        else:\n",
    "            original_ids.append(-1)\n",
    "    return original_ids"
   ]
  },
  {
   "cell_type": "code",
   "execution_count": null,
   "metadata": {
    "id": "h4XpyeIt78H7"
   },
   "outputs": [],
   "source": [
    "temp_str = \"6,15,18,19,24,25,26,27,31,32,33,231,291,321,462,470,471,473,477,620\""
   ]
  },
  {
   "cell_type": "code",
   "execution_count": null,
   "metadata": {
    "colab": {
     "base_uri": "https://localhost:8080/"
    },
    "id": "pmyBmFLO8Cz9",
    "outputId": "d209be53-c263-447b-b534-be928d1b6816"
   },
   "outputs": [
    {
     "name": "stdout",
     "output_type": "stream",
     "text": [
      "[474, 29, 274, 1042, 118, 1, 546, 95, 246, 98, 193, 520, 558, 97, 870, 44, 686, 729, 566, 372]\n"
     ]
    }
   ],
   "source": [
    "bsi_mapped_movie_ids = temp_str.split(\",\")\n",
    "bsi_original_movie_ids = get_original_movie_ids(bsi_mapped_movie_ids)\n",
    "print(bsi_original_movie_ids)"
   ]
  },
  {
   "cell_type": "code",
   "execution_count": null,
   "metadata": {
    "id": "WtVGpRG1hBeE"
   },
   "outputs": [],
   "source": [
    "# now we evaluate compressed bit vector recommendations ( java code txt files)"
   ]
  },
  {
   "cell_type": "code",
   "execution_count": null,
   "metadata": {
    "id": "-Tp7TYAJhDZy"
   },
   "outputs": [],
   "source": [
    "import os\n",
    "import numpy as np\n",
    "import pandas as pd\n",
    "from scipy.sparse import *\n",
    "from scipy import *\n",
    "from sklearn.preprocessing import LabelEncoder"
   ]
  },
  {
   "cell_type": "code",
   "execution_count": null,
   "metadata": {
    "colab": {
     "base_uri": "https://localhost:8080/"
    },
    "id": "KS1dcPSXhDio",
    "outputId": "2c100b81-26a7-494f-be6a-5d1fc387a21c"
   },
   "outputs": [
    {
     "name": "stdout",
     "output_type": "stream",
     "text": [
      "There are 15909 rows and 3 columns\n"
     ]
    }
   ],
   "source": [
    "test_data = pd.read_csv('test_ratings.csv')\n",
    "nRow, nCol = test_data.shape\n",
    "print(f'There are {nRow} rows and {nCol} columns')"
   ]
  },
  {
   "cell_type": "code",
   "execution_count": null,
   "metadata": {
    "id": "KIgXoBiyhDpx"
   },
   "outputs": [],
   "source": [
    "mapped_movieID_df = pd.read_csv('mapped_movie_ids.csv')"
   ]
  },
  {
   "cell_type": "code",
   "execution_count": null,
   "metadata": {
    "colab": {
     "base_uri": "https://localhost:8080/",
     "height": 419
    },
    "id": "axSU0SJyhDzd",
    "outputId": "6b271477-8ae9-424f-e0c1-fe8c0fab74d2"
   },
   "outputs": [
    {
     "data": {
      "text/html": [
       "<div>\n",
       "<style scoped>\n",
       "    .dataframe tbody tr th:only-of-type {\n",
       "        vertical-align: middle;\n",
       "    }\n",
       "\n",
       "    .dataframe tbody tr th {\n",
       "        vertical-align: top;\n",
       "    }\n",
       "\n",
       "    .dataframe thead th {\n",
       "        text-align: right;\n",
       "    }\n",
       "</style>\n",
       "<table border=\"1\" class=\"dataframe\">\n",
       "  <thead>\n",
       "    <tr style=\"text-align: right;\">\n",
       "      <th></th>\n",
       "      <th>userid</th>\n",
       "      <th>movieid</th>\n",
       "      <th>movieRating</th>\n",
       "    </tr>\n",
       "  </thead>\n",
       "  <tbody>\n",
       "    <tr>\n",
       "      <th>0</th>\n",
       "      <td>1</td>\n",
       "      <td>154</td>\n",
       "      <td>5</td>\n",
       "    </tr>\n",
       "    <tr>\n",
       "      <th>1</th>\n",
       "      <td>1</td>\n",
       "      <td>161</td>\n",
       "      <td>4</td>\n",
       "    </tr>\n",
       "    <tr>\n",
       "      <th>2</th>\n",
       "      <td>1</td>\n",
       "      <td>18</td>\n",
       "      <td>4</td>\n",
       "    </tr>\n",
       "    <tr>\n",
       "      <th>3</th>\n",
       "      <td>1</td>\n",
       "      <td>171</td>\n",
       "      <td>5</td>\n",
       "    </tr>\n",
       "    <tr>\n",
       "      <th>4</th>\n",
       "      <td>1</td>\n",
       "      <td>246</td>\n",
       "      <td>5</td>\n",
       "    </tr>\n",
       "    <tr>\n",
       "      <th>...</th>\n",
       "      <td>...</td>\n",
       "      <td>...</td>\n",
       "      <td>...</td>\n",
       "    </tr>\n",
       "    <tr>\n",
       "      <th>15904</th>\n",
       "      <td>943</td>\n",
       "      <td>399</td>\n",
       "      <td>1</td>\n",
       "    </tr>\n",
       "    <tr>\n",
       "      <th>15905</th>\n",
       "      <td>943</td>\n",
       "      <td>1330</td>\n",
       "      <td>3</td>\n",
       "    </tr>\n",
       "    <tr>\n",
       "      <th>15906</th>\n",
       "      <td>943</td>\n",
       "      <td>227</td>\n",
       "      <td>1</td>\n",
       "    </tr>\n",
       "    <tr>\n",
       "      <th>15907</th>\n",
       "      <td>943</td>\n",
       "      <td>722</td>\n",
       "      <td>3</td>\n",
       "    </tr>\n",
       "    <tr>\n",
       "      <th>15908</th>\n",
       "      <td>943</td>\n",
       "      <td>230</td>\n",
       "      <td>1</td>\n",
       "    </tr>\n",
       "  </tbody>\n",
       "</table>\n",
       "<p>15909 rows × 3 columns</p>\n",
       "</div>"
      ],
      "text/plain": [
       "       userid  movieid  movieRating\n",
       "0           1      154            5\n",
       "1           1      161            4\n",
       "2           1       18            4\n",
       "3           1      171            5\n",
       "4           1      246            5\n",
       "...       ...      ...          ...\n",
       "15904     943      399            1\n",
       "15905     943     1330            3\n",
       "15906     943      227            1\n",
       "15907     943      722            3\n",
       "15908     943      230            1\n",
       "\n",
       "[15909 rows x 3 columns]"
      ]
     },
     "execution_count": 228,
     "metadata": {},
     "output_type": "execute_result"
    }
   ],
   "source": [
    "test_data"
   ]
  },
  {
   "cell_type": "code",
   "execution_count": null,
   "metadata": {
    "colab": {
     "base_uri": "https://localhost:8080/",
     "height": 204
    },
    "id": "IL7mtY_ihD68",
    "outputId": "cf0b9e0f-e94b-4473-a1ce-50719d9d1635"
   },
   "outputs": [
    {
     "data": {
      "text/html": [
       "<div>\n",
       "<style scoped>\n",
       "    .dataframe tbody tr th:only-of-type {\n",
       "        vertical-align: middle;\n",
       "    }\n",
       "\n",
       "    .dataframe tbody tr th {\n",
       "        vertical-align: top;\n",
       "    }\n",
       "\n",
       "    .dataframe thead th {\n",
       "        text-align: right;\n",
       "    }\n",
       "</style>\n",
       "<table border=\"1\" class=\"dataframe\">\n",
       "  <thead>\n",
       "    <tr style=\"text-align: right;\">\n",
       "      <th></th>\n",
       "      <th>original_movie_ids</th>\n",
       "      <th>mapped_movie_ids</th>\n",
       "    </tr>\n",
       "  </thead>\n",
       "  <tbody>\n",
       "    <tr>\n",
       "      <th>0</th>\n",
       "      <td>242</td>\n",
       "      <td>1</td>\n",
       "    </tr>\n",
       "    <tr>\n",
       "      <th>1</th>\n",
       "      <td>302</td>\n",
       "      <td>2</td>\n",
       "    </tr>\n",
       "    <tr>\n",
       "      <th>2</th>\n",
       "      <td>377</td>\n",
       "      <td>3</td>\n",
       "    </tr>\n",
       "    <tr>\n",
       "      <th>3</th>\n",
       "      <td>51</td>\n",
       "      <td>4</td>\n",
       "    </tr>\n",
       "    <tr>\n",
       "      <th>4</th>\n",
       "      <td>346</td>\n",
       "      <td>5</td>\n",
       "    </tr>\n",
       "  </tbody>\n",
       "</table>\n",
       "</div>"
      ],
      "text/plain": [
       "   original_movie_ids  mapped_movie_ids\n",
       "0                 242                 1\n",
       "1                 302                 2\n",
       "2                 377                 3\n",
       "3                  51                 4\n",
       "4                 346                 5"
      ]
     },
     "execution_count": 229,
     "metadata": {},
     "output_type": "execute_result"
    }
   ],
   "source": [
    "mapped_movieID_df.head()"
   ]
  },
  {
   "cell_type": "code",
   "execution_count": null,
   "metadata": {
    "id": "EvhF1Xf4jai_"
   },
   "outputs": [],
   "source": [
    "# create dictionaries for movieID mapping\n",
    "mapped_movieID_dict = {}\n",
    "# mapped_movieID_df.size\n",
    "for i in range(len(mapped_movieID_df)):\n",
    "    row = mapped_movieID_df.loc[i]\n",
    "#     print(row)\n",
    "    mapped_movieID_dict[row.original_movie_ids] = row.mapped_movie_ids"
   ]
  },
  {
   "cell_type": "code",
   "execution_count": null,
   "metadata": {
    "id": "-q3oBlhljkAi"
   },
   "outputs": [],
   "source": [
    "original_movieID_dict = {}\n",
    "for i in range(len(mapped_movieID_df)):\n",
    "    row = mapped_movieID_df.loc[i]\n",
    "#     print(row)\n",
    "    original_movieID_dict[row.mapped_movie_ids] = row.original_movie_ids"
   ]
  },
  {
   "cell_type": "code",
   "execution_count": null,
   "metadata": {
    "colab": {
     "base_uri": "https://localhost:8080/"
    },
    "id": "3krcoD6-jm2P",
    "outputId": "3c7bd0c4-6c49-4f53-d77b-8e6c75f2dce7"
   },
   "outputs": [
    {
     "name": "stdout",
     "output_type": "stream",
     "text": [
      "[1, 2, 3, 5, 6, 7, 8, 10, 11, 12, 13, 14, 15, 16, 18, 21, 22, 23, 24, 25, 26, 28, 37, 38, 41, 42, 43, 44, 48, 49, 52, 54, 56, 57, 58, 59, 60, 62, 63, 64, 65, 69, 70, 72, 73, 75, 76, 77, 79, 81, 82, 83, 84, 85, 87, 89, 90, 91, 92, 94, 95, 96, 97, 99, 100, 101, 102, 104, 106, 109, 110, 113, 115, 116, 117, 118, 119, 121, 122, 123, 125, 128, 130, 135, 138, 141, 144, 145, 148, 151, 152, 154, 157, 158, 159, 160, 161, 164, 167, 168, 174, 176, 177, 178, 180, 181, 183, 184, 186, 187, 188, 189, 190, 193, 194, 195, 197, 198, 200, 201, 206, 207, 210, 213, 214, 215, 216, 217, 218, 221, 222, 223, 224, 226, 227, 230, 232, 233, 234, 235, 236, 239, 243, 244, 246, 248, 249, 250, 251, 253, 254, 255, 256, 257, 262, 263, 264, 267, 268, 269, 270, 271, 272, 274, 275, 276, 277, 279, 280, 283, 286, 287, 288, 290, 291, 292, 293, 294, 295, 296, 297, 298, 299, 301, 303, 305, 307, 308, 311, 312, 313, 314, 315, 316, 318, 320, 321, 322, 323, 324, 325, 326, 327, 328, 329, 330, 331, 332, 334, 336, 338, 339, 342, 343, 344, 345, 346, 347, 348, 350, 354, 357, 360, 361, 363, 365, 367, 370, 371, 372, 373, 374, 378, 379, 380, 381, 382, 383, 385, 387, 388, 389, 391, 392, 393, 394, 395, 396, 397, 398, 399, 401, 402, 403, 405, 406, 407, 409, 411, 412, 413, 416, 417, 421, 422, 423, 425, 426, 428, 429, 430, 432, 435, 436, 437, 440, 442, 445, 447, 449, 450, 451, 452, 453, 454, 455, 456, 457, 458, 459, 460, 463, 464, 465, 466, 468, 470, 472, 474, 476, 478, 479, 480, 481, 483, 484, 486, 487, 488, 489, 490, 492, 493, 495, 496, 497, 498, 499, 500, 501, 503, 504, 505, 506, 507, 508, 514, 518, 521, 523, 524, 525, 526, 527, 528, 532, 533, 534, 535, 536, 537, 538, 539, 540, 541, 542, 543, 545, 546, 548, 551, 552, 553, 554, 555, 557, 559, 560, 561, 562, 566, 567, 568, 569, 573, 577, 579, 582, 585, 586, 587, 588, 591, 592, 593, 595, 600, 601, 605, 606, 608, 610, 615, 617, 618, 619, 620, 621, 622, 624, 625, 627, 629, 630, 632, 633, 634, 637, 638, 639, 640, 642, 643, 645, 647, 648, 650, 653, 654, 655, 658, 659, 660, 661, 663, 664, 665, 666, 669, 671, 676, 679, 682, 683, 684, 686, 690, 693, 694, 697, 698, 699, 704, 705, 707, 708, 709, 710, 711, 712, 715, 716, 717, 719, 721, 724, 727, 731, 733, 734, 735, 738, 741, 745, 746, 747, 748, 749, 751, 752, 753, 756, 757, 758, 761, 763, 764, 766, 768, 770, 771, 773, 774, 776, 778, 780, 782, 786, 787, 788, 790, 793, 795, 796, 798, 802, 804, 805, 806, 807, 815, 821, 823, 825, 826, 828, 829, 830, 831, 833, 834, 835, 836, 838, 839, 840, 843, 844, 846, 847, 848, 850, 851, 854, 860, 862, 863, 864, 865, 867, 868, 870, 871, 872, 875, 877, 878, 880, 881, 882, 883, 885, 886, 887, 889, 890, 892, 893, 894, 896, 897, 899, 901, 903, 907, 908, 910, 911, 912, 913, 916, 918, 919, 921, 922, 923, 924, 927, 930, 931, 932, 933, 934, 936, 938, 940, 942, 943]\n",
      "568\n"
     ]
    }
   ],
   "source": [
    "# unique users in test data for evaluation\n",
    "test_users = test_data.userid.unique()\n",
    "test_users_list = test_users.tolist()\n",
    "print(test_users_list)\n",
    "print(len(test_users_list))\n",
    "# used in the java file to generate test_recommendation_bsi.txt and bsi_recommendations_for_all_user.txt"
   ]
  },
  {
   "cell_type": "code",
   "execution_count": null,
   "metadata": {
    "id": "TenNG36ql_Nz"
   },
   "outputs": [],
   "source": [
    "def get_mapped_movieids(original_movieIds):\n",
    "    mapped_movieIds= []\n",
    "    for _id in original_movieIds:\n",
    "        mapped_movieIds.append(mapped_movieID_dict[_id])\n",
    "    return mapped_movieIds"
   ]
  },
  {
   "cell_type": "code",
   "execution_count": null,
   "metadata": {
    "id": "78kGKL2-mAAN"
   },
   "outputs": [],
   "source": [
    "# get Get movies which is rated (>3.0)/(change depending on dataset) by user in test data for BSI\n",
    "def get_test_rec_movieIds(userId):\n",
    "    user_df = test_data[test_data.userid == userId]\n",
    "    user_movie_df = user_df[user_df.movieRating > 5.0]\n",
    "    original_movieIds = user_movie_df.movieid.unique()\n",
    "    mapped_movieIds = get_mapped_movieids(original_movieIds)\n",
    "    return mapped_movieIds\n"
   ]
  },
  {
   "cell_type": "code",
   "execution_count": null,
   "metadata": {
    "id": "yoLNklGPmOB1"
   },
   "outputs": [],
   "source": [
    "def find_common(original_ids, rec_ids):\n",
    "    original_ids_set = set(original_ids)\n",
    "    common_count = 0\n",
    "    if rec_ids[-1] == '':\n",
    "        rec_ids.pop()\n",
    "    for _id in rec_ids:\n",
    "        if int(_id) in original_ids_set:\n",
    "            common_count += 1\n",
    "    return common_count"
   ]
  },
  {
   "cell_type": "code",
   "execution_count": null,
   "metadata": {
    "colab": {
     "base_uri": "https://localhost:8080/",
     "height": 204
    },
    "id": "e19JBFaEmwc5",
    "outputId": "864f0d18-9307-4159-c2bb-bbb5561cf4f4"
   },
   "outputs": [
    {
     "data": {
      "text/html": [
       "<div>\n",
       "<style scoped>\n",
       "    .dataframe tbody tr th:only-of-type {\n",
       "        vertical-align: middle;\n",
       "    }\n",
       "\n",
       "    .dataframe tbody tr th {\n",
       "        vertical-align: top;\n",
       "    }\n",
       "\n",
       "    .dataframe thead th {\n",
       "        text-align: right;\n",
       "    }\n",
       "</style>\n",
       "<table border=\"1\" class=\"dataframe\">\n",
       "  <thead>\n",
       "    <tr style=\"text-align: right;\">\n",
       "      <th></th>\n",
       "      <th>original_movie_ids</th>\n",
       "      <th>mapped_movie_ids</th>\n",
       "    </tr>\n",
       "  </thead>\n",
       "  <tbody>\n",
       "    <tr>\n",
       "      <th>0</th>\n",
       "      <td>242</td>\n",
       "      <td>1</td>\n",
       "    </tr>\n",
       "    <tr>\n",
       "      <th>1</th>\n",
       "      <td>302</td>\n",
       "      <td>2</td>\n",
       "    </tr>\n",
       "    <tr>\n",
       "      <th>2</th>\n",
       "      <td>377</td>\n",
       "      <td>3</td>\n",
       "    </tr>\n",
       "    <tr>\n",
       "      <th>3</th>\n",
       "      <td>51</td>\n",
       "      <td>4</td>\n",
       "    </tr>\n",
       "    <tr>\n",
       "      <th>4</th>\n",
       "      <td>346</td>\n",
       "      <td>5</td>\n",
       "    </tr>\n",
       "  </tbody>\n",
       "</table>\n",
       "</div>"
      ],
      "text/plain": [
       "   original_movie_ids  mapped_movie_ids\n",
       "0                 242                 1\n",
       "1                 302                 2\n",
       "2                 377                 3\n",
       "3                  51                 4\n",
       "4                 346                 5"
      ]
     },
     "execution_count": 236,
     "metadata": {},
     "output_type": "execute_result"
    }
   ],
   "source": [
    "mapped_movieID_df.head()"
   ]
  },
  {
   "cell_type": "code",
   "execution_count": null,
   "metadata": {
    "id": "ZJdEVHQHmwuJ"
   },
   "outputs": [],
   "source": [
    "def getOrginalMoviesIds(mapped_movie_ids):\n",
    "    original_movieIds= []\n",
    "    for _id in mapped_movie_ids:\n",
    "#         print(_id)\n",
    "        original_movieIds.append(original_movieID_dict[int(_id)])\n",
    "    return original_movieIds\n"
   ]
  },
  {
   "cell_type": "code",
   "execution_count": null,
   "metadata": {
    "colab": {
     "base_uri": "https://localhost:8080/"
    },
    "id": "xrSpx_XJmw26",
    "outputId": "7339b40b-7c32-4424-fd23-52d825dd4e22"
   },
   "outputs": [
    {
     "name": "stdout",
     "output_type": "stream",
     "text": [
      "[377, 51]\n"
     ]
    }
   ],
   "source": [
    "print(getOrginalMoviesIds(['3','4']))"
   ]
  },
  {
   "cell_type": "code",
   "execution_count": null,
   "metadata": {
    "id": "T2L45HIdmxEi"
   },
   "outputs": [],
   "source": [
    "### Calculate Precision and Recall\n",
    "\n",
    "def getPrecision(total_count, common_count):\n",
    "    if(total_count ==0):\n",
    "        return 0\n",
    "    return (common_count/total_count)\n",
    "\n",
    "def getRecall(total_count, common_count):\n",
    "    if(total_count ==0):\n",
    "        return 1\n",
    "    return (common_count/total_count)\n",
    "\n",
    "def getf1score(precision, recall):\n",
    "    if(precision == 0 and recall == 0 ):\n",
    "        return 0\n",
    "    return ((2 * precision * recall )/ ( precision + recall ))"
   ]
  },
  {
   "cell_type": "code",
   "execution_count": null,
   "metadata": {
    "id": "XB_qgr8Ymxa7"
   },
   "outputs": [],
   "source": [
    "### Evalute Bsi algorithm for all test users\n"
   ]
  },
  {
   "cell_type": "code",
   "execution_count": null,
   "metadata": {
    "colab": {
     "base_uri": "https://localhost:8080/"
    },
    "id": "zaXskuecmxkl",
    "outputId": "cedeb501-bca1-4655-c9c5-fef4fd1a0e68"
   },
   "outputs": [
    {
     "name": "stdout",
     "output_type": "stream",
     "text": [
      "11360\n"
     ]
    }
   ],
   "source": [
    "# get_test_rec_movieIds\n",
    "count = 0\n",
    "input_file = open('test_recommendation_bsi.txt','r')\n",
    "\n",
    "userIds = []\n",
    "actual_movies_watched = []\n",
    "recomendations = []\n",
    "common_movies = []\n",
    "similar_usres_k = []\n",
    "precision = []\n",
    "recall = []\n",
    "f1score = []\n",
    "\n",
    "while (True):\n",
    "    line = input_file.readline()\n",
    "    if not line:\n",
    "        break\n",
    "    count +=1\n",
    "    \n",
    "    values = line.split(\", \")\n",
    "    userid = values[0]\n",
    "    userK = values[1]\n",
    "    no_recomendations = values[2]\n",
    "    recomendations_for_user = values[3:]\n",
    "    \n",
    "    recomendations_for_user.pop() ## removing last null(\\n) value\n",
    "    \n",
    "    actual_movies_wated_by_users = get_test_rec_movieIds(int(userid)) # movies in test data  #\n",
    "    common_count = find_common(actual_movies_wated_by_users, recomendations_for_user) # movies in algo's predictions\n",
    "    \n",
    "#     print(userId,userK,no_recomendations)\n",
    "#     print(common_count)\n",
    "\n",
    "    userIds.append(userid)\n",
    "    similar_usres_k.append(int(userK))\n",
    "    actual_movies_watched.append(len(actual_movies_wated_by_users)) \n",
    "    recomendations.append(int(no_recomendations))\n",
    "    common_movies.append(common_count)\n",
    "    \n",
    "    total_count_for_precision = int(no_recomendations) # actual results\n",
    "    total_count_for_recall = len(actual_movies_wated_by_users)\n",
    "    \n",
    "    temp_Precision = getPrecision(total_count_for_precision, common_count)\n",
    "    precision.append(temp_Precision)\n",
    "    temp_recall = getRecall(total_count_for_recall, common_count)\n",
    "    recall.append(temp_recall)\n",
    "    f1score.append(getf1score(temp_Precision, temp_recall))\n",
    "    \n",
    "print(count)\n",
    "# 568(test_users) * userK(4 len of list) * itemK(5 len of list) = 11360 test_recommendation_bsi.txt rows "
   ]
  },
  {
   "cell_type": "code",
   "execution_count": null,
   "metadata": {
    "id": "fTtLGkqOmxp9"
   },
   "outputs": [],
   "source": [
    "# storing precision and recall in new dict and dataframe\n",
    "result_df_dict = {\"userId\":userIds,\"actual_movies_watched\":actual_movies_watched,\n",
    "                  \"recomendations\":recomendations,\"common_movies\":common_movies,\n",
    "                  \"similar_usres_k\":similar_usres_k, \"precision\": precision, \"recall\": recall, \"f1_score\": f1score}"
   ]
  },
  {
   "cell_type": "code",
   "execution_count": null,
   "metadata": {
    "colab": {
     "base_uri": "https://localhost:8080/",
     "height": 419
    },
    "id": "yG3OAXjhrz0c",
    "outputId": "1ced4480-4e94-4a25-e0d7-241f4fa0b71a"
   },
   "outputs": [
    {
     "data": {
      "text/html": [
       "<div>\n",
       "<style scoped>\n",
       "    .dataframe tbody tr th:only-of-type {\n",
       "        vertical-align: middle;\n",
       "    }\n",
       "\n",
       "    .dataframe tbody tr th {\n",
       "        vertical-align: top;\n",
       "    }\n",
       "\n",
       "    .dataframe thead th {\n",
       "        text-align: right;\n",
       "    }\n",
       "</style>\n",
       "<table border=\"1\" class=\"dataframe\">\n",
       "  <thead>\n",
       "    <tr style=\"text-align: right;\">\n",
       "      <th></th>\n",
       "      <th>userId</th>\n",
       "      <th>actual_movies_watched</th>\n",
       "      <th>recomendations</th>\n",
       "      <th>common_movies</th>\n",
       "      <th>similar_usres_k</th>\n",
       "      <th>precision</th>\n",
       "      <th>recall</th>\n",
       "      <th>f1_score</th>\n",
       "    </tr>\n",
       "  </thead>\n",
       "  <tbody>\n",
       "    <tr>\n",
       "      <th>0</th>\n",
       "      <td>1</td>\n",
       "      <td>28</td>\n",
       "      <td>5</td>\n",
       "      <td>0</td>\n",
       "      <td>5</td>\n",
       "      <td>0.00</td>\n",
       "      <td>0.000000</td>\n",
       "      <td>0.000000</td>\n",
       "    </tr>\n",
       "    <tr>\n",
       "      <th>1</th>\n",
       "      <td>1</td>\n",
       "      <td>28</td>\n",
       "      <td>10</td>\n",
       "      <td>0</td>\n",
       "      <td>5</td>\n",
       "      <td>0.00</td>\n",
       "      <td>0.000000</td>\n",
       "      <td>0.000000</td>\n",
       "    </tr>\n",
       "    <tr>\n",
       "      <th>2</th>\n",
       "      <td>1</td>\n",
       "      <td>28</td>\n",
       "      <td>25</td>\n",
       "      <td>1</td>\n",
       "      <td>5</td>\n",
       "      <td>0.04</td>\n",
       "      <td>0.035714</td>\n",
       "      <td>0.037736</td>\n",
       "    </tr>\n",
       "    <tr>\n",
       "      <th>3</th>\n",
       "      <td>1</td>\n",
       "      <td>28</td>\n",
       "      <td>50</td>\n",
       "      <td>1</td>\n",
       "      <td>5</td>\n",
       "      <td>0.02</td>\n",
       "      <td>0.035714</td>\n",
       "      <td>0.025641</td>\n",
       "    </tr>\n",
       "    <tr>\n",
       "      <th>4</th>\n",
       "      <td>1</td>\n",
       "      <td>28</td>\n",
       "      <td>100</td>\n",
       "      <td>2</td>\n",
       "      <td>5</td>\n",
       "      <td>0.02</td>\n",
       "      <td>0.071429</td>\n",
       "      <td>0.031250</td>\n",
       "    </tr>\n",
       "    <tr>\n",
       "      <th>...</th>\n",
       "      <td>...</td>\n",
       "      <td>...</td>\n",
       "      <td>...</td>\n",
       "      <td>...</td>\n",
       "      <td>...</td>\n",
       "      <td>...</td>\n",
       "      <td>...</td>\n",
       "      <td>...</td>\n",
       "    </tr>\n",
       "    <tr>\n",
       "      <th>11355</th>\n",
       "      <td>943</td>\n",
       "      <td>19</td>\n",
       "      <td>5</td>\n",
       "      <td>0</td>\n",
       "      <td>25</td>\n",
       "      <td>0.00</td>\n",
       "      <td>0.000000</td>\n",
       "      <td>0.000000</td>\n",
       "    </tr>\n",
       "    <tr>\n",
       "      <th>11356</th>\n",
       "      <td>943</td>\n",
       "      <td>19</td>\n",
       "      <td>10</td>\n",
       "      <td>0</td>\n",
       "      <td>25</td>\n",
       "      <td>0.00</td>\n",
       "      <td>0.000000</td>\n",
       "      <td>0.000000</td>\n",
       "    </tr>\n",
       "    <tr>\n",
       "      <th>11357</th>\n",
       "      <td>943</td>\n",
       "      <td>19</td>\n",
       "      <td>25</td>\n",
       "      <td>0</td>\n",
       "      <td>25</td>\n",
       "      <td>0.00</td>\n",
       "      <td>0.000000</td>\n",
       "      <td>0.000000</td>\n",
       "    </tr>\n",
       "    <tr>\n",
       "      <th>11358</th>\n",
       "      <td>943</td>\n",
       "      <td>19</td>\n",
       "      <td>50</td>\n",
       "      <td>1</td>\n",
       "      <td>25</td>\n",
       "      <td>0.02</td>\n",
       "      <td>0.052632</td>\n",
       "      <td>0.028986</td>\n",
       "    </tr>\n",
       "    <tr>\n",
       "      <th>11359</th>\n",
       "      <td>943</td>\n",
       "      <td>19</td>\n",
       "      <td>100</td>\n",
       "      <td>3</td>\n",
       "      <td>25</td>\n",
       "      <td>0.03</td>\n",
       "      <td>0.157895</td>\n",
       "      <td>0.050420</td>\n",
       "    </tr>\n",
       "  </tbody>\n",
       "</table>\n",
       "<p>11360 rows × 8 columns</p>\n",
       "</div>"
      ],
      "text/plain": [
       "       userId  actual_movies_watched  ...    recall  f1_score\n",
       "0           1                     28  ...  0.000000  0.000000\n",
       "1           1                     28  ...  0.000000  0.000000\n",
       "2           1                     28  ...  0.035714  0.037736\n",
       "3           1                     28  ...  0.035714  0.025641\n",
       "4           1                     28  ...  0.071429  0.031250\n",
       "...       ...                    ...  ...       ...       ...\n",
       "11355     943                     19  ...  0.000000  0.000000\n",
       "11356     943                     19  ...  0.000000  0.000000\n",
       "11357     943                     19  ...  0.000000  0.000000\n",
       "11358     943                     19  ...  0.052632  0.028986\n",
       "11359     943                     19  ...  0.157895  0.050420\n",
       "\n",
       "[11360 rows x 8 columns]"
      ]
     },
     "execution_count": 246,
     "metadata": {},
     "output_type": "execute_result"
    }
   ],
   "source": [
    "result_bsi_df = pd.DataFrame(result_df_dict)\n",
    "result_bsi_df.head(25)\n",
    "result_bsi_df = result_bsi_df.astype({\"userId\": int})\n",
    "result_bsi_df"
   ]
  },
  {
   "cell_type": "code",
   "execution_count": null,
   "metadata": {
    "colab": {
     "base_uri": "https://localhost:8080/",
     "height": 419
    },
    "id": "OY5c28sRsOq6",
    "outputId": "8162f984-ef2c-47ab-a5ad-998c6108d2ce"
   },
   "outputs": [
    {
     "data": {
      "text/html": [
       "<div>\n",
       "<style scoped>\n",
       "    .dataframe tbody tr th:only-of-type {\n",
       "        vertical-align: middle;\n",
       "    }\n",
       "\n",
       "    .dataframe tbody tr th {\n",
       "        vertical-align: top;\n",
       "    }\n",
       "\n",
       "    .dataframe thead th {\n",
       "        text-align: right;\n",
       "    }\n",
       "</style>\n",
       "<table border=\"1\" class=\"dataframe\">\n",
       "  <thead>\n",
       "    <tr style=\"text-align: right;\">\n",
       "      <th></th>\n",
       "      <th>userId</th>\n",
       "      <th>actual_movies_watched</th>\n",
       "      <th>recomendations</th>\n",
       "      <th>common_movies</th>\n",
       "      <th>similar_usres_k</th>\n",
       "      <th>precision</th>\n",
       "      <th>recall</th>\n",
       "      <th>f1_score</th>\n",
       "    </tr>\n",
       "  </thead>\n",
       "  <tbody>\n",
       "    <tr>\n",
       "      <th>9770</th>\n",
       "      <td>806</td>\n",
       "      <td>11</td>\n",
       "      <td>5</td>\n",
       "      <td>3</td>\n",
       "      <td>20</td>\n",
       "      <td>0.6</td>\n",
       "      <td>0.272727</td>\n",
       "      <td>0.375000</td>\n",
       "    </tr>\n",
       "    <tr>\n",
       "      <th>4670</th>\n",
       "      <td>379</td>\n",
       "      <td>28</td>\n",
       "      <td>5</td>\n",
       "      <td>3</td>\n",
       "      <td>20</td>\n",
       "      <td>0.6</td>\n",
       "      <td>0.107143</td>\n",
       "      <td>0.181818</td>\n",
       "    </tr>\n",
       "    <tr>\n",
       "      <th>4835</th>\n",
       "      <td>389</td>\n",
       "      <td>30</td>\n",
       "      <td>5</td>\n",
       "      <td>2</td>\n",
       "      <td>25</td>\n",
       "      <td>0.4</td>\n",
       "      <td>0.066667</td>\n",
       "      <td>0.114286</td>\n",
       "    </tr>\n",
       "    <tr>\n",
       "      <th>4235</th>\n",
       "      <td>339</td>\n",
       "      <td>39</td>\n",
       "      <td>5</td>\n",
       "      <td>2</td>\n",
       "      <td>25</td>\n",
       "      <td>0.4</td>\n",
       "      <td>0.051282</td>\n",
       "      <td>0.090909</td>\n",
       "    </tr>\n",
       "    <tr>\n",
       "      <th>4830</th>\n",
       "      <td>389</td>\n",
       "      <td>30</td>\n",
       "      <td>5</td>\n",
       "      <td>2</td>\n",
       "      <td>20</td>\n",
       "      <td>0.4</td>\n",
       "      <td>0.066667</td>\n",
       "      <td>0.114286</td>\n",
       "    </tr>\n",
       "    <tr>\n",
       "      <th>...</th>\n",
       "      <td>...</td>\n",
       "      <td>...</td>\n",
       "      <td>...</td>\n",
       "      <td>...</td>\n",
       "      <td>...</td>\n",
       "      <td>...</td>\n",
       "      <td>...</td>\n",
       "      <td>...</td>\n",
       "    </tr>\n",
       "    <tr>\n",
       "      <th>5876</th>\n",
       "      <td>465</td>\n",
       "      <td>8</td>\n",
       "      <td>10</td>\n",
       "      <td>0</td>\n",
       "      <td>25</td>\n",
       "      <td>0.0</td>\n",
       "      <td>0.000000</td>\n",
       "      <td>0.000000</td>\n",
       "    </tr>\n",
       "    <tr>\n",
       "      <th>5875</th>\n",
       "      <td>465</td>\n",
       "      <td>8</td>\n",
       "      <td>5</td>\n",
       "      <td>0</td>\n",
       "      <td>25</td>\n",
       "      <td>0.0</td>\n",
       "      <td>0.000000</td>\n",
       "      <td>0.000000</td>\n",
       "    </tr>\n",
       "    <tr>\n",
       "      <th>5874</th>\n",
       "      <td>465</td>\n",
       "      <td>8</td>\n",
       "      <td>100</td>\n",
       "      <td>0</td>\n",
       "      <td>20</td>\n",
       "      <td>0.0</td>\n",
       "      <td>0.000000</td>\n",
       "      <td>0.000000</td>\n",
       "    </tr>\n",
       "    <tr>\n",
       "      <th>5873</th>\n",
       "      <td>465</td>\n",
       "      <td>8</td>\n",
       "      <td>50</td>\n",
       "      <td>0</td>\n",
       "      <td>20</td>\n",
       "      <td>0.0</td>\n",
       "      <td>0.000000</td>\n",
       "      <td>0.000000</td>\n",
       "    </tr>\n",
       "    <tr>\n",
       "      <th>0</th>\n",
       "      <td>1</td>\n",
       "      <td>28</td>\n",
       "      <td>5</td>\n",
       "      <td>0</td>\n",
       "      <td>5</td>\n",
       "      <td>0.0</td>\n",
       "      <td>0.000000</td>\n",
       "      <td>0.000000</td>\n",
       "    </tr>\n",
       "  </tbody>\n",
       "</table>\n",
       "<p>11360 rows × 8 columns</p>\n",
       "</div>"
      ],
      "text/plain": [
       "      userId  actual_movies_watched  ...    recall  f1_score\n",
       "9770     806                     11  ...  0.272727  0.375000\n",
       "4670     379                     28  ...  0.107143  0.181818\n",
       "4835     389                     30  ...  0.066667  0.114286\n",
       "4235     339                     39  ...  0.051282  0.090909\n",
       "4830     389                     30  ...  0.066667  0.114286\n",
       "...      ...                    ...  ...       ...       ...\n",
       "5876     465                      8  ...  0.000000  0.000000\n",
       "5875     465                      8  ...  0.000000  0.000000\n",
       "5874     465                      8  ...  0.000000  0.000000\n",
       "5873     465                      8  ...  0.000000  0.000000\n",
       "0          1                     28  ...  0.000000  0.000000\n",
       "\n",
       "[11360 rows x 8 columns]"
      ]
     },
     "execution_count": 247,
     "metadata": {},
     "output_type": "execute_result"
    }
   ],
   "source": [
    "result_bsi_df.sort_values('precision', ascending=False)"
   ]
  },
  {
   "cell_type": "code",
   "execution_count": null,
   "metadata": {
    "colab": {
     "base_uri": "https://localhost:8080/",
     "height": 419
    },
    "id": "quFID4RDsery",
    "outputId": "cef39cbd-a186-4b5a-b913-a3de69189826"
   },
   "outputs": [
    {
     "data": {
      "text/html": [
       "<div>\n",
       "<style scoped>\n",
       "    .dataframe tbody tr th:only-of-type {\n",
       "        vertical-align: middle;\n",
       "    }\n",
       "\n",
       "    .dataframe tbody tr th {\n",
       "        vertical-align: top;\n",
       "    }\n",
       "\n",
       "    .dataframe thead th {\n",
       "        text-align: right;\n",
       "    }\n",
       "</style>\n",
       "<table border=\"1\" class=\"dataframe\">\n",
       "  <thead>\n",
       "    <tr style=\"text-align: right;\">\n",
       "      <th></th>\n",
       "      <th>userId</th>\n",
       "      <th>actual_movies_watched</th>\n",
       "      <th>recomendations</th>\n",
       "      <th>common_movies</th>\n",
       "      <th>similar_usres_k</th>\n",
       "      <th>precision</th>\n",
       "      <th>recall</th>\n",
       "      <th>f1_score</th>\n",
       "    </tr>\n",
       "  </thead>\n",
       "  <tbody>\n",
       "    <tr>\n",
       "      <th>3294</th>\n",
       "      <td>275</td>\n",
       "      <td>3</td>\n",
       "      <td>100</td>\n",
       "      <td>2</td>\n",
       "      <td>20</td>\n",
       "      <td>0.02</td>\n",
       "      <td>0.666667</td>\n",
       "      <td>0.038835</td>\n",
       "    </tr>\n",
       "    <tr>\n",
       "      <th>3293</th>\n",
       "      <td>275</td>\n",
       "      <td>3</td>\n",
       "      <td>50</td>\n",
       "      <td>2</td>\n",
       "      <td>20</td>\n",
       "      <td>0.04</td>\n",
       "      <td>0.666667</td>\n",
       "      <td>0.075472</td>\n",
       "    </tr>\n",
       "    <tr>\n",
       "      <th>3289</th>\n",
       "      <td>275</td>\n",
       "      <td>3</td>\n",
       "      <td>100</td>\n",
       "      <td>2</td>\n",
       "      <td>10</td>\n",
       "      <td>0.02</td>\n",
       "      <td>0.666667</td>\n",
       "      <td>0.038835</td>\n",
       "    </tr>\n",
       "    <tr>\n",
       "      <th>3288</th>\n",
       "      <td>275</td>\n",
       "      <td>3</td>\n",
       "      <td>50</td>\n",
       "      <td>2</td>\n",
       "      <td>10</td>\n",
       "      <td>0.04</td>\n",
       "      <td>0.666667</td>\n",
       "      <td>0.075472</td>\n",
       "    </tr>\n",
       "    <tr>\n",
       "      <th>3284</th>\n",
       "      <td>275</td>\n",
       "      <td>3</td>\n",
       "      <td>100</td>\n",
       "      <td>2</td>\n",
       "      <td>5</td>\n",
       "      <td>0.02</td>\n",
       "      <td>0.666667</td>\n",
       "      <td>0.038835</td>\n",
       "    </tr>\n",
       "    <tr>\n",
       "      <th>...</th>\n",
       "      <td>...</td>\n",
       "      <td>...</td>\n",
       "      <td>...</td>\n",
       "      <td>...</td>\n",
       "      <td>...</td>\n",
       "      <td>...</td>\n",
       "      <td>...</td>\n",
       "      <td>...</td>\n",
       "    </tr>\n",
       "    <tr>\n",
       "      <th>6181</th>\n",
       "      <td>489</td>\n",
       "      <td>12</td>\n",
       "      <td>10</td>\n",
       "      <td>0</td>\n",
       "      <td>5</td>\n",
       "      <td>0.00</td>\n",
       "      <td>0.000000</td>\n",
       "      <td>0.000000</td>\n",
       "    </tr>\n",
       "    <tr>\n",
       "      <th>6180</th>\n",
       "      <td>489</td>\n",
       "      <td>12</td>\n",
       "      <td>5</td>\n",
       "      <td>0</td>\n",
       "      <td>5</td>\n",
       "      <td>0.00</td>\n",
       "      <td>0.000000</td>\n",
       "      <td>0.000000</td>\n",
       "    </tr>\n",
       "    <tr>\n",
       "      <th>1970</th>\n",
       "      <td>167</td>\n",
       "      <td>8</td>\n",
       "      <td>5</td>\n",
       "      <td>0</td>\n",
       "      <td>20</td>\n",
       "      <td>0.00</td>\n",
       "      <td>0.000000</td>\n",
       "      <td>0.000000</td>\n",
       "    </tr>\n",
       "    <tr>\n",
       "      <th>1971</th>\n",
       "      <td>167</td>\n",
       "      <td>8</td>\n",
       "      <td>10</td>\n",
       "      <td>0</td>\n",
       "      <td>20</td>\n",
       "      <td>0.00</td>\n",
       "      <td>0.000000</td>\n",
       "      <td>0.000000</td>\n",
       "    </tr>\n",
       "    <tr>\n",
       "      <th>0</th>\n",
       "      <td>1</td>\n",
       "      <td>28</td>\n",
       "      <td>5</td>\n",
       "      <td>0</td>\n",
       "      <td>5</td>\n",
       "      <td>0.00</td>\n",
       "      <td>0.000000</td>\n",
       "      <td>0.000000</td>\n",
       "    </tr>\n",
       "  </tbody>\n",
       "</table>\n",
       "<p>11360 rows × 8 columns</p>\n",
       "</div>"
      ],
      "text/plain": [
       "      userId  actual_movies_watched  ...    recall  f1_score\n",
       "3294     275                      3  ...  0.666667  0.038835\n",
       "3293     275                      3  ...  0.666667  0.075472\n",
       "3289     275                      3  ...  0.666667  0.038835\n",
       "3288     275                      3  ...  0.666667  0.075472\n",
       "3284     275                      3  ...  0.666667  0.038835\n",
       "...      ...                    ...  ...       ...       ...\n",
       "6181     489                     12  ...  0.000000  0.000000\n",
       "6180     489                     12  ...  0.000000  0.000000\n",
       "1970     167                      8  ...  0.000000  0.000000\n",
       "1971     167                      8  ...  0.000000  0.000000\n",
       "0          1                     28  ...  0.000000  0.000000\n",
       "\n",
       "[11360 rows x 8 columns]"
      ]
     },
     "execution_count": 248,
     "metadata": {},
     "output_type": "execute_result"
    }
   ],
   "source": [
    "result_bsi_df.sort_values('recall', ascending=False)"
   ]
  },
  {
   "cell_type": "code",
   "execution_count": null,
   "metadata": {
    "colab": {
     "base_uri": "https://localhost:8080/",
     "height": 419
    },
    "id": "vSDbsUF7ACs2",
    "outputId": "d6a84a79-37f3-48ce-8d3e-14efa6e42870"
   },
   "outputs": [
    {
     "data": {
      "text/html": [
       "<div>\n",
       "<style scoped>\n",
       "    .dataframe tbody tr th:only-of-type {\n",
       "        vertical-align: middle;\n",
       "    }\n",
       "\n",
       "    .dataframe tbody tr th {\n",
       "        vertical-align: top;\n",
       "    }\n",
       "\n",
       "    .dataframe thead th {\n",
       "        text-align: right;\n",
       "    }\n",
       "</style>\n",
       "<table border=\"1\" class=\"dataframe\">\n",
       "  <thead>\n",
       "    <tr style=\"text-align: right;\">\n",
       "      <th></th>\n",
       "      <th>userId</th>\n",
       "      <th>actual_movies_watched</th>\n",
       "      <th>recomendations</th>\n",
       "      <th>common_movies</th>\n",
       "      <th>similar_usres_k</th>\n",
       "      <th>precision</th>\n",
       "      <th>recall</th>\n",
       "      <th>f1_score</th>\n",
       "    </tr>\n",
       "  </thead>\n",
       "  <tbody>\n",
       "    <tr>\n",
       "      <th>9770</th>\n",
       "      <td>806</td>\n",
       "      <td>11</td>\n",
       "      <td>5</td>\n",
       "      <td>3</td>\n",
       "      <td>20</td>\n",
       "      <td>0.6</td>\n",
       "      <td>0.272727</td>\n",
       "      <td>0.375000</td>\n",
       "    </tr>\n",
       "    <tr>\n",
       "      <th>9776</th>\n",
       "      <td>806</td>\n",
       "      <td>11</td>\n",
       "      <td>10</td>\n",
       "      <td>3</td>\n",
       "      <td>25</td>\n",
       "      <td>0.3</td>\n",
       "      <td>0.272727</td>\n",
       "      <td>0.285714</td>\n",
       "    </tr>\n",
       "    <tr>\n",
       "      <th>9771</th>\n",
       "      <td>806</td>\n",
       "      <td>11</td>\n",
       "      <td>10</td>\n",
       "      <td>3</td>\n",
       "      <td>20</td>\n",
       "      <td>0.3</td>\n",
       "      <td>0.272727</td>\n",
       "      <td>0.285714</td>\n",
       "    </tr>\n",
       "    <tr>\n",
       "      <th>9766</th>\n",
       "      <td>806</td>\n",
       "      <td>11</td>\n",
       "      <td>10</td>\n",
       "      <td>3</td>\n",
       "      <td>10</td>\n",
       "      <td>0.3</td>\n",
       "      <td>0.272727</td>\n",
       "      <td>0.285714</td>\n",
       "    </tr>\n",
       "    <tr>\n",
       "      <th>1920</th>\n",
       "      <td>161</td>\n",
       "      <td>3</td>\n",
       "      <td>5</td>\n",
       "      <td>1</td>\n",
       "      <td>5</td>\n",
       "      <td>0.2</td>\n",
       "      <td>0.333333</td>\n",
       "      <td>0.250000</td>\n",
       "    </tr>\n",
       "    <tr>\n",
       "      <th>...</th>\n",
       "      <td>...</td>\n",
       "      <td>...</td>\n",
       "      <td>...</td>\n",
       "      <td>...</td>\n",
       "      <td>...</td>\n",
       "      <td>...</td>\n",
       "      <td>...</td>\n",
       "      <td>...</td>\n",
       "    </tr>\n",
       "    <tr>\n",
       "      <th>5641</th>\n",
       "      <td>452</td>\n",
       "      <td>22</td>\n",
       "      <td>10</td>\n",
       "      <td>0</td>\n",
       "      <td>5</td>\n",
       "      <td>0.0</td>\n",
       "      <td>0.000000</td>\n",
       "      <td>0.000000</td>\n",
       "    </tr>\n",
       "    <tr>\n",
       "      <th>5640</th>\n",
       "      <td>452</td>\n",
       "      <td>22</td>\n",
       "      <td>5</td>\n",
       "      <td>0</td>\n",
       "      <td>5</td>\n",
       "      <td>0.0</td>\n",
       "      <td>0.000000</td>\n",
       "      <td>0.000000</td>\n",
       "    </tr>\n",
       "    <tr>\n",
       "      <th>5639</th>\n",
       "      <td>451</td>\n",
       "      <td>7</td>\n",
       "      <td>100</td>\n",
       "      <td>0</td>\n",
       "      <td>25</td>\n",
       "      <td>0.0</td>\n",
       "      <td>0.000000</td>\n",
       "      <td>0.000000</td>\n",
       "    </tr>\n",
       "    <tr>\n",
       "      <th>5638</th>\n",
       "      <td>451</td>\n",
       "      <td>7</td>\n",
       "      <td>50</td>\n",
       "      <td>0</td>\n",
       "      <td>25</td>\n",
       "      <td>0.0</td>\n",
       "      <td>0.000000</td>\n",
       "      <td>0.000000</td>\n",
       "    </tr>\n",
       "    <tr>\n",
       "      <th>0</th>\n",
       "      <td>1</td>\n",
       "      <td>28</td>\n",
       "      <td>5</td>\n",
       "      <td>0</td>\n",
       "      <td>5</td>\n",
       "      <td>0.0</td>\n",
       "      <td>0.000000</td>\n",
       "      <td>0.000000</td>\n",
       "    </tr>\n",
       "  </tbody>\n",
       "</table>\n",
       "<p>11360 rows × 8 columns</p>\n",
       "</div>"
      ],
      "text/plain": [
       "      userId  actual_movies_watched  ...    recall  f1_score\n",
       "9770     806                     11  ...  0.272727  0.375000\n",
       "9776     806                     11  ...  0.272727  0.285714\n",
       "9771     806                     11  ...  0.272727  0.285714\n",
       "9766     806                     11  ...  0.272727  0.285714\n",
       "1920     161                      3  ...  0.333333  0.250000\n",
       "...      ...                    ...  ...       ...       ...\n",
       "5641     452                     22  ...  0.000000  0.000000\n",
       "5640     452                     22  ...  0.000000  0.000000\n",
       "5639     451                      7  ...  0.000000  0.000000\n",
       "5638     451                      7  ...  0.000000  0.000000\n",
       "0          1                     28  ...  0.000000  0.000000\n",
       "\n",
       "[11360 rows x 8 columns]"
      ]
     },
     "execution_count": 249,
     "metadata": {},
     "output_type": "execute_result"
    }
   ],
   "source": [
    "result_bsi_df.sort_values('f1_score', ascending=False)"
   ]
  },
  {
   "cell_type": "code",
   "execution_count": null,
   "metadata": {
    "id": "TWYo6xjm0MbW"
   },
   "outputs": [],
   "source": [
    "result_bsi_df_5 = result_bsi_df.loc[result_bsi_df['recomendations']==5]\n",
    "result_bsi_df_10 = result_bsi_df.loc[result_bsi_df['recomendations']==10]\n",
    "result_bsi_df_25 = result_bsi_df.loc[result_bsi_df['recomendations']==25]\n",
    "result_bsi_df_50 = result_bsi_df.loc[result_bsi_df['recomendations']==50]\n",
    "result_bsi_df_100 = result_bsi_df.loc[result_bsi_df['recomendations']==100]"
   ]
  },
  {
   "cell_type": "code",
   "execution_count": null,
   "metadata": {
    "colab": {
     "base_uri": "https://localhost:8080/"
    },
    "id": "Go3sBhCirz_a",
    "outputId": "ef62c090-9a40-4c03-f11d-cb7224e20e02"
   },
   "outputs": [
    {
     "data": {
      "text/plain": [
       "userId                   461.948944\n",
       "actual_movies_watched     15.360915\n",
       "recomendations             5.000000\n",
       "common_movies              0.156250\n",
       "similar_usres_k           15.000000\n",
       "precision                  0.031250\n",
       "recall                     0.010309\n",
       "f1_score                   0.014389\n",
       "dtype: float64"
      ]
     },
     "execution_count": 251,
     "metadata": {},
     "output_type": "execute_result"
    }
   ],
   "source": [
    "result_bsi_df_5.mean()"
   ]
  },
  {
   "cell_type": "code",
   "execution_count": null,
   "metadata": {
    "colab": {
     "base_uri": "https://localhost:8080/"
    },
    "id": "-g6RniEaq1ss",
    "outputId": "74e79ef2-73d3-4d2c-c7d9-7aed70ba6b99"
   },
   "outputs": [
    {
     "data": {
      "text/plain": [
       "userId                   943.000000\n",
       "actual_movies_watched     70.000000\n",
       "recomendations             5.000000\n",
       "common_movies              3.000000\n",
       "similar_usres_k           25.000000\n",
       "precision                  0.600000\n",
       "recall                     0.333333\n",
       "f1_score                   0.375000\n",
       "dtype: float64"
      ]
     },
     "execution_count": 252,
     "metadata": {},
     "output_type": "execute_result"
    }
   ],
   "source": [
    "result_bsi_df_5.max()"
   ]
  },
  {
   "cell_type": "code",
   "execution_count": null,
   "metadata": {
    "colab": {
     "base_uri": "https://localhost:8080/"
    },
    "id": "Mkx8hto42WoW",
    "outputId": "c8c81d7d-17cc-4507-b21a-9027443ab34a"
   },
   "outputs": [
    {
     "data": {
      "text/plain": [
       "userId                   461.948944\n",
       "actual_movies_watched     15.360915\n",
       "recomendations            10.000000\n",
       "common_movies              0.275088\n",
       "similar_usres_k           15.000000\n",
       "precision                  0.027509\n",
       "recall                     0.018074\n",
       "f1_score                   0.019811\n",
       "dtype: float64"
      ]
     },
     "execution_count": 253,
     "metadata": {},
     "output_type": "execute_result"
    }
   ],
   "source": [
    "result_bsi_df_10.mean()"
   ]
  },
  {
   "cell_type": "code",
   "execution_count": null,
   "metadata": {
    "colab": {
     "base_uri": "https://localhost:8080/"
    },
    "id": "SDWy6TbSrD0t",
    "outputId": "44d5a0b5-a5e7-4ffc-e545-4c250e0fcbde"
   },
   "outputs": [
    {
     "data": {
      "text/plain": [
       "userId                   943.000000\n",
       "actual_movies_watched     70.000000\n",
       "recomendations            10.000000\n",
       "common_movies              3.000000\n",
       "similar_usres_k           25.000000\n",
       "precision                  0.300000\n",
       "recall                     0.333333\n",
       "f1_score                   0.285714\n",
       "dtype: float64"
      ]
     },
     "execution_count": 254,
     "metadata": {},
     "output_type": "execute_result"
    }
   ],
   "source": [
    "result_bsi_df_10.max()"
   ]
  },
  {
   "cell_type": "code",
   "execution_count": null,
   "metadata": {
    "colab": {
     "base_uri": "https://localhost:8080/"
    },
    "id": "yfu-PYPe2XZA",
    "outputId": "5124cfcc-f2e3-48f9-aa22-2d441c19c88e"
   },
   "outputs": [
    {
     "data": {
      "text/plain": [
       "userId                   461.948944\n",
       "actual_movies_watched     15.360915\n",
       "recomendations            25.000000\n",
       "common_movies              0.543134\n",
       "similar_usres_k           15.000000\n",
       "precision                  0.021725\n",
       "recall                     0.035589\n",
       "f1_score                   0.024581\n",
       "dtype: float64"
      ]
     },
     "execution_count": 255,
     "metadata": {},
     "output_type": "execute_result"
    }
   ],
   "source": [
    "result_bsi_df_25.mean()"
   ]
  },
  {
   "cell_type": "code",
   "execution_count": null,
   "metadata": {
    "colab": {
     "base_uri": "https://localhost:8080/"
    },
    "id": "zB0ivZzsrH8M",
    "outputId": "2554790c-4072-4462-d444-232982523a36"
   },
   "outputs": [
    {
     "data": {
      "text/plain": [
       "userId                   943.000000\n",
       "actual_movies_watched     70.000000\n",
       "recomendations            25.000000\n",
       "common_movies              4.000000\n",
       "similar_usres_k           25.000000\n",
       "precision                  0.160000\n",
       "recall                     0.500000\n",
       "f1_score                   0.195122\n",
       "dtype: float64"
      ]
     },
     "execution_count": 256,
     "metadata": {},
     "output_type": "execute_result"
    }
   ],
   "source": [
    "result_bsi_df_25.max()"
   ]
  },
  {
   "cell_type": "code",
   "execution_count": null,
   "metadata": {
    "colab": {
     "base_uri": "https://localhost:8080/"
    },
    "id": "25DScT442Xsj",
    "outputId": "04be589f-8b11-4010-db48-004610b72d2a"
   },
   "outputs": [
    {
     "data": {
      "text/plain": [
       "userId                   461.948944\n",
       "actual_movies_watched     15.360915\n",
       "recomendations            50.000000\n",
       "common_movies              0.857394\n",
       "similar_usres_k           15.000000\n",
       "precision                  0.017148\n",
       "recall                     0.055974\n",
       "f1_score                   0.024437\n",
       "dtype: float64"
      ]
     },
     "execution_count": 257,
     "metadata": {},
     "output_type": "execute_result"
    }
   ],
   "source": [
    "result_bsi_df_50.mean()"
   ]
  },
  {
   "cell_type": "code",
   "execution_count": null,
   "metadata": {
    "colab": {
     "base_uri": "https://localhost:8080/"
    },
    "id": "l_F3XOxn2YQy",
    "outputId": "da3bb280-81e4-44d3-8d11-3069b4fb9c63"
   },
   "outputs": [
    {
     "data": {
      "text/plain": [
       "userId                   461.948944\n",
       "actual_movies_watched     15.360915\n",
       "recomendations           100.000000\n",
       "common_movies              1.296215\n",
       "similar_usres_k           15.000000\n",
       "precision                  0.012962\n",
       "recall                     0.084777\n",
       "f1_score                   0.021478\n",
       "dtype: float64"
      ]
     },
     "execution_count": 258,
     "metadata": {},
     "output_type": "execute_result"
    }
   ],
   "source": [
    "result_bsi_df_100.mean()"
   ]
  },
  {
   "cell_type": "code",
   "execution_count": null,
   "metadata": {
    "id": "qG5lP2cW2Yvm"
   },
   "outputs": [],
   "source": [
    "###"
   ]
  },
  {
   "cell_type": "code",
   "execution_count": null,
   "metadata": {
    "colab": {
     "base_uri": "https://localhost:8080/"
    },
    "id": "Hi9hIFDV2Sp4",
    "outputId": "763b52dc-8101-46eb-8eea-f007f4715de2"
   },
   "outputs": [
    {
     "name": "stdout",
     "output_type": "stream",
     "text": [
      "Finished\n"
     ]
    }
   ],
   "source": [
    "userId = []\n",
    "recommendations = []\n",
    "input_file_1 = open('bsi_recommendations_for_all_users.txt','r')\n",
    "while (True):\n",
    "    line = input_file_1.readline()\n",
    "    if not line:\n",
    "        break\n",
    "    count +=1\n",
    "    values = line.split(\", \")\n",
    "    user_id = values[0]\n",
    "    recomendations_for_user = values[1:]\n",
    "    recomendations_for_user.pop()\n",
    "    actual_movie_ids = getOrginalMoviesIds(recomendations_for_user)\n",
    "    userId.append(user_id)\n",
    "    recommendations.append(actual_movie_ids)\n",
    "    \n",
    "print(\"Finished\")"
   ]
  },
  {
   "cell_type": "code",
   "execution_count": null,
   "metadata": {
    "id": "xLjsFJU52fY1"
   },
   "outputs": [],
   "source": [
    "result_all_user_df_dict = {\"userID\": userId, \"recommendations\": recommendations}"
   ]
  },
  {
   "cell_type": "code",
   "execution_count": null,
   "metadata": {
    "id": "vAvCKYUJ2hUq"
   },
   "outputs": [],
   "source": [
    "result_all_user_df = pd.DataFrame(result_all_user_df_dict)"
   ]
  },
  {
   "cell_type": "code",
   "execution_count": null,
   "metadata": {
    "colab": {
     "base_uri": "https://localhost:8080/",
     "height": 419
    },
    "id": "sUOpdwo62i-y",
    "outputId": "ebfb8dbb-9025-4a3b-98c7-926bdbaa7722"
   },
   "outputs": [
    {
     "data": {
      "text/html": [
       "<div>\n",
       "<style scoped>\n",
       "    .dataframe tbody tr th:only-of-type {\n",
       "        vertical-align: middle;\n",
       "    }\n",
       "\n",
       "    .dataframe tbody tr th {\n",
       "        vertical-align: top;\n",
       "    }\n",
       "\n",
       "    .dataframe thead th {\n",
       "        text-align: right;\n",
       "    }\n",
       "</style>\n",
       "<table border=\"1\" class=\"dataframe\">\n",
       "  <thead>\n",
       "    <tr style=\"text-align: right;\">\n",
       "      <th></th>\n",
       "      <th>userID</th>\n",
       "      <th>recommendations</th>\n",
       "    </tr>\n",
       "  </thead>\n",
       "  <tbody>\n",
       "    <tr>\n",
       "      <th>0</th>\n",
       "      <td>1</td>\n",
       "      <td>[474, 603, 4, 181, 196, 143, 423, 288, 427, 23...</td>\n",
       "    </tr>\n",
       "    <tr>\n",
       "      <th>1</th>\n",
       "      <td>2</td>\n",
       "      <td>[302, 144, 95, 246, 4, 181, 196, 248, 275, 174...</td>\n",
       "    </tr>\n",
       "    <tr>\n",
       "      <th>2</th>\n",
       "      <td>3</td>\n",
       "      <td>[242, 302, 346, 222, 1, 100, 515, 288, 690, 24...</td>\n",
       "    </tr>\n",
       "    <tr>\n",
       "      <th>3</th>\n",
       "      <td>4</td>\n",
       "      <td>[302, 222, 144, 1, 98, 332, 100, 181, 196, 237...</td>\n",
       "    </tr>\n",
       "    <tr>\n",
       "      <th>4</th>\n",
       "      <td>5</td>\n",
       "      <td>[474, 265, 144, 234, 98, 193, 603, 4, 196, 143...</td>\n",
       "    </tr>\n",
       "    <tr>\n",
       "      <th>...</th>\n",
       "      <td>...</td>\n",
       "      <td>...</td>\n",
       "    </tr>\n",
       "    <tr>\n",
       "      <th>937</th>\n",
       "      <td>939</td>\n",
       "      <td>[265, 144, 1, 234, 98, 332, 100, 181, 196, 143...</td>\n",
       "    </tr>\n",
       "    <tr>\n",
       "      <th>938</th>\n",
       "      <td>940</td>\n",
       "      <td>[265, 1, 234, 98, 193, 603, 241, 4, 100, 181, ...</td>\n",
       "    </tr>\n",
       "    <tr>\n",
       "      <th>939</th>\n",
       "      <td>941</td>\n",
       "      <td>[222, 144, 95, 98, 100, 196, 423, 288, 427, 24...</td>\n",
       "    </tr>\n",
       "    <tr>\n",
       "      <th>940</th>\n",
       "      <td>942</td>\n",
       "      <td>[194, 603, 100, 181, 196, 423, 515, 526, 427, ...</td>\n",
       "    </tr>\n",
       "    <tr>\n",
       "      <th>941</th>\n",
       "      <td>943</td>\n",
       "      <td>[265, 257, 222, 144, 1, 234, 4, 143, 423, 288,...</td>\n",
       "    </tr>\n",
       "  </tbody>\n",
       "</table>\n",
       "<p>942 rows × 2 columns</p>\n",
       "</div>"
      ],
      "text/plain": [
       "    userID                                    recommendations\n",
       "0        1  [474, 603, 4, 181, 196, 143, 423, 288, 427, 23...\n",
       "1        2  [302, 144, 95, 246, 4, 181, 196, 248, 275, 174...\n",
       "2        3  [242, 302, 346, 222, 1, 100, 515, 288, 690, 24...\n",
       "3        4  [302, 222, 144, 1, 98, 332, 100, 181, 196, 237...\n",
       "4        5  [474, 265, 144, 234, 98, 193, 603, 4, 196, 143...\n",
       "..     ...                                                ...\n",
       "937    939  [265, 144, 1, 234, 98, 332, 100, 181, 196, 143...\n",
       "938    940  [265, 1, 234, 98, 193, 603, 241, 4, 100, 181, ...\n",
       "939    941  [222, 144, 95, 98, 100, 196, 423, 288, 427, 24...\n",
       "940    942  [194, 603, 100, 181, 196, 423, 515, 526, 427, ...\n",
       "941    943  [265, 257, 222, 144, 1, 234, 4, 143, 423, 288,...\n",
       "\n",
       "[942 rows x 2 columns]"
      ]
     },
     "execution_count": 262,
     "metadata": {},
     "output_type": "execute_result"
    }
   ],
   "source": [
    "result_all_user_df # one user is missing 685/686 rows are 942"
   ]
  },
  {
   "cell_type": "markdown",
   "metadata": {
    "id": "4cMeap_wAOQU"
   },
   "source": [
    "# Collaborative Filtering pyspark ( ALS Baseline)"
   ]
  },
  {
   "cell_type": "code",
   "execution_count": null,
   "metadata": {
    "colab": {
     "base_uri": "https://localhost:8080/"
    },
    "id": "AIl862RwAXFu",
    "outputId": "4e59f2bf-0b59-4e9a-c888-af9e71c41a02"
   },
   "outputs": [
    {
     "name": "stdout",
     "output_type": "stream",
     "text": [
      "Requirement already satisfied: pyspark in /usr/local/lib/python3.7/dist-packages (3.2.0)\n",
      "Requirement already satisfied: py4j==0.10.9.2 in /usr/local/lib/python3.7/dist-packages (from pyspark) (0.10.9.2)\n"
     ]
    }
   ],
   "source": [
    "!pip install pyspark"
   ]
  },
  {
   "cell_type": "code",
   "execution_count": null,
   "metadata": {
    "id": "-Yzs2X8BATvF"
   },
   "outputs": [],
   "source": [
    "import os\n",
    "import numpy as np\n",
    "from pyspark.sql import SparkSession\n",
    "from pyspark import SparkContext\n",
    "\n",
    "from pyspark.mllib.recommendation import ALS\n",
    "import math\n",
    "import pyspark.sql\n",
    "from pyspark.sql.functions import udf\n",
    "from pyspark.sql.types import *\n",
    "from pyspark.ml.evaluation import RegressionEvaluator\n",
    "import time\n"
   ]
  },
  {
   "cell_type": "code",
   "execution_count": null,
   "metadata": {
    "id": "d3uy_g7kAof3"
   },
   "outputs": [],
   "source": [
    "# Calling spark session to register application\n",
    "spark = SparkSession \\\n",
    "    .builder \\\n",
    "    .appName(\"Recom\") \\\n",
    "    .config(\"spark.recom.demo\", \"1\") \\\n",
    "    .getOrCreate()\n",
    "# lambda word: (word, 1)"
   ]
  },
  {
   "cell_type": "code",
   "execution_count": null,
   "metadata": {
    "id": "CYxEUyTcBXcj"
   },
   "outputs": [],
   "source": [
    "ratings_df = spark.read \\\n",
    "    .format(\"csv\") \\\n",
    "    .option(\"header\", \"true\") \\\n",
    "    .option(\"inferSchema\", \"true\") \\\n",
    "    .load(\"train_ratings.csv\")"
   ]
  },
  {
   "cell_type": "code",
   "execution_count": null,
   "metadata": {
    "colab": {
     "base_uri": "https://localhost:8080/"
    },
    "id": "y7XzK28zCubi",
    "outputId": "13a5ecf1-f736-42a8-cf1a-f348d0245200"
   },
   "outputs": [
    {
     "name": "stdout",
     "output_type": "stream",
     "text": [
      "+------+-------+-----------+\n",
      "|userid|movieid|movieRating|\n",
      "+------+-------+-----------+\n",
      "|   196|    242|          3|\n",
      "|   186|    302|          3|\n",
      "|    22|    377|          1|\n",
      "|   244|     51|          2|\n",
      "|   166|    346|          1|\n",
      "|   298|    474|          4|\n",
      "|   115|    265|          0|\n",
      "|   253|    465|          5|\n",
      "|   305|    451|          0|\n",
      "|     6|     86|          3|\n",
      "|    62|    257|          2|\n",
      "|   286|   1014|          5|\n",
      "|   200|    222|          0|\n",
      "|   210|     40|          3|\n",
      "|   224|     29|          3|\n",
      "|   303|    785|          3|\n",
      "|   122|    387|          5|\n",
      "|   194|    274|          0|\n",
      "|   291|   1042|          4|\n",
      "|   234|   1184|          2|\n",
      "+------+-------+-----------+\n",
      "only showing top 20 rows\n",
      "\n"
     ]
    },
    {
     "data": {
      "text/plain": [
       "100000"
      ]
     },
     "execution_count": 5,
     "metadata": {},
     "output_type": "execute_result"
    }
   ],
   "source": [
    "ratings_df.show()\n",
    "ratings_df.count()"
   ]
  },
  {
   "cell_type": "code",
   "execution_count": null,
   "metadata": {
    "colab": {
     "base_uri": "https://localhost:8080/"
    },
    "id": "CEOJt25jC3k9",
    "outputId": "4ae79def-9ed5-487f-8457-1ed906ec6d35"
   },
   "outputs": [
    {
     "data": {
      "text/plain": [
       "100000"
      ]
     },
     "execution_count": 6,
     "metadata": {},
     "output_type": "execute_result"
    }
   ],
   "source": [
    "ratings_df = ratings_df.drop('') # reduntant> no values are dropped\n",
    "ratings_df.count()"
   ]
  },
  {
   "cell_type": "markdown",
   "metadata": {
    "id": "1euF9pwKDRTW"
   },
   "source": [
    "### Drop test data from training set"
   ]
  },
  {
   "cell_type": "code",
   "execution_count": null,
   "metadata": {
    "colab": {
     "base_uri": "https://localhost:8080/"
    },
    "id": "0bxaE-PFDHqS",
    "outputId": "338cbdf1-896b-4638-eaef-41cd7534ceac"
   },
   "outputs": [
    {
     "data": {
      "text/plain": [
       "84091"
      ]
     },
     "execution_count": 7,
     "metadata": {},
     "output_type": "execute_result"
    }
   ],
   "source": [
    "ratings_df = ratings_df[ratings_df.movieRating != 0.0]\n",
    "ratings_df.summary\n",
    "ratings_df.count()"
   ]
  },
  {
   "cell_type": "code",
   "execution_count": null,
   "metadata": {
    "id": "q71EAV0_DdOb"
   },
   "outputs": [],
   "source": [
    "(trainingData,validationData,testData) = ratings_df.randomSplit([0.6,0.2,0.2],5) # randomSplit(weights, seed)"
   ]
  },
  {
   "cell_type": "code",
   "execution_count": null,
   "metadata": {
    "colab": {
     "base_uri": "https://localhost:8080/"
    },
    "id": "k_1TlIe1DlAn",
    "outputId": "18078c8e-18be-49eb-d5e3-2c3cb698ba67"
   },
   "outputs": [
    {
     "name": "stdout",
     "output_type": "stream",
     "text": [
      "+------+-------+-----------+\n",
      "|userid|movieid|movieRating|\n",
      "+------+-------+-----------+\n",
      "|     1|      2|          3|\n",
      "|     1|      3|          4|\n",
      "|     1|      6|          5|\n",
      "|     1|      7|          4|\n",
      "|     1|      9|          5|\n",
      "|     1|     10|          3|\n",
      "|     1|     12|          5|\n",
      "|     1|     13|          5|\n",
      "|     1|     14|          5|\n",
      "|     1|     15|          5|\n",
      "|     1|     16|          5|\n",
      "|     1|     21|          1|\n",
      "|     1|     22|          4|\n",
      "|     1|     24|          3|\n",
      "|     1|     25|          4|\n",
      "|     1|     27|          2|\n",
      "|     1|     28|          4|\n",
      "|     1|     29|          1|\n",
      "|     1|     31|          3|\n",
      "|     1|     32|          5|\n",
      "+------+-------+-----------+\n",
      "only showing top 20 rows\n",
      "\n",
      "50373\n",
      "16870\n",
      "16848\n"
     ]
    }
   ],
   "source": [
    "trainingData.show()\n",
    "print(trainingData.count())\n",
    "print(validationData.count())\n",
    "print(testData.count())"
   ]
  },
  {
   "cell_type": "code",
   "execution_count": null,
   "metadata": {
    "id": "AnFeBlUbDodl"
   },
   "outputs": [],
   "source": [
    "validation_for_predict = validationData.select('userid','movieid')\n",
    "test_for_predict = testData.select('userid','movieid')"
   ]
  },
  {
   "cell_type": "code",
   "execution_count": null,
   "metadata": {
    "id": "b2IE4X97Dr9Y"
   },
   "outputs": [],
   "source": [
    "seed = 5 \n",
    "iterations = 10\n",
    "regularization_parameter = 0.1 \n",
    "ranks = [4, 8, 12] "
   ]
  },
  {
   "cell_type": "code",
   "execution_count": null,
   "metadata": {
    "colab": {
     "base_uri": "https://localhost:8080/"
    },
    "id": "nzy2QRER77Yd",
    "outputId": "42eb9750-eeda-4854-a6fe-65522ae0c81e"
   },
   "outputs": [
    {
     "name": "stdout",
     "output_type": "stream",
     "text": [
      "For rank 4 the RMSE is  0.8254553665866379\n",
      "For rank 8 the RMSE is  0.7712129798364723\n",
      "For rank 12 the RMSE is  0.7339375461866569\n",
      "The best model was trained with rank 12\n"
     ]
    }
   ],
   "source": [
    "min_error = 1000\n",
    "for rank in ranks:\n",
    "    model = ALS.train(ratings_df, rank, seed=seed, iterations=iterations,\n",
    "                      lambda_=regularization_parameter)\n",
    "    \n",
    "    #converting prediction into key value pair like key=(userId,movieId) and value = rating\n",
    "    predictions = model.predictAll(validation_for_predict.rdd).map(lambda r: ((r[0], r[1]), r[2]))\n",
    "    \n",
    "    #joining predicted rating and original ratings to calculate error\n",
    "    rates_and_preds = validationData.rdd.map(lambda r: ((int(r[0]), int(r[1])), float(r[2]))).join(predictions)\n",
    "    \n",
    "    error = math.sqrt(rates_and_preds.map(lambda r: (r[1][0] - r[1][1])**2).mean()) \n",
    "\n",
    "    print ('For rank',rank, \"the RMSE is \", error)\n",
    "    if error < min_error:\n",
    "        min_error = error\n",
    "        best_rank = rank\n",
    "\n",
    "print (\"The best model was trained with rank\", best_rank)"
   ]
  },
  {
   "cell_type": "code",
   "execution_count": null,
   "metadata": {
    "id": "I1GmkvEYD-zl"
   },
   "outputs": [],
   "source": [
    "predictions_test = model.predictAll(test_for_predict.rdd).map(lambda r: ((r[0], r[1]), r[2]))"
   ]
  },
  {
   "cell_type": "code",
   "execution_count": null,
   "metadata": {
    "colab": {
     "base_uri": "https://localhost:8080/"
    },
    "id": "EDJgHk-78VML",
    "outputId": "19b96e6b-0ce9-47a3-92eb-5964b82fc513"
   },
   "outputs": [
    {
     "data": {
      "text/plain": [
       "[((436, 454), 3.7781829764828756),\n",
       " ((634, 1084), 3.032140186085046),\n",
       " ((526, 1084), 4.4657644308826265),\n",
       " ((506, 772), 2.1279597335641802),\n",
       " ((76, 772), 2.9846891068203982)]"
      ]
     },
     "execution_count": 14,
     "metadata": {},
     "output_type": "execute_result"
    }
   ],
   "source": [
    "predictions_test.take(5)"
   ]
  },
  {
   "cell_type": "markdown",
   "metadata": {
    "id": "guoMqpntEFZ0"
   },
   "source": [
    "### Get Recomendations For User\n",
    "\n",
    "This method returns original movieId where CBV algorithm returns mapped movieId"
   ]
  },
  {
   "cell_type": "code",
   "execution_count": null,
   "metadata": {
    "id": "2xS1hV6XEDr1"
   },
   "outputs": [],
   "source": [
    "def getRecommendations(user,ratings_df,trainDf,model, k):\n",
    "    \n",
    "    userDf = ratings_df.filter(ratings_df.userid == user) # for eg user = 1 ...getting all movies(rows) user1 has rated \n",
    "\n",
    "    mov = ratings_df.select('movieid').subtract(userDf.select('movieid')) # mov dataframe wont have whatever user1 has rated\n",
    "    \n",
    "    pred_rat = model.predictAll(mov.rdd.map(lambda x: (user, x[0]))).collect()\n",
    "    \n",
    "    recommendations = sorted(pred_rat, key=lambda x: x[2], reverse=True)[:k]\n",
    "    \n",
    "    return recommendations"
   ]
  },
  {
   "cell_type": "code",
   "execution_count": null,
   "metadata": {
    "colab": {
     "base_uri": "https://localhost:8080/"
    },
    "id": "OKmumSj9EUnr",
    "outputId": "4ac2467d-b353-4c83-b618-0f211731a4bb"
   },
   "outputs": [
    {
     "data": {
      "text/plain": [
       "4.222420911402509"
      ]
     },
     "execution_count": 16,
     "metadata": {},
     "output_type": "execute_result"
    }
   ],
   "source": [
    "model.predict(1,1084) # make sure product id is in the model"
   ]
  },
  {
   "cell_type": "code",
   "execution_count": null,
   "metadata": {
    "colab": {
     "base_uri": "https://localhost:8080/"
    },
    "id": "56fUAP_PElQm",
    "outputId": "7d8964d4-3b90-4178-cf13-48fd7de0414f"
   },
   "outputs": [
    {
     "name": "stdout",
     "output_type": "stream",
     "text": [
      "Movies recommended for: 1\n",
      "[1512, 1449, 408, 1495, 390, 611, 1467, 1463, 511, 657]\n"
     ]
    }
   ],
   "source": [
    "user = 1\n",
    "# how many recommendations you want\n",
    "k= 10\n",
    "\n",
    "# Call getRecommendations method\n",
    "derived_rec = getRecommendations(user, ratings_df, trainingData, model, k)\n",
    "\n",
    "print (\"Movies recommended for:\",user)\n",
    "movie_ids = []\n",
    "for i in range(len(derived_rec)):\n",
    "    movie_ids.append(derived_rec[i][1])\n",
    "#     print (i+1,derived_rec[i][1])\n",
    "\n",
    "print(movie_ids)\n",
    "#     movies_df.filter(movies_df.movieId==derived_rec[i][1]).select('title').show()"
   ]
  },
  {
   "cell_type": "code",
   "execution_count": null,
   "metadata": {
    "id": "YnqR96Y6FgUG"
   },
   "outputs": [],
   "source": [
    "temp_str = \"70, 235, 316, 333, 423, 441, 457, 480, 552, 553, 590, 4006, 72378, 538, 36, 300, 344, 380, 531, 371\""
   ]
  },
  {
   "cell_type": "code",
   "execution_count": null,
   "metadata": {
    "colab": {
     "base_uri": "https://localhost:8080/"
    },
    "id": "wGKVJoN6FhMv",
    "outputId": "0dcb01b5-eba7-4801-db79-d367ce22238f"
   },
   "outputs": [
    {
     "name": "stdout",
     "output_type": "stream",
     "text": [
      "['70', '235', '316', '333', '423', '441', '457', '480', '552', '553', '590', '4006', '72378', '538', '36', '300', '344', '380', '531', '371']\n",
      "[1512, 1449, 408, 1495, 390, 611, 1467, 1463, 511, 657]\n"
     ]
    }
   ],
   "source": [
    "bsi_movie_ids = temp_str.split(\", \") # not using bsi_movie_ids\n",
    "print(bsi_movie_ids)\n",
    "print(movie_ids)"
   ]
  },
  {
   "cell_type": "code",
   "execution_count": null,
   "metadata": {
    "colab": {
     "base_uri": "https://localhost:8080/"
    },
    "id": "O_yqfWUYFkwY",
    "outputId": "d38a5e4a-28a1-4612-d2c3-f762aebfa43e"
   },
   "outputs": [
    {
     "name": "stdout",
     "output_type": "stream",
     "text": [
      "[1, 2, 3, 5, 6, 7, 8, 10, 11, 12, 13, 14, 15, 16, 18, 21, 22, 23, 24, 25, 26, 28, 37, 38, 41, 42, 43, 44, 48, 49, 52, 54, 56, 57, 58, 59, 60, 62, 63, 64, 65, 69, 70, 72, 73, 75, 76, 77, 79, 81, 82, 83, 84, 85, 87, 89, 90, 91, 92, 94, 95, 96, 97, 99, 100, 101, 102, 104, 106, 109, 110, 113, 115, 116, 117, 118, 119, 121, 122, 123, 125, 128, 130, 135, 138, 141, 144, 145, 148, 151, 152, 154, 157, 158, 159, 160, 161, 164, 167, 168, 174, 176, 177, 178, 180, 181, 183, 184, 186, 187, 188, 189, 190, 193, 194, 195, 197, 198, 200, 201, 206, 207, 210, 213, 214, 215, 216, 217, 218, 221, 222, 223, 224, 226, 227, 230, 232, 233, 234, 235, 236, 239, 243, 244, 246, 248, 249, 250, 251, 253, 254, 255, 256, 257, 262, 263, 264, 267, 268, 269, 270, 271, 272, 274, 275, 276, 277, 279, 280, 283, 286, 287, 288, 290, 291, 292, 293, 294, 295, 296, 297, 298, 299, 301, 303, 305, 307, 308, 311, 312, 313, 314, 315, 316, 318, 320, 321, 322, 323, 324, 325, 326, 327, 328, 329, 330, 331, 332, 334, 336, 338, 339, 342, 343, 344, 345, 346, 347, 348, 350, 354, 357, 360, 361, 363, 365, 367, 370, 371, 372, 373, 374, 378, 379, 380, 381, 382, 383, 385, 387, 388, 389, 391, 392, 393, 394, 395, 396, 397, 398, 399, 401, 402, 403, 405, 406, 407, 409, 411, 412, 413, 416, 417, 421, 422, 423, 425, 426, 428, 429, 430, 432, 435, 436, 437, 440, 442, 445, 447, 449, 450, 451, 452, 453, 454, 455, 456, 457, 458, 459, 460, 463, 464, 465, 466, 468, 470, 472, 474, 476, 478, 479, 480, 481, 483, 484, 486, 487, 488, 489, 490, 492, 493, 495, 496, 497, 498, 499, 500, 501, 503, 504, 505, 506, 507, 508, 514, 518, 521, 523, 524, 525, 526, 527, 528, 532, 533, 534, 535, 536, 537, 538, 539, 540, 541, 542, 543, 545, 546, 548, 551, 552, 553, 554, 555, 557, 559, 560, 561, 562, 566, 567, 568, 569, 573, 577, 579, 582, 585, 586, 587, 588, 591, 592, 593, 595, 600, 601, 605, 606, 608, 610, 615, 617, 618, 619, 620, 621, 622, 624, 625, 627, 629, 630, 632, 633, 634, 637, 638, 639, 640, 642, 643, 645, 647, 648, 650, 653, 654, 655, 658, 659, 660, 661, 663, 664, 665, 666, 669, 671, 676, 679, 682, 683, 684, 686, 690, 693, 694, 697, 698, 699, 704, 705, 707, 708, 709, 710, 711, 712, 715, 716, 717, 719, 721, 724, 727, 731, 733, 734, 735, 738, 741, 745, 746, 747, 748, 749, 751, 752, 753, 756, 757, 758, 761, 763, 764, 766, 768, 770, 771, 773, 774, 776, 778, 780, 782, 786, 787, 788, 790, 793, 795, 796, 798, 802, 804, 805, 806, 807, 815, 821, 823, 825, 826, 828, 829, 830, 831, 833, 834, 835, 836, 838, 839, 840, 843, 844, 846, 847, 848, 850, 851, 854, 860, 862, 863, 864, 865, 867, 868, 870, 871, 872, 875, 877, 878, 880, 881, 882, 883, 885, 886, 887, 889, 890, 892, 893, 894, 896, 897, 899, 901, 903, 907, 908, 910, 911, 912, 913, 916, 918, 919, 921, 922, 923, 924, 927, 930, 931, 932, 933, 934, 936, 938, 940, 942, 943]\n"
     ]
    },
    {
     "data": {
      "text/plain": [
       "568"
      ]
     },
     "execution_count": 21,
     "metadata": {},
     "output_type": "execute_result"
    }
   ],
   "source": [
    "# test_users = [  1, 2, 3, 5, 6, 7, 8, 10, 11, 12, 13, 14, 15, 16, 18, 21,\n",
    "#                 22, 23, 24, 25, 26, 28, 37, 38, 41, 42, 43, 44, 48, 49,\n",
    "#                 52, 54, 56, 57, 58, 59, 60, 62, 63, 64, 65, 69, 70, 72,\n",
    "#                 73, 75, 76, 77, 79, 81, 82, 83, 84, 85, 87, 89, 90, 91,\n",
    "#                 92, 94, 95, 96, 97, 99, 100, 101, 102, 104, 106, 109, 110,\n",
    "#                 113, 115, 116, 117, 118, 119, 121, 122, 123, 125, 128, 130,\n",
    "#                 135, 138, 141, 144, 145, 148, 151, 152, 154, 157, 158, 159,\n",
    "#                 160, 161, 164, 167, 168, 174, 176, 177, 178, 180, 181, 183,\n",
    "#                 184, 186, 187, 188, 189, 190, 193, 194, 195, 197, 198, 200, 201,\n",
    "#                 206, 207, 210, 213, 214, 215, 216, 217, 218, 221, 222, 223, 224, 226, 227,\n",
    "#                 230, 232, 233, 234, 235, 236, 239, 243, 244, 246, 248, 249, 250, 251, 253,\n",
    "#                 254, 255, 256, 257, 262, 263, 264, 267, 268, 269, 270, 271, 272, 274, 275,\n",
    "#                 276, 277, 279, 280, 283, 286, 287, 288, 290, 291, 292, 293, 294, 295, 296,\n",
    "#                 297, 298, 299, 301, 303, 305, 307, 308, 311, 312, 313, 314, 315, 316, 318,\n",
    "#                 320, 321, 322, 323, 324, 325, 326, 327, 328, 329, 330, 331, 332, 334, 336, 338,\n",
    "#                 339, 342, 343, 344, 345, 346, 347, 348, 350, 354, 357, 360, 361, 363, 365, 367, 370,\n",
    "#                 371, 372, 373, 374, 378, 379, 380, 381, 382, 383, 385, 387, 388, 389, 391, 392, 393, 394,\n",
    "#                 395, 396, 397, 398, 399, 401, 402, 403, 405, 406, 407, 409, 411, 412, 413, 416, 417, 421, 422,\n",
    "#                 423, 425, 426, 428, 429, 430, 432, 435, 436, 437, 440, 442, 445, 447, 449, 450, 451, 452, 453, 454,\n",
    "#                 455, 456, 457, 458, 459, 460, 463, 464, 465, 466, 468, 470, 472, 474, 476, 478, 479, 480, 481, 483, 484,\n",
    "#                 486, 487, 488, 489, 490, 492, 493, 495, 496, 497, 498, 499, 500, 501, 503, 504, 505, 506,\n",
    "#                 507, 508, 514, 518, 521, 523, 524, 525, 526, 527, 528, 532, 533, 534, 535, 536, 537, 538,\n",
    "#                 539, 540, 541, 542, 543, 545, 546, 548, 551, 552, 553, 554, 555, 557, 559, 560, 561, 562,\n",
    "#                 566, 567, 568, 569, 573, 577, 579, 582, 585, 586, 587, 588, 591, 592, 593, 595, 600, 601,\n",
    "#                 605, 606, 608, 610, 615, 617, 618, 619, 620, 621, 622, 624, 625, 627, 629, 630, 632, 633,\n",
    "#                 634, 637, 638, 639, 640, 642, 643, 645, 647, 648, 650, 653, 654, 655, 658, 659, 660, 661,\n",
    "#                 663, 664, 665, 666, 669, 671, 676, 679, 682, 683, 684, 686, 690, 693, 694, 697, 698, 699,\n",
    "#                 704, 705, 707, 708, 709, 710, 711, 712, 715, 716, 717, 719, 721, 724, 727, 731, 733, 734,\n",
    "#                 735, 738, 741, 745, 746, 747, 748, 749, 751, 752, 753, 756, 757, 758, 761, 763, 764, 766, 768,\n",
    "#                 770, 771, 773, 774, 776, 778, 780, 782, 786, 787, 788, 790, 793, 795, 796, 798, 802, 804, 805,\n",
    "#                 806, 807, 815, 821, 823, 825, 826, 828, 829, 830, 831, 833, 834, 835, 836, 838, 839, 840, 843,\n",
    "#                 844, 846, 847, 848, 850, 851, 854, 860, 862, 863, 864, 865, 867, 868, 870, 871, 872, 875, 877,\n",
    "#                 878, 880, 881, 882, 883, 885, 886, 887, 889, 890, 892, 893, 894, 896, 897, 899, 901, 903, 907, 908,\n",
    "#                 910, 911, 912, 913, 916, 918, 919, 921, 922, 923, 924, 927, 930, 931, 932, 933, 934, 936, 938, 940, 942, 943]\n",
    "\n",
    "test_users_list = [1, 2, 3, 5, 6, 7, 8, 10, 11, 12, 13, 14, 15, 16, 18, 21, 22, 23, 24, 25, 26, 28, 37, 38, 41, 42, 43, 44, 48, 49, 52, 54, 56, 57, 58, 59, 60, 62, 63, 64, 65, 69, 70, 72, 73, 75, 76, 77, 79, 81, 82, 83, 84, 85, 87, 89, 90, 91, 92, 94, 95, 96, 97, 99, 100, 101, 102, 104, 106, 109, 110, 113, 115, 116, 117, 118, 119, 121, 122, 123, 125, 128, 130, 135, 138, 141, 144, 145, 148, 151, 152, 154, 157, 158, 159, 160, 161, 164, 167, 168, 174, 176, 177, 178, 180, 181, 183, 184, 186, 187, 188, 189, 190, 193, 194, 195, 197, 198, 200, 201, 206, 207, 210, 213, 214, 215, 216, 217, 218, 221, 222, 223, 224, 226, 227, 230, 232, 233, 234, 235, 236, 239, 243, 244, 246, 248, 249, 250, 251, 253, 254, 255, 256, 257, 262, 263, 264, 267, 268, 269, 270, 271, 272, 274, 275, 276, 277, 279, 280, 283, 286, 287, 288, 290, 291, 292, 293, 294, 295, 296, 297, 298, 299, 301, 303, 305, 307, 308, 311, 312, 313, 314, 315, 316, 318, 320, 321, 322, 323, 324, 325, 326, 327, 328, 329, 330, 331, 332, 334, 336, 338, 339, 342, 343, 344, 345, 346, 347, 348, 350, 354, 357, 360, 361, 363, 365, 367, 370, 371, 372, 373, 374, 378, 379, 380, 381, 382, 383, 385, 387, 388, 389, 391, 392, 393, 394, 395, 396, 397, 398, 399, 401, 402, 403, 405, 406, 407, 409, 411, 412, 413, 416, 417, 421, 422, 423, 425, 426, 428, 429, 430, 432, 435, 436, 437, 440, 442, 445, 447, 449, 450, 451, 452, 453, 454, 455, 456, 457, 458, 459, 460, 463, 464, 465, 466, 468, 470, 472, 474, 476, 478, 479, 480, 481, 483, 484, 486, 487, 488, 489, 490, 492, 493, 495, 496, 497, 498, 499, 500, 501, 503, 504, 505, 506, 507, 508, 514, 518, 521, 523, 524, 525, 526, 527, 528, 532, 533, 534, 535, 536, 537, 538, 539, 540, 541, 542, 543, 545, 546, 548, 551, 552, 553, 554, 555, 557, 559, 560, 561, 562, 566, 567, 568, 569, 573, 577, 579, 582, 585, 586, 587, 588, 591, 592, 593, 595, 600, 601, 605, 606, 608, 610, 615, 617, 618, 619, 620, 621, 622, 624, 625, 627, 629, 630, 632, 633, 634, 637, 638, 639, 640, 642, 643, 645, 647, 648, 650, 653, 654, 655, 658, 659, 660, 661, 663, 664, 665, 666, 669, 671, 676, 679, 682, 683, 684, 686, 690, 693, 694, 697, 698, 699, 704, 705, 707, 708, 709, 710, 711, 712, 715, 716, 717, 719, 721, 724, 727, 731, 733, 734, 735, 738, 741, 745, 746, 747, 748, 749, 751, 752, 753, 756, 757, 758, 761, 763, 764, 766, 768, 770, 771, 773, 774, 776, 778, 780, 782, 786, 787, 788, 790, 793, 795, 796, 798, 802, 804, 805, 806, 807, 815, 821, 823, 825, 826, 828, 829, 830, 831, 833, 834, 835, 836, 838, 839, 840, 843, 844, 846, 847, 848, 850, 851, 854, 860, 862, 863, 864, 865, 867, 868, 870, 871, 872, 875, 877, 878, 880, 881, 882, 883, 885, 886, 887, 889, 890, 892, 893, 894, 896, 897, 899, 901, 903, 907, 908, 910, 911, 912, 913, 916, 918, 919, 921, 922, 923, 924, 927, 930, 931, 932, 933, 934, 936, 938, 940, 942, 943]\n",
    "print(test_users_list)\n",
    "#test_users = test_data.userid.unique()\n",
    "# userKs = [5,10,20,25] # add this in final run\n",
    "# itemKs = [5, 10, 25, 50 ,100]\n",
    "userKs = [5]\n",
    "itemKs = [10]\n",
    "len(test_users_list)\n",
    "\n",
    "# 568(test_users) * userK(4 len of list) * itemK(5 len of list) = 11360 test_recommendation_bsi.txt rows "
   ]
  },
  {
   "cell_type": "code",
   "execution_count": null,
   "metadata": {
    "id": "HnREatcvFnRj"
   },
   "outputs": [],
   "source": [
    "# remaining_test_users = [487,488,489,490,491,492,493,495,\n",
    "#               497,500,503,504,509,510,511,512,517,520,522,523,524,525,526,527,528,532,534,541,542,543,546,551,552,\n",
    "#               554,555,558,559,560,561,562,563,564,566,567,570,571,572,573,577,579,582,583,584,585,586,587,588,590,\n",
    "#               591,592,593,594,596,597,599,600,601,603,604,605,606,607,608] # this was prev dataset\n",
    "# remaining_test_users not being used anywhere"
   ]
  },
  {
   "cell_type": "code",
   "execution_count": null,
   "metadata": {
    "id": "c_qJ9LieFrL1"
   },
   "outputs": [],
   "source": [
    "def recomendMoviesForAllUsers(test_users, itemKs,testData,trainingData,model):\n",
    "    output_file = open(\"test_recommendations_als_5_10.txt\", \"a\")\n",
    "    for u in range(len(test_users)):\n",
    "        user = test_users[u]\n",
    "        for itemk in itemKs:\n",
    "            derived_rec = getRecommendations(user,testData,trainingData,model,itemk)\n",
    "            \n",
    "            output_file.write(str(user)+\", \")\n",
    "            output_file.write(str(5)+\", \")\n",
    "            for i in range(5):\n",
    "                output_file.write(str(derived_rec[i][1])+\", \")\n",
    "            output_file.write(\"\\n\")\n",
    "                \n",
    "            output_file.write(str(user)+\", \")\n",
    "            output_file.write(str(itemk)+\", \")\n",
    "            for i in range(len(derived_rec)):\n",
    "                output_file.write(str(derived_rec[i][1])+\", \")\n",
    "            output_file.write(\"\\n\")"
   ]
  },
  {
   "cell_type": "code",
   "execution_count": null,
   "metadata": {
    "colab": {
     "base_uri": "https://localhost:8080/"
    },
    "id": "SLQbU4wUFtny",
    "outputId": "82e56b29-1507-4cc3-8c80-a3cbb1792581"
   },
   "outputs": [
    {
     "name": "stdout",
     "output_type": "stream",
     "text": [
      "635.5835509300232\n"
     ]
    }
   ],
   "source": [
    "start = time.time()\n",
    "derived_rec = recomendMoviesForAllUsers(test_users_list,itemKs,testData,trainingData,model)\n",
    "end = time.time()\n",
    "print(end - start)\n"
   ]
  },
  {
   "cell_type": "code",
   "execution_count": null,
   "metadata": {
    "id": "K6XAkIU8meSg"
   },
   "outputs": [],
   "source": [
    "###  Get movies which is rated (>3.0) by user in test data for ALS\n",
    "\n",
    "def get_test_rec_movieIds_als(userId):\n",
    "    user_df = test_data[test_data.userid == userId]\n",
    "    user_movie_df = user_df[user_df.movieRating > 5.0]\n",
    "    original_movieIds = user_movie_df.movieid.unique()\n",
    "    return list(original_movieIds)"
   ]
  },
  {
   "cell_type": "code",
   "execution_count": null,
   "metadata": {
    "colab": {
     "base_uri": "https://localhost:8080/"
    },
    "id": "Oq5ZIbrqzaBh",
    "outputId": "320cb657-7478-451f-ab7e-e94b083f67a0"
   },
   "outputs": [
    {
     "name": "stdout",
     "output_type": "stream",
     "text": [
      "1136\n"
     ]
    }
   ],
   "source": [
    "# get_test_rec_movieIds\n",
    "count = 0\n",
    "input_file = open('test_recommendations_als_5_10.txt','r')\n",
    "\n",
    "userIds = []\n",
    "actual_movies_watched = []\n",
    "recomendations = []\n",
    "common_movies = []\n",
    "precision = []\n",
    "recall = []\n",
    "f1score = []\n",
    "\n",
    "while (True):\n",
    "    line = input_file.readline()\n",
    "    if not line:\n",
    "        break\n",
    "    count +=1\n",
    "    values = line.split(\", \")\n",
    "    userId = values[0]\n",
    "    no_recomendations = values[1]\n",
    "    recomendations_for_user = values[2:]\n",
    "    \n",
    "    recomendations_for_user.pop() ## removing last null(\\n) value\n",
    "    \n",
    "    actual_movies_watched_by_users = get_test_rec_movieIds_als(int(userId)) # movies in test data\n",
    "#     print(count)\n",
    "    common_count = find_common(actual_movies_watched_by_users, recomendations_for_user) # movies in algo's predictions\n",
    "    \n",
    "#     print(userId,userK,no_recomendations)\n",
    "#     print(common_count)\n",
    "\n",
    "    userIds.append(userId)\n",
    "    actual_movies_watched.append(len(actual_movies_watched_by_users)) \n",
    "    recomendations.append(int(no_recomendations))\n",
    "    common_movies.append(common_count)\n",
    "    \n",
    "    total_count_for_precision = int(no_recomendations)\n",
    "    total_count_for_recall = len(actual_movies_watched_by_users)\n",
    "    \n",
    "    temp_Precision = getPrecision(total_count_for_precision, common_count)\n",
    "    precision.append(temp_Precision)\n",
    "    temp_recall = getRecall(total_count_for_recall, common_count)\n",
    "    recall.append(temp_recall)\n",
    "    f1score.append(getf1score(temp_Precision, temp_recall))\n",
    "    \n",
    "print(count)\n",
    "# test_recommendations_als_5_10.txt row length"
   ]
  },
  {
   "cell_type": "code",
   "execution_count": null,
   "metadata": {
    "id": "HMACGH_n0T8A"
   },
   "outputs": [],
   "source": [
    "result_df_dict = {\"userId\":userIds,\"actual_movies_watched\":actual_movies_watched,\n",
    "                  \"recomendations\":recomendations,\"common_movies\":common_movies,\n",
    "                   \"precision\": precision, \"recall\": recall, \"f1_score\": f1score}"
   ]
  },
  {
   "cell_type": "code",
   "execution_count": null,
   "metadata": {
    "id": "_T_BBYkh0USD"
   },
   "outputs": [],
   "source": [
    "result_als_df = pd.DataFrame(result_df_dict)"
   ]
  },
  {
   "cell_type": "code",
   "execution_count": null,
   "metadata": {
    "colab": {
     "base_uri": "https://localhost:8080/",
     "height": 419
    },
    "id": "AnkmC1cA0UZK",
    "outputId": "c2e22222-9baa-448b-818d-3d7d1b2a01bf"
   },
   "outputs": [
    {
     "data": {
      "text/html": [
       "<div>\n",
       "<style scoped>\n",
       "    .dataframe tbody tr th:only-of-type {\n",
       "        vertical-align: middle;\n",
       "    }\n",
       "\n",
       "    .dataframe tbody tr th {\n",
       "        vertical-align: top;\n",
       "    }\n",
       "\n",
       "    .dataframe thead th {\n",
       "        text-align: right;\n",
       "    }\n",
       "</style>\n",
       "<table border=\"1\" class=\"dataframe\">\n",
       "  <thead>\n",
       "    <tr style=\"text-align: right;\">\n",
       "      <th></th>\n",
       "      <th>userId</th>\n",
       "      <th>actual_movies_watched</th>\n",
       "      <th>recomendations</th>\n",
       "      <th>common_movies</th>\n",
       "      <th>precision</th>\n",
       "      <th>recall</th>\n",
       "      <th>f1_score</th>\n",
       "    </tr>\n",
       "  </thead>\n",
       "  <tbody>\n",
       "    <tr>\n",
       "      <th>0</th>\n",
       "      <td>1</td>\n",
       "      <td>28</td>\n",
       "      <td>5</td>\n",
       "      <td>0</td>\n",
       "      <td>0.0</td>\n",
       "      <td>0.000000</td>\n",
       "      <td>0.000000</td>\n",
       "    </tr>\n",
       "    <tr>\n",
       "      <th>1</th>\n",
       "      <td>1</td>\n",
       "      <td>28</td>\n",
       "      <td>10</td>\n",
       "      <td>0</td>\n",
       "      <td>0.0</td>\n",
       "      <td>0.000000</td>\n",
       "      <td>0.000000</td>\n",
       "    </tr>\n",
       "    <tr>\n",
       "      <th>2</th>\n",
       "      <td>2</td>\n",
       "      <td>8</td>\n",
       "      <td>5</td>\n",
       "      <td>0</td>\n",
       "      <td>0.0</td>\n",
       "      <td>0.000000</td>\n",
       "      <td>0.000000</td>\n",
       "    </tr>\n",
       "    <tr>\n",
       "      <th>3</th>\n",
       "      <td>2</td>\n",
       "      <td>8</td>\n",
       "      <td>10</td>\n",
       "      <td>0</td>\n",
       "      <td>0.0</td>\n",
       "      <td>0.000000</td>\n",
       "      <td>0.000000</td>\n",
       "    </tr>\n",
       "    <tr>\n",
       "      <th>4</th>\n",
       "      <td>3</td>\n",
       "      <td>1</td>\n",
       "      <td>5</td>\n",
       "      <td>0</td>\n",
       "      <td>0.0</td>\n",
       "      <td>0.000000</td>\n",
       "      <td>0.000000</td>\n",
       "    </tr>\n",
       "    <tr>\n",
       "      <th>...</th>\n",
       "      <td>...</td>\n",
       "      <td>...</td>\n",
       "      <td>...</td>\n",
       "      <td>...</td>\n",
       "      <td>...</td>\n",
       "      <td>...</td>\n",
       "      <td>...</td>\n",
       "    </tr>\n",
       "    <tr>\n",
       "      <th>1131</th>\n",
       "      <td>940</td>\n",
       "      <td>13</td>\n",
       "      <td>10</td>\n",
       "      <td>0</td>\n",
       "      <td>0.0</td>\n",
       "      <td>0.000000</td>\n",
       "      <td>0.000000</td>\n",
       "    </tr>\n",
       "    <tr>\n",
       "      <th>1132</th>\n",
       "      <td>942</td>\n",
       "      <td>12</td>\n",
       "      <td>5</td>\n",
       "      <td>0</td>\n",
       "      <td>0.0</td>\n",
       "      <td>0.000000</td>\n",
       "      <td>0.000000</td>\n",
       "    </tr>\n",
       "    <tr>\n",
       "      <th>1133</th>\n",
       "      <td>942</td>\n",
       "      <td>12</td>\n",
       "      <td>10</td>\n",
       "      <td>2</td>\n",
       "      <td>0.2</td>\n",
       "      <td>0.166667</td>\n",
       "      <td>0.181818</td>\n",
       "    </tr>\n",
       "    <tr>\n",
       "      <th>1134</th>\n",
       "      <td>943</td>\n",
       "      <td>19</td>\n",
       "      <td>5</td>\n",
       "      <td>1</td>\n",
       "      <td>0.2</td>\n",
       "      <td>0.052632</td>\n",
       "      <td>0.083333</td>\n",
       "    </tr>\n",
       "    <tr>\n",
       "      <th>1135</th>\n",
       "      <td>943</td>\n",
       "      <td>19</td>\n",
       "      <td>10</td>\n",
       "      <td>1</td>\n",
       "      <td>0.1</td>\n",
       "      <td>0.052632</td>\n",
       "      <td>0.068966</td>\n",
       "    </tr>\n",
       "  </tbody>\n",
       "</table>\n",
       "<p>1136 rows × 7 columns</p>\n",
       "</div>"
      ],
      "text/plain": [
       "     userId  actual_movies_watched  ...    recall  f1_score\n",
       "0         1                     28  ...  0.000000  0.000000\n",
       "1         1                     28  ...  0.000000  0.000000\n",
       "2         2                      8  ...  0.000000  0.000000\n",
       "3         2                      8  ...  0.000000  0.000000\n",
       "4         3                      1  ...  0.000000  0.000000\n",
       "...     ...                    ...  ...       ...       ...\n",
       "1131    940                     13  ...  0.000000  0.000000\n",
       "1132    942                     12  ...  0.000000  0.000000\n",
       "1133    942                     12  ...  0.166667  0.181818\n",
       "1134    943                     19  ...  0.052632  0.083333\n",
       "1135    943                     19  ...  0.052632  0.068966\n",
       "\n",
       "[1136 rows x 7 columns]"
      ]
     },
     "execution_count": 39,
     "metadata": {},
     "output_type": "execute_result"
    }
   ],
   "source": [
    "result_als_df"
   ]
  },
  {
   "cell_type": "code",
   "execution_count": null,
   "metadata": {
    "id": "HKOSnrQY0Ues"
   },
   "outputs": [],
   "source": [
    "result_als_df = result_als_df.astype({\"userId\": int})\n"
   ]
  },
  {
   "cell_type": "code",
   "execution_count": null,
   "metadata": {
    "id": "H8vsJ6lg04eH"
   },
   "outputs": [],
   "source": [
    "result_als_df_5 = result_als_df.loc[result_als_df['recomendations']==5]\n",
    "result_als_df_10 = result_als_df.loc[result_als_df['recomendations']==10]"
   ]
  },
  {
   "cell_type": "code",
   "execution_count": null,
   "metadata": {
    "colab": {
     "base_uri": "https://localhost:8080/"
    },
    "id": "49mSJ0rP0UjT",
    "outputId": "f1a7c4b4-7039-4bd8-fd7a-109d4e96b8eb"
   },
   "outputs": [
    {
     "data": {
      "text/plain": [
       "userId                   461.948944\n",
       "actual_movies_watched     15.360915\n",
       "recomendations             5.000000\n",
       "common_movies              0.228873\n",
       "precision                  0.045775\n",
       "recall                     0.017520\n",
       "f1_score                   0.023445\n",
       "dtype: float64"
      ]
     },
     "execution_count": 42,
     "metadata": {},
     "output_type": "execute_result"
    }
   ],
   "source": [
    "result_als_df_5.mean()"
   ]
  },
  {
   "cell_type": "code",
   "execution_count": null,
   "metadata": {
    "colab": {
     "base_uri": "https://localhost:8080/"
    },
    "id": "N5o21kdq1D5E",
    "outputId": "9beca2ef-9bc6-4c57-a542-fee2ab051904"
   },
   "outputs": [
    {
     "data": {
      "text/plain": [
       "userId                   461.948944\n",
       "actual_movies_watched     15.360915\n",
       "recomendations            10.000000\n",
       "common_movies              0.498239\n",
       "precision                  0.049824\n",
       "recall                     0.036173\n",
       "f1_score                   0.038259\n",
       "dtype: float64"
      ]
     },
     "execution_count": 43,
     "metadata": {},
     "output_type": "execute_result"
    }
   ],
   "source": [
    "result_als_df_10.mean()"
   ]
  },
  {
   "cell_type": "code",
   "execution_count": null,
   "metadata": {
    "id": "lIFs1toH2Odx"
   },
   "outputs": [],
   "source": []
  }
 ],
 "metadata": {
  "accelerator": "TPU",
  "colab": {
   "collapsed_sections": [],
   "machine_shape": "hm",
   "name": "book_crossing",
   "provenance": []
  },
  "kernelspec": {
   "display_name": "Python 3",
   "language": "python",
   "name": "python3"
  },
  "language_info": {
   "codemirror_mode": {
    "name": "ipython",
    "version": 3
   },
   "file_extension": ".py",
   "mimetype": "text/x-python",
   "name": "python",
   "nbconvert_exporter": "python",
   "pygments_lexer": "ipython3",
   "version": "3.8.5"
  }
 },
 "nbformat": 4,
 "nbformat_minor": 1
}
