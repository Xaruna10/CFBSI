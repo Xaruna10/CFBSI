{
  "nbformat": 4,
  "nbformat_minor": 0,
  "metadata": {
    "accelerator": "GPU",
    "colab": {
      "name": "295.ipynb",
      "provenance": [],
      "collapsed_sections": [],
      "machine_shape": "hm"
    },
    "kernelspec": {
      "display_name": "Python 3",
      "name": "python3"
    },
    "language_info": {
      "name": "python"
    }
  },
  "cells": [
    {
      "cell_type": "markdown",
      "metadata": {
        "id": "_PPpCUXF-ikp"
      },
      "source": [
        "# Preprocessing And Compressed Bit Vectors Evaluation"
      ]
    },
    {
      "cell_type": "code",
      "metadata": {
        "id": "3euMr35POGFA"
      },
      "source": [
        "import os\n",
        "import numpy as np\n",
        "import pandas as pd\n",
        "from scipy.sparse import *\n",
        "from scipy import *\n",
        "from sklearn.preprocessing import LabelEncoder"
      ],
      "execution_count": 1,
      "outputs": []
    },
    {
      "cell_type": "code",
      "metadata": {
        "colab": {
          "base_uri": "https://localhost:8080/",
          "height": 278
        },
        "id": "oGHa8nh1XLzW",
        "outputId": "c594c00a-85a1-43d0-c812-530dd7fa96b5"
      },
      "source": [
        "## Load dataset Movielens 100K or 1 million rating or bookrating(1million)\n",
        "\n",
        "# Dataset source:Movielens 100k: https://grouplens.org/datasets/movielens/100k/\n",
        "# Movielens 1 million: https://grouplens.org/datasets/movielens/1m/\n",
        "# Book crossing: https://grouplens.org/datasets/book-crossing/\n",
        "\n",
        "header_list = [\"userid\", \"movieid\", \"movieRating\", \"timestamp\"]\n",
        "data = pd.read_csv('/content/drive/MyDrive/SJSU/classes/FALL_2021/CMPE_295B/295B_Project_Team_material/Dataset/movie1mratings.dat', sep='::', names=header_list)\n",
        "# data = pd.read_csv('/content/drive/MyDrive/SJSU/classes/FALL_2021/CMPE_295B/295B_Project_Team_material/Dataset/movie100kratings.data', sep='\\t')\n",
        "nRow, nCol = data.shape\n",
        "print(f'There are {nRow} rows and {nCol} columns')\n",
        "data.head()"
      ],
      "execution_count": 2,
      "outputs": [
        {
          "output_type": "stream",
          "name": "stderr",
          "text": [
            "/usr/local/lib/python3.7/dist-packages/ipykernel_launcher.py:8: ParserWarning: Falling back to the 'python' engine because the 'c' engine does not support regex separators (separators > 1 char and different from '\\s+' are interpreted as regex); you can avoid this warning by specifying engine='python'.\n",
            "  \n"
          ]
        },
        {
          "output_type": "stream",
          "name": "stdout",
          "text": [
            "There are 1000209 rows and 4 columns\n"
          ]
        },
        {
          "output_type": "execute_result",
          "data": {
            "text/html": [
              "<div>\n",
              "<style scoped>\n",
              "    .dataframe tbody tr th:only-of-type {\n",
              "        vertical-align: middle;\n",
              "    }\n",
              "\n",
              "    .dataframe tbody tr th {\n",
              "        vertical-align: top;\n",
              "    }\n",
              "\n",
              "    .dataframe thead th {\n",
              "        text-align: right;\n",
              "    }\n",
              "</style>\n",
              "<table border=\"1\" class=\"dataframe\">\n",
              "  <thead>\n",
              "    <tr style=\"text-align: right;\">\n",
              "      <th></th>\n",
              "      <th>userid</th>\n",
              "      <th>movieid</th>\n",
              "      <th>movieRating</th>\n",
              "      <th>timestamp</th>\n",
              "    </tr>\n",
              "  </thead>\n",
              "  <tbody>\n",
              "    <tr>\n",
              "      <th>0</th>\n",
              "      <td>1</td>\n",
              "      <td>1193</td>\n",
              "      <td>5</td>\n",
              "      <td>978300760</td>\n",
              "    </tr>\n",
              "    <tr>\n",
              "      <th>1</th>\n",
              "      <td>1</td>\n",
              "      <td>661</td>\n",
              "      <td>3</td>\n",
              "      <td>978302109</td>\n",
              "    </tr>\n",
              "    <tr>\n",
              "      <th>2</th>\n",
              "      <td>1</td>\n",
              "      <td>914</td>\n",
              "      <td>3</td>\n",
              "      <td>978301968</td>\n",
              "    </tr>\n",
              "    <tr>\n",
              "      <th>3</th>\n",
              "      <td>1</td>\n",
              "      <td>3408</td>\n",
              "      <td>4</td>\n",
              "      <td>978300275</td>\n",
              "    </tr>\n",
              "    <tr>\n",
              "      <th>4</th>\n",
              "      <td>1</td>\n",
              "      <td>2355</td>\n",
              "      <td>5</td>\n",
              "      <td>978824291</td>\n",
              "    </tr>\n",
              "  </tbody>\n",
              "</table>\n",
              "</div>"
            ],
            "text/plain": [
              "   userid  movieid  movieRating  timestamp\n",
              "0       1     1193            5  978300760\n",
              "1       1      661            3  978302109\n",
              "2       1      914            3  978301968\n",
              "3       1     3408            4  978300275\n",
              "4       1     2355            5  978824291"
            ]
          },
          "metadata": {},
          "execution_count": 2
        }
      ]
    },
    {
      "cell_type": "code",
      "metadata": {
        "colab": {
          "base_uri": "https://localhost:8080/"
        },
        "id": "TqOtMBIPhQcN",
        "outputId": "bad009ca-3972-4138-9e91-a41d3791b395"
      },
      "source": [
        "data.dtypes"
      ],
      "execution_count": 3,
      "outputs": [
        {
          "output_type": "execute_result",
          "data": {
            "text/plain": [
              "userid         int64\n",
              "movieid        int64\n",
              "movieRating    int64\n",
              "timestamp      int64\n",
              "dtype: object"
            ]
          },
          "metadata": {},
          "execution_count": 3
        }
      ]
    },
    {
      "cell_type": "code",
      "metadata": {
        "colab": {
          "base_uri": "https://localhost:8080/",
          "height": 363
        },
        "id": "V73oxB7irGMf",
        "outputId": "80697e88-d895-4018-c3b1-63b8059eca4b"
      },
      "source": [
        "## final dataset sample\n",
        "sample_data = data.drop(['timestamp'],axis=1)\n",
        "sample_data.head(10)\n",
        "#contain 1,000,209 anonymous ratings of approximately 3,900 movies made by 6,040 MovieLens"
      ],
      "execution_count": 4,
      "outputs": [
        {
          "output_type": "execute_result",
          "data": {
            "text/html": [
              "<div>\n",
              "<style scoped>\n",
              "    .dataframe tbody tr th:only-of-type {\n",
              "        vertical-align: middle;\n",
              "    }\n",
              "\n",
              "    .dataframe tbody tr th {\n",
              "        vertical-align: top;\n",
              "    }\n",
              "\n",
              "    .dataframe thead th {\n",
              "        text-align: right;\n",
              "    }\n",
              "</style>\n",
              "<table border=\"1\" class=\"dataframe\">\n",
              "  <thead>\n",
              "    <tr style=\"text-align: right;\">\n",
              "      <th></th>\n",
              "      <th>userid</th>\n",
              "      <th>movieid</th>\n",
              "      <th>movieRating</th>\n",
              "    </tr>\n",
              "  </thead>\n",
              "  <tbody>\n",
              "    <tr>\n",
              "      <th>0</th>\n",
              "      <td>1</td>\n",
              "      <td>1193</td>\n",
              "      <td>5</td>\n",
              "    </tr>\n",
              "    <tr>\n",
              "      <th>1</th>\n",
              "      <td>1</td>\n",
              "      <td>661</td>\n",
              "      <td>3</td>\n",
              "    </tr>\n",
              "    <tr>\n",
              "      <th>2</th>\n",
              "      <td>1</td>\n",
              "      <td>914</td>\n",
              "      <td>3</td>\n",
              "    </tr>\n",
              "    <tr>\n",
              "      <th>3</th>\n",
              "      <td>1</td>\n",
              "      <td>3408</td>\n",
              "      <td>4</td>\n",
              "    </tr>\n",
              "    <tr>\n",
              "      <th>4</th>\n",
              "      <td>1</td>\n",
              "      <td>2355</td>\n",
              "      <td>5</td>\n",
              "    </tr>\n",
              "    <tr>\n",
              "      <th>5</th>\n",
              "      <td>1</td>\n",
              "      <td>1197</td>\n",
              "      <td>3</td>\n",
              "    </tr>\n",
              "    <tr>\n",
              "      <th>6</th>\n",
              "      <td>1</td>\n",
              "      <td>1287</td>\n",
              "      <td>5</td>\n",
              "    </tr>\n",
              "    <tr>\n",
              "      <th>7</th>\n",
              "      <td>1</td>\n",
              "      <td>2804</td>\n",
              "      <td>5</td>\n",
              "    </tr>\n",
              "    <tr>\n",
              "      <th>8</th>\n",
              "      <td>1</td>\n",
              "      <td>594</td>\n",
              "      <td>4</td>\n",
              "    </tr>\n",
              "    <tr>\n",
              "      <th>9</th>\n",
              "      <td>1</td>\n",
              "      <td>919</td>\n",
              "      <td>4</td>\n",
              "    </tr>\n",
              "  </tbody>\n",
              "</table>\n",
              "</div>"
            ],
            "text/plain": [
              "   userid  movieid  movieRating\n",
              "0       1     1193            5\n",
              "1       1      661            3\n",
              "2       1      914            3\n",
              "3       1     3408            4\n",
              "4       1     2355            5\n",
              "5       1     1197            3\n",
              "6       1     1287            5\n",
              "7       1     2804            5\n",
              "8       1      594            4\n",
              "9       1      919            4"
            ]
          },
          "metadata": {},
          "execution_count": 4
        }
      ]
    },
    {
      "cell_type": "code",
      "metadata": {
        "colab": {
          "base_uri": "https://localhost:8080/"
        },
        "id": "To_GFTPBb-5h",
        "outputId": "01bd1545-d682-488c-e763-8a8078287f09"
      },
      "source": [
        "frequency = sample_data.groupby('userid').count()\n",
        "print(len(frequency))\n",
        "\n",
        "test_users = []\n",
        "for i in range(len(frequency)):\n",
        "    fre = frequency.iloc[i]\n",
        "    break\n",
        "    if (fre[0] > 100):\n",
        "        test_users.append(i+1)\n",
        "# print(len(test_users))"
      ],
      "execution_count": 5,
      "outputs": [
        {
          "output_type": "stream",
          "name": "stdout",
          "text": [
            "6040\n"
          ]
        }
      ]
    },
    {
      "cell_type": "code",
      "metadata": {
        "id": "Ctziaji7lu_W"
      },
      "source": [
        "test_userid = []\n",
        "test_movieid = []\n",
        "test_movieRating = []"
      ],
      "execution_count": 6,
      "outputs": []
    },
    {
      "cell_type": "code",
      "metadata": {
        "colab": {
          "base_uri": "https://localhost:8080/"
        },
        "id": "AMEFNxp2lxvf",
        "outputId": "f300bc66-25a0-4cad-9e1a-4a7354297089"
      },
      "source": [
        "print(sample_data.userid.max())\n"
      ],
      "execution_count": 7,
      "outputs": [
        {
          "output_type": "stream",
          "name": "stdout",
          "text": [
            "6040\n"
          ]
        }
      ]
    },
    {
      "cell_type": "markdown",
      "metadata": {
        "id": "35c8Qiooo_49"
      },
      "source": [
        "create testing set"
      ]
    },
    {
      "cell_type": "code",
      "metadata": {
        "id": "H5VG3zitl2-n"
      },
      "source": [
        "# if the user has rated more than \"50\" movies then add him to test dataset\n",
        "for user in range(1,6040): #max userid value from prev step\n",
        "    filter_df = sample_data.query(\"userid == \" + str(user))\n",
        "    if (len(filter_df) < 50):\n",
        "        continue\n",
        "    # add 20% of that particular user data to the testdata set \n",
        "    portion = int(len(filter_df)*(0.2))\n",
        "    random_indices = set(np.random.choice(len(filter_df), portion))\n",
        "    for i in random_indices:\n",
        "        row = filter_df.iloc[i]\n",
        "        test_userid.append(row.userid)\n",
        "        test_movieid.append(row.movieid)\n",
        "        test_movieRating.append(row.movieRating)\n",
        " "
      ],
      "execution_count": 8,
      "outputs": []
    },
    {
      "cell_type": "code",
      "metadata": {
        "colab": {
          "base_uri": "https://localhost:8080/"
        },
        "id": "Y2fx7f8CmW8o",
        "outputId": "411c6114-4e45-4d1e-c103-a5ce32a7d9d4"
      },
      "source": [
        "print(len(test_userid))\n",
        "print(len(test_movieid))\n",
        "print(len(test_movieRating))"
      ],
      "execution_count": 9,
      "outputs": [
        {
          "output_type": "stream",
          "name": "stdout",
          "text": [
            "169962\n",
            "169962\n",
            "169962\n"
          ]
        }
      ]
    },
    {
      "cell_type": "code",
      "metadata": {
        "colab": {
          "base_uri": "https://localhost:8080/"
        },
        "id": "hhaKF86rm_kZ",
        "outputId": "1c22acf4-d723-49af-db20-196bfc4efaea"
      },
      "source": [
        "test_df_dict = {\"userid\": test_userid, \"movieid\":test_movieid, \"movieRating\":test_movieRating}\n",
        "convert_dict = {\n",
        "    \"userid\" :      int,\n",
        "    \"movieid\" :     int,\n",
        "    \"movieRating\"  :   int\n",
        "    }\n",
        "test_df = pd.DataFrame(test_df_dict)\n",
        "test_df = test_df.astype(convert_dict)\n",
        "print(test_df.head())\n",
        "test_df.shape"
      ],
      "execution_count": 10,
      "outputs": [
        {
          "output_type": "stream",
          "name": "stdout",
          "text": [
            "   userid  movieid  movieRating\n",
            "0       1     1961            5\n",
            "1       1      919            4\n",
            "2       1     1029            5\n",
            "3       1     2687            3\n",
            "4       1     2018            4\n"
          ]
        },
        {
          "output_type": "execute_result",
          "data": {
            "text/plain": [
              "(169962, 3)"
            ]
          },
          "metadata": {},
          "execution_count": 10
        }
      ]
    },
    {
      "cell_type": "code",
      "metadata": {
        "id": "zsryMbPUnZj4"
      },
      "source": [
        "test_df.to_csv(\"test_ratings.csv\",index=False)\n",
        "# test dataset csv"
      ],
      "execution_count": 11,
      "outputs": []
    },
    {
      "cell_type": "code",
      "metadata": {
        "colab": {
          "base_uri": "https://localhost:8080/"
        },
        "id": "7FPUmlhFoFQ7",
        "outputId": "61cc353a-9ae3-4cbf-d59a-61896801ee00"
      },
      "source": [
        "# data redundancy\n",
        "# adding unique userid,movieid tuple to the test_tuple_set\n",
        "#  trying to avoid users who have rated same movie twice\n",
        "test_tuple_set = set()\n",
        "print(len(test_userid))\n",
        "for i in range(len(test_userid)):\n",
        "    userid_movieid_tuple = (test_userid[i], test_movieid[i])\n",
        "    if userid_movieid_tuple in test_tuple_set:\n",
        "        print(userid_movieid_tuple)\n",
        "        print(\":)\")\n",
        "    test_tuple_set.add(userid_movieid_tuple)\n",
        "print(len(test_tuple_set))\n",
        "print(len(test_df))"
      ],
      "execution_count": 12,
      "outputs": [
        {
          "output_type": "stream",
          "name": "stdout",
          "text": [
            "169962\n",
            "169962\n",
            "169962\n"
          ]
        }
      ]
    },
    {
      "cell_type": "markdown",
      "metadata": {
        "id": "cOmztEjEofhN"
      },
      "source": [
        "create Training set"
      ]
    },
    {
      "cell_type": "code",
      "metadata": {
        "id": "mbSB5HwcodsX"
      },
      "source": [
        "def drop_rating(row):\n",
        "    print(len(row))\n",
        "    t = (row.userid, row.movieid)\n",
        "    if t in test_tuple_set:\n",
        "        row.movieRating = 0.0\n",
        "    return row"
      ],
      "execution_count": 13,
      "outputs": []
    },
    {
      "cell_type": "code",
      "metadata": {
        "id": "quF2kxbxowbO"
      },
      "source": [
        "# removing test data values/ratings from the training dataset and making them zero not deleting \n",
        "for i in range(len(sample_data)):\n",
        "    row = sample_data.iloc[i]\n",
        "    t = (row.userid, row.movieid)\n",
        "    if t in test_tuple_set:\n",
        "        sample_data.at[i,'movieRating'] = 0.0\n"
      ],
      "execution_count": 14,
      "outputs": []
    },
    {
      "cell_type": "code",
      "metadata": {
        "colab": {
          "base_uri": "https://localhost:8080/",
          "height": 363
        },
        "id": "ay1NJs6Go1kx",
        "outputId": "5b2e42dd-80eb-4f43-fd12-8df0301406d4"
      },
      "source": [
        "sample_data.head(10)"
      ],
      "execution_count": 15,
      "outputs": [
        {
          "output_type": "execute_result",
          "data": {
            "text/html": [
              "<div>\n",
              "<style scoped>\n",
              "    .dataframe tbody tr th:only-of-type {\n",
              "        vertical-align: middle;\n",
              "    }\n",
              "\n",
              "    .dataframe tbody tr th {\n",
              "        vertical-align: top;\n",
              "    }\n",
              "\n",
              "    .dataframe thead th {\n",
              "        text-align: right;\n",
              "    }\n",
              "</style>\n",
              "<table border=\"1\" class=\"dataframe\">\n",
              "  <thead>\n",
              "    <tr style=\"text-align: right;\">\n",
              "      <th></th>\n",
              "      <th>userid</th>\n",
              "      <th>movieid</th>\n",
              "      <th>movieRating</th>\n",
              "    </tr>\n",
              "  </thead>\n",
              "  <tbody>\n",
              "    <tr>\n",
              "      <th>0</th>\n",
              "      <td>1</td>\n",
              "      <td>1193</td>\n",
              "      <td>5</td>\n",
              "    </tr>\n",
              "    <tr>\n",
              "      <th>1</th>\n",
              "      <td>1</td>\n",
              "      <td>661</td>\n",
              "      <td>3</td>\n",
              "    </tr>\n",
              "    <tr>\n",
              "      <th>2</th>\n",
              "      <td>1</td>\n",
              "      <td>914</td>\n",
              "      <td>3</td>\n",
              "    </tr>\n",
              "    <tr>\n",
              "      <th>3</th>\n",
              "      <td>1</td>\n",
              "      <td>3408</td>\n",
              "      <td>4</td>\n",
              "    </tr>\n",
              "    <tr>\n",
              "      <th>4</th>\n",
              "      <td>1</td>\n",
              "      <td>2355</td>\n",
              "      <td>5</td>\n",
              "    </tr>\n",
              "    <tr>\n",
              "      <th>5</th>\n",
              "      <td>1</td>\n",
              "      <td>1197</td>\n",
              "      <td>3</td>\n",
              "    </tr>\n",
              "    <tr>\n",
              "      <th>6</th>\n",
              "      <td>1</td>\n",
              "      <td>1287</td>\n",
              "      <td>5</td>\n",
              "    </tr>\n",
              "    <tr>\n",
              "      <th>7</th>\n",
              "      <td>1</td>\n",
              "      <td>2804</td>\n",
              "      <td>5</td>\n",
              "    </tr>\n",
              "    <tr>\n",
              "      <th>8</th>\n",
              "      <td>1</td>\n",
              "      <td>594</td>\n",
              "      <td>4</td>\n",
              "    </tr>\n",
              "    <tr>\n",
              "      <th>9</th>\n",
              "      <td>1</td>\n",
              "      <td>919</td>\n",
              "      <td>0</td>\n",
              "    </tr>\n",
              "  </tbody>\n",
              "</table>\n",
              "</div>"
            ],
            "text/plain": [
              "   userid  movieid  movieRating\n",
              "0       1     1193            5\n",
              "1       1      661            3\n",
              "2       1      914            3\n",
              "3       1     3408            4\n",
              "4       1     2355            5\n",
              "5       1     1197            3\n",
              "6       1     1287            5\n",
              "7       1     2804            5\n",
              "8       1      594            4\n",
              "9       1      919            0"
            ]
          },
          "metadata": {},
          "execution_count": 15
        }
      ]
    },
    {
      "cell_type": "code",
      "metadata": {
        "id": "bpObtKNXpH2r"
      },
      "source": [
        "sample_data.to_csv(\"train_ratings.csv\", index=False)"
      ],
      "execution_count": 16,
      "outputs": []
    },
    {
      "cell_type": "code",
      "metadata": {
        "colab": {
          "base_uri": "https://localhost:8080/"
        },
        "id": "CC54BYX4pS5q",
        "outputId": "91cbbfe7-d972-4c9f-bd99-7490f1236a5f"
      },
      "source": [
        "len(sample_data.movieid.unique())\n",
        "# total unique movies/items\n",
        "# sample_data = whole data"
      ],
      "execution_count": 17,
      "outputs": [
        {
          "output_type": "execute_result",
          "data": {
            "text/plain": [
              "3706"
            ]
          },
          "metadata": {},
          "execution_count": 17
        }
      ]
    },
    {
      "cell_type": "code",
      "metadata": {
        "colab": {
          "base_uri": "https://localhost:8080/"
        },
        "id": "u0Jhf_mkq5K-",
        "outputId": "64693227-2590-42ca-91bd-b9ad808ca778"
      },
      "source": [
        "# converting unique movies numpy ndarray to list\n",
        "unique_movies = sample_data.movieid.unique()\n",
        "type (list(unique_movies))\n",
        "print(unique_movies)"
      ],
      "execution_count": 18,
      "outputs": [
        {
          "output_type": "stream",
          "name": "stdout",
          "text": [
            "[1193  661  914 ... 2845 3607 2909]\n"
          ]
        }
      ]
    },
    {
      "cell_type": "markdown",
      "metadata": {
        "id": "0twJxXjKrYA_"
      },
      "source": [
        " ***ASSIGN* CONTINUOUS INDEX TO movieid**"
      ]
    },
    {
      "cell_type": "code",
      "metadata": {
        "id": "3ltOzpGWrNdl"
      },
      "source": [
        "# adding index to movie id thru a dict\n",
        "original_movie_ids = []\n",
        "mapped_movie_ids = []\n",
        "movie_dict = {}\n",
        "count = 1\n",
        "for movie_id in unique_movies:\n",
        "    original_movie_ids.append(movie_id)\n",
        "    mapped_movie_ids.append(count)\n",
        "    movie_dict[movie_id] = count\n",
        "    count += 1"
      ],
      "execution_count": 19,
      "outputs": []
    },
    {
      "cell_type": "code",
      "metadata": {
        "colab": {
          "base_uri": "https://localhost:8080/"
        },
        "id": "XVN3u4Ej34C9",
        "outputId": "7d2cae21-f952-43e2-e695-fbf303dbfa51"
      },
      "source": [
        "print(len(original_movie_ids))\n",
        "print(len(mapped_movie_ids))"
      ],
      "execution_count": 20,
      "outputs": [
        {
          "output_type": "stream",
          "name": "stdout",
          "text": [
            "3706\n",
            "3706\n"
          ]
        }
      ]
    },
    {
      "cell_type": "code",
      "metadata": {
        "colab": {
          "base_uri": "https://localhost:8080/"
        },
        "id": "8yBVp1Kx4B3u",
        "outputId": "9ed89751-9606-49d8-9cfe-7523d8778429"
      },
      "source": [
        "# creating a dataframe with colomn1 as uniquemovieids and column2 as mappedmovieids(aka index) , dataframe index vs movie index\n",
        "movies_map_df_dict = {\"original_movie_ids\": original_movie_ids,\n",
        "                      \"mapped_movie_ids\":mapped_movie_ids}\n",
        "movies_map_df = pd.DataFrame(movies_map_df_dict)\n",
        "print(movies_map_df.head())\n",
        "movies_map_df.to_csv(\"mapped_movie_ids.csv\",index=False)"
      ],
      "execution_count": 21,
      "outputs": [
        {
          "output_type": "stream",
          "name": "stdout",
          "text": [
            "   original_movie_ids  mapped_movie_ids\n",
            "0                1193                 1\n",
            "1                 661                 2\n",
            "2                 914                 3\n",
            "3                3408                 4\n",
            "4                2355                 5\n"
          ]
        }
      ]
    },
    {
      "cell_type": "code",
      "metadata": {
        "id": "YDOaO2oD4fCx",
        "colab": {
          "base_uri": "https://localhost:8080/",
          "height": 363
        },
        "outputId": "ceaef9c4-9e64-4571-b175-f04fe8496cb8"
      },
      "source": [
        "# adding a column(mapped_movie_id) to orginal wholedataset dataframe sample_data\n",
        "# len(sample_data)\n",
        "for i in range(len(sample_data)):\n",
        "  mapped_movie_id = movie_dict[int(sample_data.iloc[i][1])]\n",
        "#     print(sample_data.iloc[i][1] ,mapped_movie_id )\n",
        "  sample_data.loc[sample_data.index[i], 'mapped_movie_id'] = int(mapped_movie_id)\n",
        "    "
      ],
      "execution_count": 22,
      "outputs": [
        {
          "output_type": "error",
          "ename": "KeyboardInterrupt",
          "evalue": "ignored",
          "traceback": [
            "\u001b[0;31m---------------------------------------------------------------------------\u001b[0m",
            "\u001b[0;31mKeyboardInterrupt\u001b[0m                         Traceback (most recent call last)",
            "\u001b[0;32m<ipython-input-22-5caa8daca834>\u001b[0m in \u001b[0;36m<module>\u001b[0;34m()\u001b[0m\n\u001b[1;32m      4\u001b[0m   \u001b[0mmapped_movie_id\u001b[0m \u001b[0;34m=\u001b[0m \u001b[0mmovie_dict\u001b[0m\u001b[0;34m[\u001b[0m\u001b[0mint\u001b[0m\u001b[0;34m(\u001b[0m\u001b[0msample_data\u001b[0m\u001b[0;34m.\u001b[0m\u001b[0miloc\u001b[0m\u001b[0;34m[\u001b[0m\u001b[0mi\u001b[0m\u001b[0;34m]\u001b[0m\u001b[0;34m[\u001b[0m\u001b[0;36m1\u001b[0m\u001b[0;34m]\u001b[0m\u001b[0;34m)\u001b[0m\u001b[0;34m]\u001b[0m\u001b[0;34m\u001b[0m\u001b[0;34m\u001b[0m\u001b[0m\n\u001b[1;32m      5\u001b[0m \u001b[0;31m#     print(sample_data.iloc[i][1] ,mapped_movie_id )\u001b[0m\u001b[0;34m\u001b[0m\u001b[0;34m\u001b[0m\u001b[0;34m\u001b[0m\u001b[0m\n\u001b[0;32m----> 6\u001b[0;31m   \u001b[0msample_data\u001b[0m\u001b[0;34m.\u001b[0m\u001b[0mloc\u001b[0m\u001b[0;34m[\u001b[0m\u001b[0msample_data\u001b[0m\u001b[0;34m.\u001b[0m\u001b[0mindex\u001b[0m\u001b[0;34m[\u001b[0m\u001b[0mi\u001b[0m\u001b[0;34m]\u001b[0m\u001b[0;34m,\u001b[0m \u001b[0;34m'mapped_movie_id'\u001b[0m\u001b[0;34m]\u001b[0m \u001b[0;34m=\u001b[0m \u001b[0mint\u001b[0m\u001b[0;34m(\u001b[0m\u001b[0mmapped_movie_id\u001b[0m\u001b[0;34m)\u001b[0m\u001b[0;34m\u001b[0m\u001b[0;34m\u001b[0m\u001b[0m\n\u001b[0m\u001b[1;32m      7\u001b[0m \u001b[0;34m\u001b[0m\u001b[0m\n",
            "\u001b[0;32m/usr/local/lib/python3.7/dist-packages/pandas/core/indexing.py\u001b[0m in \u001b[0;36m__setitem__\u001b[0;34m(self, key, value)\u001b[0m\n\u001b[1;32m    668\u001b[0m \u001b[0;34m\u001b[0m\u001b[0m\n\u001b[1;32m    669\u001b[0m         \u001b[0miloc\u001b[0m \u001b[0;34m=\u001b[0m \u001b[0mself\u001b[0m \u001b[0;32mif\u001b[0m \u001b[0mself\u001b[0m\u001b[0;34m.\u001b[0m\u001b[0mname\u001b[0m \u001b[0;34m==\u001b[0m \u001b[0;34m\"iloc\"\u001b[0m \u001b[0;32melse\u001b[0m \u001b[0mself\u001b[0m\u001b[0;34m.\u001b[0m\u001b[0mobj\u001b[0m\u001b[0;34m.\u001b[0m\u001b[0miloc\u001b[0m\u001b[0;34m\u001b[0m\u001b[0;34m\u001b[0m\u001b[0m\n\u001b[0;32m--> 670\u001b[0;31m         \u001b[0miloc\u001b[0m\u001b[0;34m.\u001b[0m\u001b[0m_setitem_with_indexer\u001b[0m\u001b[0;34m(\u001b[0m\u001b[0mindexer\u001b[0m\u001b[0;34m,\u001b[0m \u001b[0mvalue\u001b[0m\u001b[0;34m)\u001b[0m\u001b[0;34m\u001b[0m\u001b[0;34m\u001b[0m\u001b[0m\n\u001b[0m\u001b[1;32m    671\u001b[0m \u001b[0;34m\u001b[0m\u001b[0m\n\u001b[1;32m    672\u001b[0m     \u001b[0;32mdef\u001b[0m \u001b[0m_validate_key\u001b[0m\u001b[0;34m(\u001b[0m\u001b[0mself\u001b[0m\u001b[0;34m,\u001b[0m \u001b[0mkey\u001b[0m\u001b[0;34m,\u001b[0m \u001b[0maxis\u001b[0m\u001b[0;34m:\u001b[0m \u001b[0mint\u001b[0m\u001b[0;34m)\u001b[0m\u001b[0;34m:\u001b[0m\u001b[0;34m\u001b[0m\u001b[0;34m\u001b[0m\u001b[0m\n",
            "\u001b[0;32m/usr/local/lib/python3.7/dist-packages/pandas/core/indexing.py\u001b[0m in \u001b[0;36m_setitem_with_indexer\u001b[0;34m(self, indexer, value)\u001b[0m\n\u001b[1;32m   1761\u001b[0m                 \u001b[0;31m# scalar value\u001b[0m\u001b[0;34m\u001b[0m\u001b[0;34m\u001b[0m\u001b[0;34m\u001b[0m\u001b[0m\n\u001b[1;32m   1762\u001b[0m                 \u001b[0;32mfor\u001b[0m \u001b[0mloc\u001b[0m \u001b[0;32min\u001b[0m \u001b[0milocs\u001b[0m\u001b[0;34m:\u001b[0m\u001b[0;34m\u001b[0m\u001b[0;34m\u001b[0m\u001b[0m\n\u001b[0;32m-> 1763\u001b[0;31m                     \u001b[0misetter\u001b[0m\u001b[0;34m(\u001b[0m\u001b[0mloc\u001b[0m\u001b[0;34m,\u001b[0m \u001b[0mvalue\u001b[0m\u001b[0;34m)\u001b[0m\u001b[0;34m\u001b[0m\u001b[0;34m\u001b[0m\u001b[0m\n\u001b[0m\u001b[1;32m   1764\u001b[0m \u001b[0;34m\u001b[0m\u001b[0m\n\u001b[1;32m   1765\u001b[0m         \u001b[0;32melse\u001b[0m\u001b[0;34m:\u001b[0m\u001b[0;34m\u001b[0m\u001b[0;34m\u001b[0m\u001b[0m\n",
            "\u001b[0;32m/usr/local/lib/python3.7/dist-packages/pandas/core/indexing.py\u001b[0m in \u001b[0;36misetter\u001b[0;34m(loc, v)\u001b[0m\n\u001b[1;32m   1691\u001b[0m \u001b[0;34m\u001b[0m\u001b[0m\n\u001b[1;32m   1692\u001b[0m                 \u001b[0;31m# reset the sliced object if unique\u001b[0m\u001b[0;34m\u001b[0m\u001b[0;34m\u001b[0m\u001b[0;34m\u001b[0m\u001b[0m\n\u001b[0;32m-> 1693\u001b[0;31m                 \u001b[0mself\u001b[0m\u001b[0;34m.\u001b[0m\u001b[0mobj\u001b[0m\u001b[0;34m.\u001b[0m\u001b[0m_iset_item\u001b[0m\u001b[0;34m(\u001b[0m\u001b[0mloc\u001b[0m\u001b[0;34m,\u001b[0m \u001b[0mser\u001b[0m\u001b[0;34m)\u001b[0m\u001b[0;34m\u001b[0m\u001b[0;34m\u001b[0m\u001b[0m\n\u001b[0m\u001b[1;32m   1694\u001b[0m \u001b[0;34m\u001b[0m\u001b[0m\n\u001b[1;32m   1695\u001b[0m             \u001b[0;31m# we need an iterable, with a ndim of at least 1\u001b[0m\u001b[0;34m\u001b[0m\u001b[0;34m\u001b[0m\u001b[0;34m\u001b[0m\u001b[0m\n",
            "\u001b[0;32m/usr/local/lib/python3.7/dist-packages/pandas/core/frame.py\u001b[0m in \u001b[0;36m_iset_item\u001b[0;34m(self, loc, value)\u001b[0m\n\u001b[1;32m   3099\u001b[0m         \u001b[0;31m#  but the behavior is the same as long as we pass broadcast=False\u001b[0m\u001b[0;34m\u001b[0m\u001b[0;34m\u001b[0m\u001b[0;34m\u001b[0m\u001b[0m\n\u001b[1;32m   3100\u001b[0m         \u001b[0mvalue\u001b[0m \u001b[0;34m=\u001b[0m \u001b[0mself\u001b[0m\u001b[0;34m.\u001b[0m\u001b[0m_sanitize_column\u001b[0m\u001b[0;34m(\u001b[0m\u001b[0mloc\u001b[0m\u001b[0;34m,\u001b[0m \u001b[0mvalue\u001b[0m\u001b[0;34m,\u001b[0m \u001b[0mbroadcast\u001b[0m\u001b[0;34m=\u001b[0m\u001b[0;32mFalse\u001b[0m\u001b[0;34m)\u001b[0m\u001b[0;34m\u001b[0m\u001b[0;34m\u001b[0m\u001b[0m\n\u001b[0;32m-> 3101\u001b[0;31m         \u001b[0mNDFrame\u001b[0m\u001b[0;34m.\u001b[0m\u001b[0m_iset_item\u001b[0m\u001b[0;34m(\u001b[0m\u001b[0mself\u001b[0m\u001b[0;34m,\u001b[0m \u001b[0mloc\u001b[0m\u001b[0;34m,\u001b[0m \u001b[0mvalue\u001b[0m\u001b[0;34m)\u001b[0m\u001b[0;34m\u001b[0m\u001b[0;34m\u001b[0m\u001b[0m\n\u001b[0m\u001b[1;32m   3102\u001b[0m \u001b[0;34m\u001b[0m\u001b[0m\n\u001b[1;32m   3103\u001b[0m         \u001b[0;31m# check if we are modifying a copy\u001b[0m\u001b[0;34m\u001b[0m\u001b[0;34m\u001b[0m\u001b[0;34m\u001b[0m\u001b[0m\n",
            "\u001b[0;32m/usr/local/lib/python3.7/dist-packages/pandas/core/generic.py\u001b[0m in \u001b[0;36m_iset_item\u001b[0;34m(self, loc, value)\u001b[0m\n\u001b[1;32m   3569\u001b[0m \u001b[0;34m\u001b[0m\u001b[0m\n\u001b[1;32m   3570\u001b[0m     \u001b[0;32mdef\u001b[0m \u001b[0m_iset_item\u001b[0m\u001b[0;34m(\u001b[0m\u001b[0mself\u001b[0m\u001b[0;34m,\u001b[0m \u001b[0mloc\u001b[0m\u001b[0;34m:\u001b[0m \u001b[0mint\u001b[0m\u001b[0;34m,\u001b[0m \u001b[0mvalue\u001b[0m\u001b[0;34m)\u001b[0m \u001b[0;34m->\u001b[0m \u001b[0;32mNone\u001b[0m\u001b[0;34m:\u001b[0m\u001b[0;34m\u001b[0m\u001b[0;34m\u001b[0m\u001b[0m\n\u001b[0;32m-> 3571\u001b[0;31m         \u001b[0mself\u001b[0m\u001b[0;34m.\u001b[0m\u001b[0m_mgr\u001b[0m\u001b[0;34m.\u001b[0m\u001b[0miset\u001b[0m\u001b[0;34m(\u001b[0m\u001b[0mloc\u001b[0m\u001b[0;34m,\u001b[0m \u001b[0mvalue\u001b[0m\u001b[0;34m)\u001b[0m\u001b[0;34m\u001b[0m\u001b[0;34m\u001b[0m\u001b[0m\n\u001b[0m\u001b[1;32m   3572\u001b[0m         \u001b[0mself\u001b[0m\u001b[0;34m.\u001b[0m\u001b[0m_clear_item_cache\u001b[0m\u001b[0;34m(\u001b[0m\u001b[0;34m)\u001b[0m\u001b[0;34m\u001b[0m\u001b[0;34m\u001b[0m\u001b[0m\n\u001b[1;32m   3573\u001b[0m \u001b[0;34m\u001b[0m\u001b[0m\n",
            "\u001b[0;32m/usr/local/lib/python3.7/dist-packages/pandas/core/internals/managers.py\u001b[0m in \u001b[0;36miset\u001b[0;34m(self, loc, value)\u001b[0m\n\u001b[1;32m   1103\u001b[0m             \u001b[0mblk_locs\u001b[0m \u001b[0;34m=\u001b[0m \u001b[0mblklocs\u001b[0m\u001b[0;34m[\u001b[0m\u001b[0mval_locs\u001b[0m\u001b[0;34m.\u001b[0m\u001b[0mindexer\u001b[0m\u001b[0;34m]\u001b[0m\u001b[0;34m\u001b[0m\u001b[0;34m\u001b[0m\u001b[0m\n\u001b[1;32m   1104\u001b[0m             \u001b[0;32mif\u001b[0m \u001b[0mblk\u001b[0m\u001b[0;34m.\u001b[0m\u001b[0mshould_store\u001b[0m\u001b[0;34m(\u001b[0m\u001b[0mvalue\u001b[0m\u001b[0;34m)\u001b[0m\u001b[0;34m:\u001b[0m\u001b[0;34m\u001b[0m\u001b[0;34m\u001b[0m\u001b[0m\n\u001b[0;32m-> 1105\u001b[0;31m                 \u001b[0mblk\u001b[0m\u001b[0;34m.\u001b[0m\u001b[0mset\u001b[0m\u001b[0;34m(\u001b[0m\u001b[0mblk_locs\u001b[0m\u001b[0;34m,\u001b[0m \u001b[0mvalue_getitem\u001b[0m\u001b[0;34m(\u001b[0m\u001b[0mval_locs\u001b[0m\u001b[0;34m)\u001b[0m\u001b[0;34m)\u001b[0m\u001b[0;34m\u001b[0m\u001b[0;34m\u001b[0m\u001b[0m\n\u001b[0m\u001b[1;32m   1106\u001b[0m             \u001b[0;32melse\u001b[0m\u001b[0;34m:\u001b[0m\u001b[0;34m\u001b[0m\u001b[0;34m\u001b[0m\u001b[0m\n\u001b[1;32m   1107\u001b[0m                 \u001b[0munfit_mgr_locs\u001b[0m\u001b[0;34m.\u001b[0m\u001b[0mappend\u001b[0m\u001b[0;34m(\u001b[0m\u001b[0mblk\u001b[0m\u001b[0;34m.\u001b[0m\u001b[0mmgr_locs\u001b[0m\u001b[0;34m.\u001b[0m\u001b[0mas_array\u001b[0m\u001b[0;34m[\u001b[0m\u001b[0mblk_locs\u001b[0m\u001b[0;34m]\u001b[0m\u001b[0;34m)\u001b[0m\u001b[0;34m\u001b[0m\u001b[0;34m\u001b[0m\u001b[0m\n",
            "\u001b[0;32m/usr/local/lib/python3.7/dist-packages/pandas/core/internals/blocks.py\u001b[0m in \u001b[0;36mset\u001b[0;34m(self, locs, values)\u001b[0m\n\u001b[1;32m    329\u001b[0m         \u001b[0mcreate\u001b[0m \u001b[0ma\u001b[0m \u001b[0mnew\u001b[0m \u001b[0marray\u001b[0m \u001b[0;32mand\u001b[0m \u001b[0malways\u001b[0m \u001b[0mcreates\u001b[0m \u001b[0ma\u001b[0m \u001b[0mnew\u001b[0m \u001b[0mBlock\u001b[0m\u001b[0;34m.\u001b[0m\u001b[0;34m\u001b[0m\u001b[0;34m\u001b[0m\u001b[0m\n\u001b[1;32m    330\u001b[0m         \"\"\"\n\u001b[0;32m--> 331\u001b[0;31m         \u001b[0mself\u001b[0m\u001b[0;34m.\u001b[0m\u001b[0mvalues\u001b[0m\u001b[0;34m[\u001b[0m\u001b[0mlocs\u001b[0m\u001b[0;34m]\u001b[0m \u001b[0;34m=\u001b[0m \u001b[0mvalues\u001b[0m\u001b[0;34m\u001b[0m\u001b[0;34m\u001b[0m\u001b[0m\n\u001b[0m\u001b[1;32m    332\u001b[0m \u001b[0;34m\u001b[0m\u001b[0m\n\u001b[1;32m    333\u001b[0m     \u001b[0;32mdef\u001b[0m \u001b[0mdelete\u001b[0m\u001b[0;34m(\u001b[0m\u001b[0mself\u001b[0m\u001b[0;34m,\u001b[0m \u001b[0mloc\u001b[0m\u001b[0;34m)\u001b[0m \u001b[0;34m->\u001b[0m \u001b[0;32mNone\u001b[0m\u001b[0;34m:\u001b[0m\u001b[0;34m\u001b[0m\u001b[0;34m\u001b[0m\u001b[0m\n",
            "\u001b[0;31mKeyboardInterrupt\u001b[0m: "
          ]
        }
      ]
    },
    {
      "cell_type": "code",
      "metadata": {
        "id": "bgqORxQa4w1E"
      },
      "source": [
        "sample_data.head()"
      ],
      "execution_count": null,
      "outputs": []
    },
    {
      "cell_type": "code",
      "metadata": {
        "id": "ESXOMKAn5IXA"
      },
      "source": [
        "users = np.array(sample_data['userid'])\n",
        "items = np.array(sample_data['movieid'])\n",
        "ratings = np.array(sample_data['movieRating'])\n",
        "mapped_movie_ids = np.array(sample_data['mapped_movie_id'])"
      ],
      "execution_count": null,
      "outputs": []
    },
    {
      "cell_type": "code",
      "metadata": {
        "colab": {
          "base_uri": "https://localhost:8080/"
        },
        "id": "WiIs07mN5Nyj",
        "outputId": "45bb84ca-22ca-42bd-e43c-bfdf419a1737"
      },
      "source": [
        "print(users[3],items[3], ratings[3])"
      ],
      "execution_count": null,
      "outputs": [
        {
          "output_type": "stream",
          "name": "stdout",
          "text": [
            "244 51 0\n"
          ]
        }
      ]
    },
    {
      "cell_type": "code",
      "metadata": {
        "colab": {
          "base_uri": "https://localhost:8080/"
        },
        "id": "2Jz3qZra5RUT",
        "outputId": "848e3bcd-a0b7-4735-d6fd-c6bbd040e8e0"
      },
      "source": [
        "sample_data.movieid.max()"
      ],
      "execution_count": null,
      "outputs": [
        {
          "output_type": "execute_result",
          "data": {
            "text/plain": [
              "1682"
            ]
          },
          "metadata": {},
          "execution_count": 66
        }
      ]
    },
    {
      "cell_type": "code",
      "metadata": {
        "colab": {
          "base_uri": "https://localhost:8080/"
        },
        "id": "fZtBqBVs5jza",
        "outputId": "74d243f3-ceff-4b66-af95-a1280d4802f7"
      },
      "source": [
        "len(users), len(items), len(ratings), len(mapped_movie_ids)"
      ],
      "execution_count": null,
      "outputs": [
        {
          "output_type": "execute_result",
          "data": {
            "text/plain": [
              "(100000, 100000, 100000, 100000)"
            ]
          },
          "metadata": {},
          "execution_count": 67
        }
      ]
    },
    {
      "cell_type": "code",
      "metadata": {
        "colab": {
          "base_uri": "https://localhost:8080/"
        },
        "id": "hVOLuwhX5myQ",
        "outputId": "a9108119-c311-431c-af50-2c0d3c0d4260"
      },
      "source": [
        "len(sample_data.userid.unique())\n",
        "# unique users in wholedataset"
      ],
      "execution_count": null,
      "outputs": [
        {
          "output_type": "execute_result",
          "data": {
            "text/plain": [
              "943"
            ]
          },
          "metadata": {},
          "execution_count": 68
        }
      ]
    },
    {
      "cell_type": "code",
      "metadata": {
        "colab": {
          "base_uri": "https://localhost:8080/"
        },
        "id": "f_CX1iBp5q9B",
        "outputId": "d2448b2b-d5f7-4702-bb6d-787451a21e46"
      },
      "source": [
        "len(sample_data.movieid.unique())\n",
        "# unique movies in wholedataset"
      ],
      "execution_count": null,
      "outputs": [
        {
          "output_type": "execute_result",
          "data": {
            "text/plain": [
              "1682"
            ]
          },
          "metadata": {},
          "execution_count": 69
        }
      ]
    },
    {
      "cell_type": "code",
      "metadata": {
        "id": "8a6SI7sc503W"
      },
      "source": [
        "# sample_data.to_sparse(fill_value=0)"
      ],
      "execution_count": null,
      "outputs": []
    },
    {
      "cell_type": "markdown",
      "metadata": {
        "id": "Fy4H3V9e6_W_"
      },
      "source": [
        "Create Utility Matrix"
      ]
    },
    {
      "cell_type": "code",
      "metadata": {
        "id": "xQAEnFZ47CDj"
      },
      "source": [
        "# converting original dataframe sample_data to a matrix representation/utility matrix with the help of csr_matrix func of scipy\n",
        "utility_csr = csr_matrix((ratings, (users , mapped_movie_ids.astype(int))))"
      ],
      "execution_count": null,
      "outputs": []
    },
    {
      "cell_type": "code",
      "metadata": {
        "colab": {
          "base_uri": "https://localhost:8080/"
        },
        "id": "jvFSHrow7VAj",
        "outputId": "a1414d37-0bd0-415b-8eb4-da7a82bc8cec"
      },
      "source": [
        "utility_matrix = csr_matrix((ratings, (users, mapped_movie_ids.astype(int)))).toarray() # Users x Items \n",
        "utility_matrix_t = utility_matrix.T\n",
        "utility_matrix"
      ],
      "execution_count": null,
      "outputs": [
        {
          "output_type": "execute_result",
          "data": {
            "text/plain": [
              "array([[0, 0, 0, ..., 0, 0, 0],\n",
              "       [0, 5, 0, ..., 0, 0, 0],\n",
              "       [0, 5, 5, ..., 0, 0, 0],\n",
              "       ...,\n",
              "       [0, 0, 0, ..., 0, 0, 0],\n",
              "       [0, 0, 0, ..., 0, 0, 0],\n",
              "       [0, 0, 0, ..., 0, 0, 0]], dtype=int64)"
            ]
          },
          "metadata": {},
          "execution_count": 72
        }
      ]
    },
    {
      "cell_type": "code",
      "metadata": {
        "colab": {
          "base_uri": "https://localhost:8080/"
        },
        "id": "SPhBS2SZ7XJb",
        "outputId": "221003b2-de03-4a8d-b80c-eec11298fb26"
      },
      "source": [
        "print(utility_matrix[users[4]][items[4]])"
      ],
      "execution_count": null,
      "outputs": [
        {
          "output_type": "stream",
          "name": "stdout",
          "text": [
            "0\n"
          ]
        }
      ]
    },
    {
      "cell_type": "code",
      "metadata": {
        "colab": {
          "base_uri": "https://localhost:8080/"
        },
        "id": "CQqckgPp7ZPv",
        "outputId": "38ba1aca-4f5c-43ba-aa26-fde4837aef1e"
      },
      "source": [
        "# we have an extra expendable row(likely first row), column in both user_utility_matrix and item_utility_matrix\n",
        "# shud be 943x1682 / 1682x943 , somewhere csr_matrix func is adding an extra row\n",
        "print(utility_matrix.shape)\n",
        "print(utility_matrix_t.shape)"
      ],
      "execution_count": null,
      "outputs": [
        {
          "output_type": "stream",
          "name": "stdout",
          "text": [
            "(944, 1683)\n",
            "(1683, 944)\n"
          ]
        }
      ]
    },
    {
      "cell_type": "code",
      "metadata": {
        "id": "lMyKq7-b7e8O"
      },
      "source": [
        "np.savetxt('users_m.txt', utility_matrix, fmt=\"%d\") # All rows as a USERS\n",
        "np.savetxt('items_m.txt', utility_matrix_t, fmt=\"%d\") # All rows as a ITEMS"
      ],
      "execution_count": null,
      "outputs": []
    },
    {
      "cell_type": "code",
      "metadata": {
        "colab": {
          "base_uri": "https://localhost:8080/"
        },
        "id": "bxtUSrctcyvl",
        "outputId": "4fb6c545-b4ac-4684-9b83-ce6077d1a6a7"
      },
      "source": [
        "test_data = pd.read_csv('test_ratings.csv')\n",
        "test_users = test_data.userid.unique()\n",
        "print(len(test_users))\n",
        "test_users_list = test_users.tolist()\n",
        "with open ('test_users.txt', 'w') as fo:\n",
        "     fo.write(','.join(str(i) for i in test_users_list))\n",
        "# unique test users in testdataset(test_ratings.csv) which is used in javacode for generating recommendations of nearestKneighbors efficiently with compressed bit vectors"
      ],
      "execution_count": null,
      "outputs": [
        {
          "output_type": "stream",
          "name": "stdout",
          "text": [
            "568\n"
          ]
        }
      ]
    },
    {
      "cell_type": "code",
      "metadata": {
        "id": "G8ki1xp_gHMD"
      },
      "source": [
        ""
      ],
      "execution_count": null,
      "outputs": []
    },
    {
      "cell_type": "code",
      "metadata": {
        "id": "GJmBy7A9hGwe"
      },
      "source": [
        "## passing(copying) the above 3 txt files\n",
        "# user_m txt file matrix and \n",
        "# item_m file matrix, and \n",
        "# test_users.txt (unique test users in testdataset)\n",
        "## into java code(intelliJ) for generating recommendation through compressed bit vectors"
      ],
      "execution_count": null,
      "outputs": []
    },
    {
      "cell_type": "code",
      "metadata": {
        "id": "AHXWmh1thdrn"
      },
      "source": [
        "# below four cells revist"
      ],
      "execution_count": null,
      "outputs": []
    },
    {
      "cell_type": "code",
      "metadata": {
        "id": "Pr9UvAu-7rkh"
      },
      "source": [
        "mapped_movie_ids_dict = {}\n",
        "for key in movie_dict:\n",
        "    value = movie_dict[key]\n",
        "    mapped_movie_ids_dict[value] = key"
      ],
      "execution_count": null,
      "outputs": []
    },
    {
      "cell_type": "code",
      "metadata": {
        "id": "oSdVB9RN74T4"
      },
      "source": [
        "def get_original_movie_ids(mapped_movie_ids):\n",
        "    original_ids = []\n",
        "    for movie_id in mapped_movie_ids:\n",
        "        if int(movie_id) in mapped_movie_ids_dict:\n",
        "            original_ids.append(mapped_movie_ids_dict[int(movie_id)])\n",
        "        else:\n",
        "            original_ids.append(-1)\n",
        "    return original_ids"
      ],
      "execution_count": null,
      "outputs": []
    },
    {
      "cell_type": "code",
      "metadata": {
        "id": "h4XpyeIt78H7"
      },
      "source": [
        "temp_str = \"6,15,18,19,24,25,26,27,31,32,33,231,291,321,462,470,471,473,477,620\""
      ],
      "execution_count": null,
      "outputs": []
    },
    {
      "cell_type": "code",
      "metadata": {
        "colab": {
          "base_uri": "https://localhost:8080/"
        },
        "id": "pmyBmFLO8Cz9",
        "outputId": "133bfb01-fbd2-4755-97e4-35889054c5fd"
      },
      "source": [
        "bsi_mapped_movie_ids = temp_str.split(\",\")\n",
        "bsi_original_movie_ids = get_original_movie_ids(bsi_mapped_movie_ids)\n",
        "print(bsi_original_movie_ids)"
      ],
      "execution_count": null,
      "outputs": [
        {
          "output_type": "stream",
          "name": "stdout",
          "text": [
            "[474, 29, 274, 1042, 118, 1, 546, 95, 246, 98, 193, 520, 558, 97, 870, 44, 686, 729, 566, 372]\n"
          ]
        }
      ]
    },
    {
      "cell_type": "code",
      "metadata": {
        "id": "WtVGpRG1hBeE"
      },
      "source": [
        "# now we evaluate compressed bit vector recommendations ( java code txt files)"
      ],
      "execution_count": null,
      "outputs": []
    },
    {
      "cell_type": "code",
      "metadata": {
        "id": "-Tp7TYAJhDZy"
      },
      "source": [
        "import os\n",
        "import numpy as np\n",
        "import pandas as pd\n",
        "from scipy.sparse import *\n",
        "from scipy import *\n",
        "from sklearn.preprocessing import LabelEncoder"
      ],
      "execution_count": null,
      "outputs": []
    },
    {
      "cell_type": "code",
      "metadata": {
        "colab": {
          "base_uri": "https://localhost:8080/"
        },
        "id": "KS1dcPSXhDio",
        "outputId": "2e8cdefd-ef48-4a96-b314-7e91abb11b74"
      },
      "source": [
        "test_data = pd.read_csv('test_ratings.csv')\n",
        "nRow, nCol = test_data.shape\n",
        "print(f'There are {nRow} rows and {nCol} columns')"
      ],
      "execution_count": null,
      "outputs": [
        {
          "output_type": "stream",
          "name": "stdout",
          "text": [
            "There are 15944 rows and 3 columns\n"
          ]
        }
      ]
    },
    {
      "cell_type": "code",
      "metadata": {
        "id": "KIgXoBiyhDpx"
      },
      "source": [
        "mapped_movieID_df = pd.read_csv('mapped_movie_ids.csv')"
      ],
      "execution_count": null,
      "outputs": []
    },
    {
      "cell_type": "code",
      "metadata": {
        "colab": {
          "base_uri": "https://localhost:8080/",
          "height": 419
        },
        "id": "axSU0SJyhDzd",
        "outputId": "f961bc45-d0e6-40f8-cbfa-388162df84d1"
      },
      "source": [
        "test_data"
      ],
      "execution_count": null,
      "outputs": [
        {
          "output_type": "execute_result",
          "data": {
            "text/html": [
              "<div>\n",
              "<style scoped>\n",
              "    .dataframe tbody tr th:only-of-type {\n",
              "        vertical-align: middle;\n",
              "    }\n",
              "\n",
              "    .dataframe tbody tr th {\n",
              "        vertical-align: top;\n",
              "    }\n",
              "\n",
              "    .dataframe thead th {\n",
              "        text-align: right;\n",
              "    }\n",
              "</style>\n",
              "<table border=\"1\" class=\"dataframe\">\n",
              "  <thead>\n",
              "    <tr style=\"text-align: right;\">\n",
              "      <th></th>\n",
              "      <th>userid</th>\n",
              "      <th>movieid</th>\n",
              "      <th>movieRating</th>\n",
              "    </tr>\n",
              "  </thead>\n",
              "  <tbody>\n",
              "    <tr>\n",
              "      <th>0</th>\n",
              "      <td>1</td>\n",
              "      <td>214</td>\n",
              "      <td>4</td>\n",
              "    </tr>\n",
              "    <tr>\n",
              "      <th>1</th>\n",
              "      <td>1</td>\n",
              "      <td>102</td>\n",
              "      <td>2</td>\n",
              "    </tr>\n",
              "    <tr>\n",
              "      <th>2</th>\n",
              "      <td>1</td>\n",
              "      <td>69</td>\n",
              "      <td>3</td>\n",
              "    </tr>\n",
              "    <tr>\n",
              "      <th>3</th>\n",
              "      <td>1</td>\n",
              "      <td>52</td>\n",
              "      <td>4</td>\n",
              "    </tr>\n",
              "    <tr>\n",
              "      <th>4</th>\n",
              "      <td>1</td>\n",
              "      <td>38</td>\n",
              "      <td>3</td>\n",
              "    </tr>\n",
              "    <tr>\n",
              "      <th>...</th>\n",
              "      <td>...</td>\n",
              "      <td>...</td>\n",
              "      <td>...</td>\n",
              "    </tr>\n",
              "    <tr>\n",
              "      <th>15939</th>\n",
              "      <td>943</td>\n",
              "      <td>393</td>\n",
              "      <td>2</td>\n",
              "    </tr>\n",
              "    <tr>\n",
              "      <th>15940</th>\n",
              "      <td>943</td>\n",
              "      <td>72</td>\n",
              "      <td>2</td>\n",
              "    </tr>\n",
              "    <tr>\n",
              "      <th>15941</th>\n",
              "      <td>943</td>\n",
              "      <td>24</td>\n",
              "      <td>4</td>\n",
              "    </tr>\n",
              "    <tr>\n",
              "      <th>15942</th>\n",
              "      <td>943</td>\n",
              "      <td>28</td>\n",
              "      <td>4</td>\n",
              "    </tr>\n",
              "    <tr>\n",
              "      <th>15943</th>\n",
              "      <td>943</td>\n",
              "      <td>732</td>\n",
              "      <td>4</td>\n",
              "    </tr>\n",
              "  </tbody>\n",
              "</table>\n",
              "<p>15944 rows × 3 columns</p>\n",
              "</div>"
            ],
            "text/plain": [
              "       userid  movieid  movieRating\n",
              "0           1      214            4\n",
              "1           1      102            2\n",
              "2           1       69            3\n",
              "3           1       52            4\n",
              "4           1       38            3\n",
              "...       ...      ...          ...\n",
              "15939     943      393            2\n",
              "15940     943       72            2\n",
              "15941     943       24            4\n",
              "15942     943       28            4\n",
              "15943     943      732            4\n",
              "\n",
              "[15944 rows x 3 columns]"
            ]
          },
          "metadata": {},
          "execution_count": 81
        }
      ]
    },
    {
      "cell_type": "code",
      "metadata": {
        "colab": {
          "base_uri": "https://localhost:8080/",
          "height": 204
        },
        "id": "IL7mtY_ihD68",
        "outputId": "2044a6d7-a7b9-4913-a7a9-013980680106"
      },
      "source": [
        "mapped_movieID_df.head()"
      ],
      "execution_count": null,
      "outputs": [
        {
          "output_type": "execute_result",
          "data": {
            "text/html": [
              "<div>\n",
              "<style scoped>\n",
              "    .dataframe tbody tr th:only-of-type {\n",
              "        vertical-align: middle;\n",
              "    }\n",
              "\n",
              "    .dataframe tbody tr th {\n",
              "        vertical-align: top;\n",
              "    }\n",
              "\n",
              "    .dataframe thead th {\n",
              "        text-align: right;\n",
              "    }\n",
              "</style>\n",
              "<table border=\"1\" class=\"dataframe\">\n",
              "  <thead>\n",
              "    <tr style=\"text-align: right;\">\n",
              "      <th></th>\n",
              "      <th>original_movie_ids</th>\n",
              "      <th>mapped_movie_ids</th>\n",
              "    </tr>\n",
              "  </thead>\n",
              "  <tbody>\n",
              "    <tr>\n",
              "      <th>0</th>\n",
              "      <td>242</td>\n",
              "      <td>1</td>\n",
              "    </tr>\n",
              "    <tr>\n",
              "      <th>1</th>\n",
              "      <td>302</td>\n",
              "      <td>2</td>\n",
              "    </tr>\n",
              "    <tr>\n",
              "      <th>2</th>\n",
              "      <td>377</td>\n",
              "      <td>3</td>\n",
              "    </tr>\n",
              "    <tr>\n",
              "      <th>3</th>\n",
              "      <td>51</td>\n",
              "      <td>4</td>\n",
              "    </tr>\n",
              "    <tr>\n",
              "      <th>4</th>\n",
              "      <td>346</td>\n",
              "      <td>5</td>\n",
              "    </tr>\n",
              "  </tbody>\n",
              "</table>\n",
              "</div>"
            ],
            "text/plain": [
              "   original_movie_ids  mapped_movie_ids\n",
              "0                 242                 1\n",
              "1                 302                 2\n",
              "2                 377                 3\n",
              "3                  51                 4\n",
              "4                 346                 5"
            ]
          },
          "metadata": {},
          "execution_count": 82
        }
      ]
    },
    {
      "cell_type": "code",
      "metadata": {
        "id": "EvhF1Xf4jai_"
      },
      "source": [
        "# create dictionaries for movieID mapping\n",
        "mapped_movieID_dict = {}\n",
        "# mapped_movieID_df.size\n",
        "for i in range(len(mapped_movieID_df)):\n",
        "    row = mapped_movieID_df.loc[i]\n",
        "#     print(row)\n",
        "    mapped_movieID_dict[row.original_movie_ids] = row.mapped_movie_ids"
      ],
      "execution_count": null,
      "outputs": []
    },
    {
      "cell_type": "code",
      "metadata": {
        "id": "-q3oBlhljkAi"
      },
      "source": [
        "original_movieID_dict = {}\n",
        "for i in range(len(mapped_movieID_df)):\n",
        "    row = mapped_movieID_df.loc[i]\n",
        "#     print(row)\n",
        "    original_movieID_dict[row.mapped_movie_ids] = row.original_movie_ids"
      ],
      "execution_count": null,
      "outputs": []
    },
    {
      "cell_type": "code",
      "metadata": {
        "colab": {
          "base_uri": "https://localhost:8080/"
        },
        "id": "3krcoD6-jm2P",
        "outputId": "da1d5417-2abc-4d9e-f7d3-4059c658d505"
      },
      "source": [
        "# unique users in test data for evaluation\n",
        "test_users = test_data.userid.unique()\n",
        "test_users_list = test_users.tolist()\n",
        "print(test_users_list)\n",
        "print(len(test_users_list))\n",
        "# used in the java file to generate test_recommendation_bsi.txt and bsi_recommendations_for_all_user.txt"
      ],
      "execution_count": null,
      "outputs": [
        {
          "output_type": "stream",
          "name": "stdout",
          "text": [
            "[1, 2, 3, 5, 6, 7, 8, 10, 11, 12, 13, 14, 15, 16, 18, 21, 22, 23, 24, 25, 26, 28, 37, 38, 41, 42, 43, 44, 48, 49, 52, 54, 56, 57, 58, 59, 60, 62, 63, 64, 65, 69, 70, 72, 73, 75, 76, 77, 79, 81, 82, 83, 84, 85, 87, 89, 90, 91, 92, 94, 95, 96, 97, 99, 100, 101, 102, 104, 106, 109, 110, 113, 115, 116, 117, 118, 119, 121, 122, 123, 125, 128, 130, 135, 138, 141, 144, 145, 148, 151, 152, 154, 157, 158, 159, 160, 161, 164, 167, 168, 174, 176, 177, 178, 180, 181, 183, 184, 186, 187, 188, 189, 190, 193, 194, 195, 197, 198, 200, 201, 206, 207, 210, 213, 214, 215, 216, 217, 218, 221, 222, 223, 224, 226, 227, 230, 232, 233, 234, 235, 236, 239, 243, 244, 246, 248, 249, 250, 251, 253, 254, 255, 256, 257, 262, 263, 264, 267, 268, 269, 270, 271, 272, 274, 275, 276, 277, 279, 280, 283, 286, 287, 288, 290, 291, 292, 293, 294, 295, 296, 297, 298, 299, 301, 303, 305, 307, 308, 311, 312, 313, 314, 315, 316, 318, 320, 321, 322, 323, 324, 325, 326, 327, 328, 329, 330, 331, 332, 334, 336, 338, 339, 342, 343, 344, 345, 346, 347, 348, 350, 354, 357, 360, 361, 363, 365, 367, 370, 371, 372, 373, 374, 378, 379, 380, 381, 382, 383, 385, 387, 388, 389, 391, 392, 393, 394, 395, 396, 397, 398, 399, 401, 402, 403, 405, 406, 407, 409, 411, 412, 413, 416, 417, 421, 422, 423, 425, 426, 428, 429, 430, 432, 435, 436, 437, 440, 442, 445, 447, 449, 450, 451, 452, 453, 454, 455, 456, 457, 458, 459, 460, 463, 464, 465, 466, 468, 470, 472, 474, 476, 478, 479, 480, 481, 483, 484, 486, 487, 488, 489, 490, 492, 493, 495, 496, 497, 498, 499, 500, 501, 503, 504, 505, 506, 507, 508, 514, 518, 521, 523, 524, 525, 526, 527, 528, 532, 533, 534, 535, 536, 537, 538, 539, 540, 541, 542, 543, 545, 546, 548, 551, 552, 553, 554, 555, 557, 559, 560, 561, 562, 566, 567, 568, 569, 573, 577, 579, 582, 585, 586, 587, 588, 591, 592, 593, 595, 600, 601, 605, 606, 608, 610, 615, 617, 618, 619, 620, 621, 622, 624, 625, 627, 629, 630, 632, 633, 634, 637, 638, 639, 640, 642, 643, 645, 647, 648, 650, 653, 654, 655, 658, 659, 660, 661, 663, 664, 665, 666, 669, 671, 676, 679, 682, 683, 684, 686, 690, 693, 694, 697, 698, 699, 704, 705, 707, 708, 709, 710, 711, 712, 715, 716, 717, 719, 721, 724, 727, 731, 733, 734, 735, 738, 741, 745, 746, 747, 748, 749, 751, 752, 753, 756, 757, 758, 761, 763, 764, 766, 768, 770, 771, 773, 774, 776, 778, 780, 782, 786, 787, 788, 790, 793, 795, 796, 798, 802, 804, 805, 806, 807, 815, 821, 823, 825, 826, 828, 829, 830, 831, 833, 834, 835, 836, 838, 839, 840, 843, 844, 846, 847, 848, 850, 851, 854, 860, 862, 863, 864, 865, 867, 868, 870, 871, 872, 875, 877, 878, 880, 881, 882, 883, 885, 886, 887, 889, 890, 892, 893, 894, 896, 897, 899, 901, 903, 907, 908, 910, 911, 912, 913, 916, 918, 919, 921, 922, 923, 924, 927, 930, 931, 932, 933, 934, 936, 938, 940, 942, 943]\n",
            "568\n"
          ]
        }
      ]
    },
    {
      "cell_type": "code",
      "metadata": {
        "id": "TenNG36ql_Nz"
      },
      "source": [
        "def get_mapped_movieids(original_movieIds):\n",
        "    mapped_movieIds= []\n",
        "    for _id in original_movieIds:\n",
        "        mapped_movieIds.append(mapped_movieID_dict[_id])\n",
        "    return mapped_movieIds"
      ],
      "execution_count": null,
      "outputs": []
    },
    {
      "cell_type": "code",
      "metadata": {
        "id": "78kGKL2-mAAN"
      },
      "source": [
        "# get Get movies which is rated (>3.0)/(change depending on dataset) by user in test data for BSI\n",
        "def get_test_rec_movieIds(userId):\n",
        "    user_df = test_data[test_data.userid == userId]\n",
        "    user_movie_df = user_df[user_df.movieRating > 3.0]\n",
        "    original_movieIds = user_movie_df.movieid.unique()\n",
        "    mapped_movieIds = get_mapped_movieids(original_movieIds)\n",
        "    return mapped_movieIds\n"
      ],
      "execution_count": null,
      "outputs": []
    },
    {
      "cell_type": "code",
      "metadata": {
        "id": "yoLNklGPmOB1"
      },
      "source": [
        "def find_common(original_ids, rec_ids):\n",
        "    original_ids_set = set(original_ids)\n",
        "    common_count = 0\n",
        "    if rec_ids[-1] == '':\n",
        "        rec_ids.pop()\n",
        "    for _id in rec_ids:\n",
        "        if int(_id) in original_ids_set:\n",
        "            common_count += 1\n",
        "    return common_count"
      ],
      "execution_count": null,
      "outputs": []
    },
    {
      "cell_type": "code",
      "metadata": {
        "colab": {
          "base_uri": "https://localhost:8080/",
          "height": 204
        },
        "id": "e19JBFaEmwc5",
        "outputId": "994526d4-7cc6-4232-b1f3-7d5e87df96c3"
      },
      "source": [
        "mapped_movieID_df.head()"
      ],
      "execution_count": null,
      "outputs": [
        {
          "output_type": "execute_result",
          "data": {
            "text/html": [
              "<div>\n",
              "<style scoped>\n",
              "    .dataframe tbody tr th:only-of-type {\n",
              "        vertical-align: middle;\n",
              "    }\n",
              "\n",
              "    .dataframe tbody tr th {\n",
              "        vertical-align: top;\n",
              "    }\n",
              "\n",
              "    .dataframe thead th {\n",
              "        text-align: right;\n",
              "    }\n",
              "</style>\n",
              "<table border=\"1\" class=\"dataframe\">\n",
              "  <thead>\n",
              "    <tr style=\"text-align: right;\">\n",
              "      <th></th>\n",
              "      <th>original_movie_ids</th>\n",
              "      <th>mapped_movie_ids</th>\n",
              "    </tr>\n",
              "  </thead>\n",
              "  <tbody>\n",
              "    <tr>\n",
              "      <th>0</th>\n",
              "      <td>242</td>\n",
              "      <td>1</td>\n",
              "    </tr>\n",
              "    <tr>\n",
              "      <th>1</th>\n",
              "      <td>302</td>\n",
              "      <td>2</td>\n",
              "    </tr>\n",
              "    <tr>\n",
              "      <th>2</th>\n",
              "      <td>377</td>\n",
              "      <td>3</td>\n",
              "    </tr>\n",
              "    <tr>\n",
              "      <th>3</th>\n",
              "      <td>51</td>\n",
              "      <td>4</td>\n",
              "    </tr>\n",
              "    <tr>\n",
              "      <th>4</th>\n",
              "      <td>346</td>\n",
              "      <td>5</td>\n",
              "    </tr>\n",
              "  </tbody>\n",
              "</table>\n",
              "</div>"
            ],
            "text/plain": [
              "   original_movie_ids  mapped_movie_ids\n",
              "0                 242                 1\n",
              "1                 302                 2\n",
              "2                 377                 3\n",
              "3                  51                 4\n",
              "4                 346                 5"
            ]
          },
          "metadata": {},
          "execution_count": 89
        }
      ]
    },
    {
      "cell_type": "code",
      "metadata": {
        "id": "ZJdEVHQHmwuJ"
      },
      "source": [
        "def getOrginalMoviesIds(mapped_movie_ids):\n",
        "    original_movieIds= []\n",
        "    for _id in mapped_movie_ids:\n",
        "        original_movieIds.append(original_movieID_dict[int(_id)])\n",
        "    return original_movieIds\n"
      ],
      "execution_count": null,
      "outputs": []
    },
    {
      "cell_type": "code",
      "metadata": {
        "colab": {
          "base_uri": "https://localhost:8080/"
        },
        "id": "xrSpx_XJmw26",
        "outputId": "be477461-a232-4c75-c247-af91b1b9dd79"
      },
      "source": [
        "print(getOrginalMoviesIds(['3','4']))"
      ],
      "execution_count": null,
      "outputs": [
        {
          "output_type": "stream",
          "name": "stdout",
          "text": [
            "[377, 51]\n"
          ]
        }
      ]
    },
    {
      "cell_type": "code",
      "metadata": {
        "id": "T2L45HIdmxEi"
      },
      "source": [
        "### Calculate Precision and Recall\n",
        "\n",
        "def getPrecision(total_count, common_count):\n",
        "    if(total_count ==0):\n",
        "        return 0\n",
        "    return (common_count/total_count)\n",
        "\n",
        "def getRecall(total_count, common_count):\n",
        "    if(total_count ==0):\n",
        "        return 1\n",
        "    return (common_count/total_count)\n",
        "\n",
        "# def hitratio(total_count, hits):\n",
        "#     if(hits ==0):\n",
        "#         return 1\n",
        "#     return (hits/total_count)\n",
        "\n",
        "def getf1score(precision, recall):\n",
        "    if(precision == 0 and recall == 0 ):\n",
        "        return 0\n",
        "    return ((2 * precision * recall )/ ( precision + recall ))"
      ],
      "execution_count": null,
      "outputs": []
    },
    {
      "cell_type": "code",
      "metadata": {
        "id": "XB_qgr8Ymxa7"
      },
      "source": [
        "### Evalute Bsi algorithm for all test users\n",
        "## After executing the java code, copy the output\n",
        "# copy test_recommendation_bsi.txt and bsi_recommendations_for_all_users.txt from the java IntelliJ env into colab jupyterNotebook env"
      ],
      "execution_count": null,
      "outputs": []
    },
    {
      "cell_type": "code",
      "metadata": {
        "colab": {
          "base_uri": "https://localhost:8080/"
        },
        "id": "zaXskuecmxkl",
        "outputId": "7e62d7ea-8dd1-4c1d-c780-fc64e9baefb8"
      },
      "source": [
        "# get_test_rec_movieIds\n",
        "count = 0\n",
        "input_file = open('test_recommendation_bsi.txt','r') # file pulled from java code. CBV\n",
        "\n",
        "userIds = []\n",
        "actual_movies_watched = []\n",
        "recomendations = []\n",
        "common_movies = []\n",
        "similar_usres_k = []\n",
        "precision = []\n",
        "recall = []\n",
        "f1score = []\n",
        "\n",
        "while (True):\n",
        "    line = input_file.readline()\n",
        "    if not line:\n",
        "        break\n",
        "    count +=1\n",
        "    \n",
        "    values = line.split(\", \")\n",
        "    userid = values[0]\n",
        "    userK = values[1] # neighborhood size\n",
        "    no_recomendations = values[2] # no of recommendations per user\n",
        "    recomendations_for_user = values[3:] # actual recommendations\n",
        "    \n",
        "    recomendations_for_user.pop() ## removing last null(\\n) value\n",
        "    \n",
        "    actual_movies_wated_by_users = get_test_rec_movieIds(int(userid)) # movies in test data  # actaul movies watched by user which are greater > 3\n",
        "    common_count = find_common(actual_movies_wated_by_users, recomendations_for_user) # movies in algo's predictions\n",
        "    \n",
        "#     print(userId,userK,no_recomendations)\n",
        "#     print(common_count)\n",
        "\n",
        "    userIds.append(userid)\n",
        "    similar_usres_k.append(int(userK))\n",
        "    actual_movies_watched.append(len(actual_movies_wated_by_users)) \n",
        "    recomendations.append(int(no_recomendations))\n",
        "    common_movies.append(common_count)\n",
        "    \n",
        "    total_count_for_precision = int(no_recomendations) # actual results\n",
        "    total_count_for_recall = len(actual_movies_wated_by_users)\n",
        "    \n",
        "    temp_Precision = getPrecision(total_count_for_precision, common_count)\n",
        "    precision.append(temp_Precision)\n",
        "    temp_recall = getRecall(total_count_for_recall, common_count)\n",
        "    recall.append(temp_recall)\n",
        "    f1score.append(getf1score(temp_Precision, temp_recall))\n",
        "    \n",
        "print(count)\n",
        "# 568(test_users) * userK(4 len of list) * itemK(5 len of list) = 11360 test_recommendation_bsi.txt rows count"
      ],
      "execution_count": null,
      "outputs": [
        {
          "output_type": "stream",
          "name": "stdout",
          "text": [
            "2840\n"
          ]
        }
      ]
    },
    {
      "cell_type": "code",
      "metadata": {
        "id": "fTtLGkqOmxp9"
      },
      "source": [
        "# storing precision and recall in new dict and dataframe\n",
        "result_df_dict = {\"userId\":userIds,\"actual_movies_watched\":actual_movies_watched,\n",
        "                  \"recomendations\":recomendations,\"common_movies\":common_movies,\n",
        "                  \"similar_usres_k\":similar_usres_k, \"precision\": precision, \"recall\": recall, \"f1_score\": f1score}"
      ],
      "execution_count": null,
      "outputs": []
    },
    {
      "cell_type": "code",
      "metadata": {
        "colab": {
          "base_uri": "https://localhost:8080/",
          "height": 439
        },
        "id": "yG3OAXjhrz0c",
        "outputId": "4eab9544-1271-4c00-9f11-a42e269ca721"
      },
      "source": [
        "result_bsi_df = pd.DataFrame(result_df_dict)\n",
        "result_bsi_df.head(25)\n",
        "result_bsi_df = result_bsi_df.astype({\"userId\": int})\n",
        "result_bsi_df"
      ],
      "execution_count": null,
      "outputs": [
        {
          "output_type": "execute_result",
          "data": {
            "text/html": [
              "<div>\n",
              "<style scoped>\n",
              "    .dataframe tbody tr th:only-of-type {\n",
              "        vertical-align: middle;\n",
              "    }\n",
              "\n",
              "    .dataframe tbody tr th {\n",
              "        vertical-align: top;\n",
              "    }\n",
              "\n",
              "    .dataframe thead th {\n",
              "        text-align: right;\n",
              "    }\n",
              "</style>\n",
              "<table border=\"1\" class=\"dataframe\">\n",
              "  <thead>\n",
              "    <tr style=\"text-align: right;\">\n",
              "      <th></th>\n",
              "      <th>userId</th>\n",
              "      <th>actual_movies_watched</th>\n",
              "      <th>recomendations</th>\n",
              "      <th>common_movies</th>\n",
              "      <th>similar_usres_k</th>\n",
              "      <th>precision</th>\n",
              "      <th>recall</th>\n",
              "      <th>f1_score</th>\n",
              "    </tr>\n",
              "  </thead>\n",
              "  <tbody>\n",
              "    <tr>\n",
              "      <th>0</th>\n",
              "      <td>1</td>\n",
              "      <td>28</td>\n",
              "      <td>5</td>\n",
              "      <td>1</td>\n",
              "      <td>5</td>\n",
              "      <td>0.20</td>\n",
              "      <td>0.035714</td>\n",
              "      <td>0.060606</td>\n",
              "    </tr>\n",
              "    <tr>\n",
              "      <th>1</th>\n",
              "      <td>1</td>\n",
              "      <td>28</td>\n",
              "      <td>10</td>\n",
              "      <td>1</td>\n",
              "      <td>5</td>\n",
              "      <td>0.10</td>\n",
              "      <td>0.035714</td>\n",
              "      <td>0.052632</td>\n",
              "    </tr>\n",
              "    <tr>\n",
              "      <th>2</th>\n",
              "      <td>1</td>\n",
              "      <td>28</td>\n",
              "      <td>25</td>\n",
              "      <td>3</td>\n",
              "      <td>5</td>\n",
              "      <td>0.12</td>\n",
              "      <td>0.107143</td>\n",
              "      <td>0.113208</td>\n",
              "    </tr>\n",
              "    <tr>\n",
              "      <th>3</th>\n",
              "      <td>1</td>\n",
              "      <td>28</td>\n",
              "      <td>50</td>\n",
              "      <td>3</td>\n",
              "      <td>5</td>\n",
              "      <td>0.06</td>\n",
              "      <td>0.107143</td>\n",
              "      <td>0.076923</td>\n",
              "    </tr>\n",
              "    <tr>\n",
              "      <th>4</th>\n",
              "      <td>1</td>\n",
              "      <td>28</td>\n",
              "      <td>100</td>\n",
              "      <td>7</td>\n",
              "      <td>5</td>\n",
              "      <td>0.07</td>\n",
              "      <td>0.250000</td>\n",
              "      <td>0.109375</td>\n",
              "    </tr>\n",
              "    <tr>\n",
              "      <th>...</th>\n",
              "      <td>...</td>\n",
              "      <td>...</td>\n",
              "      <td>...</td>\n",
              "      <td>...</td>\n",
              "      <td>...</td>\n",
              "      <td>...</td>\n",
              "      <td>...</td>\n",
              "      <td>...</td>\n",
              "    </tr>\n",
              "    <tr>\n",
              "      <th>2835</th>\n",
              "      <td>943</td>\n",
              "      <td>22</td>\n",
              "      <td>5</td>\n",
              "      <td>1</td>\n",
              "      <td>5</td>\n",
              "      <td>0.20</td>\n",
              "      <td>0.045455</td>\n",
              "      <td>0.074074</td>\n",
              "    </tr>\n",
              "    <tr>\n",
              "      <th>2836</th>\n",
              "      <td>943</td>\n",
              "      <td>22</td>\n",
              "      <td>10</td>\n",
              "      <td>1</td>\n",
              "      <td>5</td>\n",
              "      <td>0.10</td>\n",
              "      <td>0.045455</td>\n",
              "      <td>0.062500</td>\n",
              "    </tr>\n",
              "    <tr>\n",
              "      <th>2837</th>\n",
              "      <td>943</td>\n",
              "      <td>22</td>\n",
              "      <td>25</td>\n",
              "      <td>1</td>\n",
              "      <td>5</td>\n",
              "      <td>0.04</td>\n",
              "      <td>0.045455</td>\n",
              "      <td>0.042553</td>\n",
              "    </tr>\n",
              "    <tr>\n",
              "      <th>2838</th>\n",
              "      <td>943</td>\n",
              "      <td>22</td>\n",
              "      <td>50</td>\n",
              "      <td>2</td>\n",
              "      <td>5</td>\n",
              "      <td>0.04</td>\n",
              "      <td>0.090909</td>\n",
              "      <td>0.055556</td>\n",
              "    </tr>\n",
              "    <tr>\n",
              "      <th>2839</th>\n",
              "      <td>943</td>\n",
              "      <td>22</td>\n",
              "      <td>100</td>\n",
              "      <td>6</td>\n",
              "      <td>5</td>\n",
              "      <td>0.06</td>\n",
              "      <td>0.272727</td>\n",
              "      <td>0.098361</td>\n",
              "    </tr>\n",
              "  </tbody>\n",
              "</table>\n",
              "<p>2840 rows × 8 columns</p>\n",
              "</div>"
            ],
            "text/plain": [
              "      userId  actual_movies_watched  ...    recall  f1_score\n",
              "0          1                     28  ...  0.035714  0.060606\n",
              "1          1                     28  ...  0.035714  0.052632\n",
              "2          1                     28  ...  0.107143  0.113208\n",
              "3          1                     28  ...  0.107143  0.076923\n",
              "4          1                     28  ...  0.250000  0.109375\n",
              "...      ...                    ...  ...       ...       ...\n",
              "2835     943                     22  ...  0.045455  0.074074\n",
              "2836     943                     22  ...  0.045455  0.062500\n",
              "2837     943                     22  ...  0.045455  0.042553\n",
              "2838     943                     22  ...  0.090909  0.055556\n",
              "2839     943                     22  ...  0.272727  0.098361\n",
              "\n",
              "[2840 rows x 8 columns]"
            ]
          },
          "metadata": {},
          "execution_count": 134
        }
      ]
    },
    {
      "cell_type": "code",
      "metadata": {
        "colab": {
          "base_uri": "https://localhost:8080/",
          "height": 439
        },
        "id": "OY5c28sRsOq6",
        "outputId": "e5d196b7-73f2-44a8-e23e-8f76a6d84085"
      },
      "source": [
        "result_bsi_df.sort_values('precision', ascending=False)"
      ],
      "execution_count": null,
      "outputs": [
        {
          "output_type": "execute_result",
          "data": {
            "text/html": [
              "<div>\n",
              "<style scoped>\n",
              "    .dataframe tbody tr th:only-of-type {\n",
              "        vertical-align: middle;\n",
              "    }\n",
              "\n",
              "    .dataframe tbody tr th {\n",
              "        vertical-align: top;\n",
              "    }\n",
              "\n",
              "    .dataframe thead th {\n",
              "        text-align: right;\n",
              "    }\n",
              "</style>\n",
              "<table border=\"1\" class=\"dataframe\">\n",
              "  <thead>\n",
              "    <tr style=\"text-align: right;\">\n",
              "      <th></th>\n",
              "      <th>userId</th>\n",
              "      <th>actual_movies_watched</th>\n",
              "      <th>recomendations</th>\n",
              "      <th>common_movies</th>\n",
              "      <th>similar_usres_k</th>\n",
              "      <th>precision</th>\n",
              "      <th>recall</th>\n",
              "      <th>f1_score</th>\n",
              "    </tr>\n",
              "  </thead>\n",
              "  <tbody>\n",
              "    <tr>\n",
              "      <th>1400</th>\n",
              "      <td>450</td>\n",
              "      <td>71</td>\n",
              "      <td>5</td>\n",
              "      <td>5</td>\n",
              "      <td>5</td>\n",
              "      <td>1.0</td>\n",
              "      <td>0.070423</td>\n",
              "      <td>0.131579</td>\n",
              "    </tr>\n",
              "    <tr>\n",
              "      <th>1435</th>\n",
              "      <td>457</td>\n",
              "      <td>45</td>\n",
              "      <td>5</td>\n",
              "      <td>4</td>\n",
              "      <td>5</td>\n",
              "      <td>0.8</td>\n",
              "      <td>0.088889</td>\n",
              "      <td>0.160000</td>\n",
              "    </tr>\n",
              "    <tr>\n",
              "      <th>160</th>\n",
              "      <td>56</td>\n",
              "      <td>21</td>\n",
              "      <td>5</td>\n",
              "      <td>4</td>\n",
              "      <td>5</td>\n",
              "      <td>0.8</td>\n",
              "      <td>0.190476</td>\n",
              "      <td>0.307692</td>\n",
              "    </tr>\n",
              "    <tr>\n",
              "      <th>940</th>\n",
              "      <td>311</td>\n",
              "      <td>34</td>\n",
              "      <td>5</td>\n",
              "      <td>4</td>\n",
              "      <td>5</td>\n",
              "      <td>0.8</td>\n",
              "      <td>0.117647</td>\n",
              "      <td>0.205128</td>\n",
              "    </tr>\n",
              "    <tr>\n",
              "      <th>2205</th>\n",
              "      <td>716</td>\n",
              "      <td>30</td>\n",
              "      <td>5</td>\n",
              "      <td>4</td>\n",
              "      <td>5</td>\n",
              "      <td>0.8</td>\n",
              "      <td>0.133333</td>\n",
              "      <td>0.228571</td>\n",
              "    </tr>\n",
              "    <tr>\n",
              "      <th>...</th>\n",
              "      <td>...</td>\n",
              "      <td>...</td>\n",
              "      <td>...</td>\n",
              "      <td>...</td>\n",
              "      <td>...</td>\n",
              "      <td>...</td>\n",
              "      <td>...</td>\n",
              "      <td>...</td>\n",
              "    </tr>\n",
              "    <tr>\n",
              "      <th>755</th>\n",
              "      <td>255</td>\n",
              "      <td>6</td>\n",
              "      <td>5</td>\n",
              "      <td>0</td>\n",
              "      <td>5</td>\n",
              "      <td>0.0</td>\n",
              "      <td>0.000000</td>\n",
              "      <td>0.000000</td>\n",
              "    </tr>\n",
              "    <tr>\n",
              "      <th>751</th>\n",
              "      <td>254</td>\n",
              "      <td>6</td>\n",
              "      <td>10</td>\n",
              "      <td>0</td>\n",
              "      <td>5</td>\n",
              "      <td>0.0</td>\n",
              "      <td>0.000000</td>\n",
              "      <td>0.000000</td>\n",
              "    </tr>\n",
              "    <tr>\n",
              "      <th>750</th>\n",
              "      <td>254</td>\n",
              "      <td>6</td>\n",
              "      <td>5</td>\n",
              "      <td>0</td>\n",
              "      <td>5</td>\n",
              "      <td>0.0</td>\n",
              "      <td>0.000000</td>\n",
              "      <td>0.000000</td>\n",
              "    </tr>\n",
              "    <tr>\n",
              "      <th>2080</th>\n",
              "      <td>665</td>\n",
              "      <td>14</td>\n",
              "      <td>5</td>\n",
              "      <td>0</td>\n",
              "      <td>5</td>\n",
              "      <td>0.0</td>\n",
              "      <td>0.000000</td>\n",
              "      <td>0.000000</td>\n",
              "    </tr>\n",
              "    <tr>\n",
              "      <th>1420</th>\n",
              "      <td>454</td>\n",
              "      <td>11</td>\n",
              "      <td>5</td>\n",
              "      <td>0</td>\n",
              "      <td>5</td>\n",
              "      <td>0.0</td>\n",
              "      <td>0.000000</td>\n",
              "      <td>0.000000</td>\n",
              "    </tr>\n",
              "  </tbody>\n",
              "</table>\n",
              "<p>2840 rows × 8 columns</p>\n",
              "</div>"
            ],
            "text/plain": [
              "      userId  actual_movies_watched  ...    recall  f1_score\n",
              "1400     450                     71  ...  0.070423  0.131579\n",
              "1435     457                     45  ...  0.088889  0.160000\n",
              "160       56                     21  ...  0.190476  0.307692\n",
              "940      311                     34  ...  0.117647  0.205128\n",
              "2205     716                     30  ...  0.133333  0.228571\n",
              "...      ...                    ...  ...       ...       ...\n",
              "755      255                      6  ...  0.000000  0.000000\n",
              "751      254                      6  ...  0.000000  0.000000\n",
              "750      254                      6  ...  0.000000  0.000000\n",
              "2080     665                     14  ...  0.000000  0.000000\n",
              "1420     454                     11  ...  0.000000  0.000000\n",
              "\n",
              "[2840 rows x 8 columns]"
            ]
          },
          "metadata": {},
          "execution_count": 135
        }
      ]
    },
    {
      "cell_type": "code",
      "metadata": {
        "colab": {
          "base_uri": "https://localhost:8080/",
          "height": 439
        },
        "id": "quFID4RDsery",
        "outputId": "43c76d8b-9340-4729-b1d6-824704cd819d"
      },
      "source": [
        "result_bsi_df.sort_values('recall', ascending=False)"
      ],
      "execution_count": null,
      "outputs": [
        {
          "output_type": "execute_result",
          "data": {
            "text/html": [
              "<div>\n",
              "<style scoped>\n",
              "    .dataframe tbody tr th:only-of-type {\n",
              "        vertical-align: middle;\n",
              "    }\n",
              "\n",
              "    .dataframe tbody tr th {\n",
              "        vertical-align: top;\n",
              "    }\n",
              "\n",
              "    .dataframe thead th {\n",
              "        text-align: right;\n",
              "    }\n",
              "</style>\n",
              "<table border=\"1\" class=\"dataframe\">\n",
              "  <thead>\n",
              "    <tr style=\"text-align: right;\">\n",
              "      <th></th>\n",
              "      <th>userId</th>\n",
              "      <th>actual_movies_watched</th>\n",
              "      <th>recomendations</th>\n",
              "      <th>common_movies</th>\n",
              "      <th>similar_usres_k</th>\n",
              "      <th>precision</th>\n",
              "      <th>recall</th>\n",
              "      <th>f1_score</th>\n",
              "    </tr>\n",
              "  </thead>\n",
              "  <tbody>\n",
              "    <tr>\n",
              "      <th>329</th>\n",
              "      <td>101</td>\n",
              "      <td>0</td>\n",
              "      <td>100</td>\n",
              "      <td>0</td>\n",
              "      <td>5</td>\n",
              "      <td>0.00</td>\n",
              "      <td>1.0</td>\n",
              "      <td>0.000000</td>\n",
              "    </tr>\n",
              "    <tr>\n",
              "      <th>534</th>\n",
              "      <td>183</td>\n",
              "      <td>0</td>\n",
              "      <td>100</td>\n",
              "      <td>0</td>\n",
              "      <td>5</td>\n",
              "      <td>0.00</td>\n",
              "      <td>1.0</td>\n",
              "      <td>0.000000</td>\n",
              "    </tr>\n",
              "    <tr>\n",
              "      <th>533</th>\n",
              "      <td>183</td>\n",
              "      <td>0</td>\n",
              "      <td>50</td>\n",
              "      <td>0</td>\n",
              "      <td>5</td>\n",
              "      <td>0.00</td>\n",
              "      <td>1.0</td>\n",
              "      <td>0.000000</td>\n",
              "    </tr>\n",
              "    <tr>\n",
              "      <th>1814</th>\n",
              "      <td>568</td>\n",
              "      <td>4</td>\n",
              "      <td>100</td>\n",
              "      <td>4</td>\n",
              "      <td>5</td>\n",
              "      <td>0.04</td>\n",
              "      <td>1.0</td>\n",
              "      <td>0.076923</td>\n",
              "    </tr>\n",
              "    <tr>\n",
              "      <th>532</th>\n",
              "      <td>183</td>\n",
              "      <td>0</td>\n",
              "      <td>25</td>\n",
              "      <td>0</td>\n",
              "      <td>5</td>\n",
              "      <td>0.00</td>\n",
              "      <td>1.0</td>\n",
              "      <td>0.000000</td>\n",
              "    </tr>\n",
              "    <tr>\n",
              "      <th>...</th>\n",
              "      <td>...</td>\n",
              "      <td>...</td>\n",
              "      <td>...</td>\n",
              "      <td>...</td>\n",
              "      <td>...</td>\n",
              "      <td>...</td>\n",
              "      <td>...</td>\n",
              "      <td>...</td>\n",
              "    </tr>\n",
              "    <tr>\n",
              "      <th>1377</th>\n",
              "      <td>440</td>\n",
              "      <td>7</td>\n",
              "      <td>25</td>\n",
              "      <td>0</td>\n",
              "      <td>5</td>\n",
              "      <td>0.00</td>\n",
              "      <td>0.0</td>\n",
              "      <td>0.000000</td>\n",
              "    </tr>\n",
              "    <tr>\n",
              "      <th>2360</th>\n",
              "      <td>774</td>\n",
              "      <td>5</td>\n",
              "      <td>5</td>\n",
              "      <td>0</td>\n",
              "      <td>5</td>\n",
              "      <td>0.00</td>\n",
              "      <td>0.0</td>\n",
              "      <td>0.000000</td>\n",
              "    </tr>\n",
              "    <tr>\n",
              "      <th>2361</th>\n",
              "      <td>774</td>\n",
              "      <td>5</td>\n",
              "      <td>10</td>\n",
              "      <td>0</td>\n",
              "      <td>5</td>\n",
              "      <td>0.00</td>\n",
              "      <td>0.0</td>\n",
              "      <td>0.000000</td>\n",
              "    </tr>\n",
              "    <tr>\n",
              "      <th>1376</th>\n",
              "      <td>440</td>\n",
              "      <td>7</td>\n",
              "      <td>10</td>\n",
              "      <td>0</td>\n",
              "      <td>5</td>\n",
              "      <td>0.00</td>\n",
              "      <td>0.0</td>\n",
              "      <td>0.000000</td>\n",
              "    </tr>\n",
              "    <tr>\n",
              "      <th>1420</th>\n",
              "      <td>454</td>\n",
              "      <td>11</td>\n",
              "      <td>5</td>\n",
              "      <td>0</td>\n",
              "      <td>5</td>\n",
              "      <td>0.00</td>\n",
              "      <td>0.0</td>\n",
              "      <td>0.000000</td>\n",
              "    </tr>\n",
              "  </tbody>\n",
              "</table>\n",
              "<p>2840 rows × 8 columns</p>\n",
              "</div>"
            ],
            "text/plain": [
              "      userId  actual_movies_watched  ...  recall  f1_score\n",
              "329      101                      0  ...     1.0  0.000000\n",
              "534      183                      0  ...     1.0  0.000000\n",
              "533      183                      0  ...     1.0  0.000000\n",
              "1814     568                      4  ...     1.0  0.076923\n",
              "532      183                      0  ...     1.0  0.000000\n",
              "...      ...                    ...  ...     ...       ...\n",
              "1377     440                      7  ...     0.0  0.000000\n",
              "2360     774                      5  ...     0.0  0.000000\n",
              "2361     774                      5  ...     0.0  0.000000\n",
              "1376     440                      7  ...     0.0  0.000000\n",
              "1420     454                     11  ...     0.0  0.000000\n",
              "\n",
              "[2840 rows x 8 columns]"
            ]
          },
          "metadata": {},
          "execution_count": 136
        }
      ]
    },
    {
      "cell_type": "code",
      "metadata": {
        "colab": {
          "base_uri": "https://localhost:8080/",
          "height": 439
        },
        "id": "vSDbsUF7ACs2",
        "outputId": "f62c73fa-8cc1-47c8-d2d3-3e21cf4d6ca7"
      },
      "source": [
        "result_bsi_df.sort_values('f1_score', ascending=False)"
      ],
      "execution_count": null,
      "outputs": [
        {
          "output_type": "execute_result",
          "data": {
            "text/html": [
              "<div>\n",
              "<style scoped>\n",
              "    .dataframe tbody tr th:only-of-type {\n",
              "        vertical-align: middle;\n",
              "    }\n",
              "\n",
              "    .dataframe tbody tr th {\n",
              "        vertical-align: top;\n",
              "    }\n",
              "\n",
              "    .dataframe thead th {\n",
              "        text-align: right;\n",
              "    }\n",
              "</style>\n",
              "<table border=\"1\" class=\"dataframe\">\n",
              "  <thead>\n",
              "    <tr style=\"text-align: right;\">\n",
              "      <th></th>\n",
              "      <th>userId</th>\n",
              "      <th>actual_movies_watched</th>\n",
              "      <th>recomendations</th>\n",
              "      <th>common_movies</th>\n",
              "      <th>similar_usres_k</th>\n",
              "      <th>precision</th>\n",
              "      <th>recall</th>\n",
              "      <th>f1_score</th>\n",
              "    </tr>\n",
              "  </thead>\n",
              "  <tbody>\n",
              "    <tr>\n",
              "      <th>241</th>\n",
              "      <td>206</td>\n",
              "      <td>5</td>\n",
              "      <td>10</td>\n",
              "      <td>4</td>\n",
              "      <td>5</td>\n",
              "      <td>0.4</td>\n",
              "      <td>0.800000</td>\n",
              "      <td>0.533333</td>\n",
              "    </tr>\n",
              "    <tr>\n",
              "      <th>1008</th>\n",
              "      <td>839</td>\n",
              "      <td>4</td>\n",
              "      <td>5</td>\n",
              "      <td>2</td>\n",
              "      <td>5</td>\n",
              "      <td>0.4</td>\n",
              "      <td>0.500000</td>\n",
              "      <td>0.444444</td>\n",
              "    </tr>\n",
              "    <tr>\n",
              "      <th>240</th>\n",
              "      <td>206</td>\n",
              "      <td>5</td>\n",
              "      <td>5</td>\n",
              "      <td>2</td>\n",
              "      <td>5</td>\n",
              "      <td>0.4</td>\n",
              "      <td>0.400000</td>\n",
              "      <td>0.400000</td>\n",
              "    </tr>\n",
              "    <tr>\n",
              "      <th>506</th>\n",
              "      <td>403</td>\n",
              "      <td>6</td>\n",
              "      <td>5</td>\n",
              "      <td>2</td>\n",
              "      <td>5</td>\n",
              "      <td>0.4</td>\n",
              "      <td>0.333333</td>\n",
              "      <td>0.363636</td>\n",
              "    </tr>\n",
              "    <tr>\n",
              "      <th>408</th>\n",
              "      <td>329</td>\n",
              "      <td>6</td>\n",
              "      <td>5</td>\n",
              "      <td>2</td>\n",
              "      <td>5</td>\n",
              "      <td>0.4</td>\n",
              "      <td>0.333333</td>\n",
              "      <td>0.363636</td>\n",
              "    </tr>\n",
              "    <tr>\n",
              "      <th>...</th>\n",
              "      <td>...</td>\n",
              "      <td>...</td>\n",
              "      <td>...</td>\n",
              "      <td>...</td>\n",
              "      <td>...</td>\n",
              "      <td>...</td>\n",
              "      <td>...</td>\n",
              "      <td>...</td>\n",
              "    </tr>\n",
              "    <tr>\n",
              "      <th>761</th>\n",
              "      <td>608</td>\n",
              "      <td>25</td>\n",
              "      <td>10</td>\n",
              "      <td>0</td>\n",
              "      <td>5</td>\n",
              "      <td>0.0</td>\n",
              "      <td>0.000000</td>\n",
              "      <td>0.000000</td>\n",
              "    </tr>\n",
              "    <tr>\n",
              "      <th>760</th>\n",
              "      <td>608</td>\n",
              "      <td>25</td>\n",
              "      <td>5</td>\n",
              "      <td>0</td>\n",
              "      <td>5</td>\n",
              "      <td>0.0</td>\n",
              "      <td>0.000000</td>\n",
              "      <td>0.000000</td>\n",
              "    </tr>\n",
              "    <tr>\n",
              "      <th>382</th>\n",
              "      <td>314</td>\n",
              "      <td>24</td>\n",
              "      <td>5</td>\n",
              "      <td>0</td>\n",
              "      <td>5</td>\n",
              "      <td>0.0</td>\n",
              "      <td>0.000000</td>\n",
              "      <td>0.000000</td>\n",
              "    </tr>\n",
              "    <tr>\n",
              "      <th>383</th>\n",
              "      <td>314</td>\n",
              "      <td>24</td>\n",
              "      <td>10</td>\n",
              "      <td>0</td>\n",
              "      <td>5</td>\n",
              "      <td>0.0</td>\n",
              "      <td>0.000000</td>\n",
              "      <td>0.000000</td>\n",
              "    </tr>\n",
              "    <tr>\n",
              "      <th>568</th>\n",
              "      <td>454</td>\n",
              "      <td>11</td>\n",
              "      <td>5</td>\n",
              "      <td>0</td>\n",
              "      <td>5</td>\n",
              "      <td>0.0</td>\n",
              "      <td>0.000000</td>\n",
              "      <td>0.000000</td>\n",
              "    </tr>\n",
              "  </tbody>\n",
              "</table>\n",
              "<p>1136 rows × 8 columns</p>\n",
              "</div>"
            ],
            "text/plain": [
              "      userId  actual_movies_watched  ...    recall  f1_score\n",
              "241      206                      5  ...  0.800000  0.533333\n",
              "1008     839                      4  ...  0.500000  0.444444\n",
              "240      206                      5  ...  0.400000  0.400000\n",
              "506      403                      6  ...  0.333333  0.363636\n",
              "408      329                      6  ...  0.333333  0.363636\n",
              "...      ...                    ...  ...       ...       ...\n",
              "761      608                     25  ...  0.000000  0.000000\n",
              "760      608                     25  ...  0.000000  0.000000\n",
              "382      314                     24  ...  0.000000  0.000000\n",
              "383      314                     24  ...  0.000000  0.000000\n",
              "568      454                     11  ...  0.000000  0.000000\n",
              "\n",
              "[1136 rows x 8 columns]"
            ]
          },
          "metadata": {},
          "execution_count": 99
        }
      ]
    },
    {
      "cell_type": "code",
      "metadata": {
        "id": "TWYo6xjm0MbW"
      },
      "source": [
        "result_bsi_df_5 = result_bsi_df.loc[result_bsi_df['recomendations']==5]\n",
        "result_bsi_df_10 = result_bsi_df.loc[result_bsi_df['recomendations']==10]\n",
        "result_bsi_df_25 = result_bsi_df.loc[result_bsi_df['recomendations']==25] # final run\n",
        "result_bsi_df_50 = result_bsi_df.loc[result_bsi_df['recomendations']==50]\n",
        "result_bsi_df_100 = result_bsi_df.loc[result_bsi_df['recomendations']==100]"
      ],
      "execution_count": null,
      "outputs": []
    },
    {
      "cell_type": "code",
      "metadata": {
        "colab": {
          "base_uri": "https://localhost:8080/"
        },
        "id": "Go3sBhCirz_a",
        "outputId": "3db8c7b7-7ca2-49c5-c3a6-259cecde0dba"
      },
      "source": [
        "result_bsi_df_5.mean()"
      ],
      "execution_count": null,
      "outputs": [
        {
          "output_type": "execute_result",
          "data": {
            "text/plain": [
              "userId                   461.948944\n",
              "actual_movies_watched     15.485915\n",
              "recomendations             5.000000\n",
              "common_movies              0.677817\n",
              "similar_usres_k            5.000000\n",
              "precision                  0.135563\n",
              "recall                     0.049196\n",
              "f1_score                   0.062842\n",
              "dtype: float64"
            ]
          },
          "metadata": {},
          "execution_count": 141
        }
      ]
    },
    {
      "cell_type": "code",
      "metadata": {
        "colab": {
          "base_uri": "https://localhost:8080/"
        },
        "id": "-g6RniEaq1ss",
        "outputId": "c8b966b7-c168-48d9-f6ad-6bbb38c81aa8"
      },
      "source": [
        "result_bsi_df_5.max()"
      ],
      "execution_count": null,
      "outputs": [
        {
          "output_type": "execute_result",
          "data": {
            "text/plain": [
              "userId                   943.000000\n",
              "actual_movies_watched     71.000000\n",
              "recomendations             5.000000\n",
              "common_movies              5.000000\n",
              "similar_usres_k            5.000000\n",
              "precision                  1.000000\n",
              "recall                     1.000000\n",
              "f1_score                   0.444444\n",
              "dtype: float64"
            ]
          },
          "metadata": {},
          "execution_count": 142
        }
      ]
    },
    {
      "cell_type": "code",
      "metadata": {
        "colab": {
          "base_uri": "https://localhost:8080/"
        },
        "id": "Mkx8hto42WoW",
        "outputId": "579f30e9-c0cf-4deb-9d2e-d34c4d6545ab"
      },
      "source": [
        "result_bsi_df_10.mean()"
      ],
      "execution_count": null,
      "outputs": [
        {
          "output_type": "execute_result",
          "data": {
            "text/plain": [
              "userId                   461.948944\n",
              "actual_movies_watched     15.485915\n",
              "recomendations            10.000000\n",
              "common_movies              1.193662\n",
              "similar_usres_k            5.000000\n",
              "precision                  0.119366\n",
              "recall                     0.082985\n",
              "f1_score                   0.086344\n",
              "dtype: float64"
            ]
          },
          "metadata": {},
          "execution_count": 143
        }
      ]
    },
    {
      "cell_type": "code",
      "metadata": {
        "colab": {
          "base_uri": "https://localhost:8080/"
        },
        "id": "SDWy6TbSrD0t",
        "outputId": "405d347c-beeb-4f1a-9b9e-88d4ee810a64"
      },
      "source": [
        "result_bsi_df_10.max()"
      ],
      "execution_count": null,
      "outputs": [
        {
          "output_type": "execute_result",
          "data": {
            "text/plain": [
              "userId                   943.000000\n",
              "actual_movies_watched     71.000000\n",
              "recomendations            10.000000\n",
              "common_movies              6.000000\n",
              "similar_usres_k            5.000000\n",
              "precision                  0.600000\n",
              "recall                     1.000000\n",
              "f1_score                   0.533333\n",
              "dtype: float64"
            ]
          },
          "metadata": {},
          "execution_count": 144
        }
      ]
    },
    {
      "cell_type": "code",
      "metadata": {
        "colab": {
          "base_uri": "https://localhost:8080/"
        },
        "id": "yfu-PYPe2XZA",
        "outputId": "ec3922b1-22c1-4288-e2e7-5f41c47b3234"
      },
      "source": [
        "result_bsi_df_25.mean()"
      ],
      "execution_count": null,
      "outputs": [
        {
          "output_type": "execute_result",
          "data": {
            "text/plain": [
              "userId                   461.948944\n",
              "actual_movies_watched     15.485915\n",
              "recomendations            25.000000\n",
              "common_movies              2.466549\n",
              "similar_usres_k            5.000000\n",
              "precision                  0.098662\n",
              "recall                     0.163445\n",
              "f1_score                   0.111076\n",
              "dtype: float64"
            ]
          },
          "metadata": {},
          "execution_count": 145
        }
      ]
    },
    {
      "cell_type": "code",
      "metadata": {
        "colab": {
          "base_uri": "https://localhost:8080/"
        },
        "id": "zB0ivZzsrH8M",
        "outputId": "fefa24a5-e5c8-44d3-e3c0-36630855dc35"
      },
      "source": [
        "result_bsi_df_25.max()"
      ],
      "execution_count": null,
      "outputs": [
        {
          "output_type": "execute_result",
          "data": {
            "text/plain": [
              "userId                   943.000000\n",
              "actual_movies_watched     71.000000\n",
              "recomendations            25.000000\n",
              "common_movies             12.000000\n",
              "similar_usres_k            5.000000\n",
              "precision                  0.480000\n",
              "recall                     1.000000\n",
              "f1_score                   0.421053\n",
              "dtype: float64"
            ]
          },
          "metadata": {},
          "execution_count": 146
        }
      ]
    },
    {
      "cell_type": "code",
      "metadata": {
        "colab": {
          "base_uri": "https://localhost:8080/"
        },
        "id": "25DScT442Xsj",
        "outputId": "2e702836-e007-4b27-d812-c6c2a520836b"
      },
      "source": [
        "result_bsi_df_50.mean()"
      ],
      "execution_count": null,
      "outputs": [
        {
          "output_type": "execute_result",
          "data": {
            "text/plain": [
              "userId                   461.948944\n",
              "actual_movies_watched     15.485915\n",
              "recomendations            50.000000\n",
              "common_movies              3.996479\n",
              "similar_usres_k            5.000000\n",
              "precision                  0.079930\n",
              "recall                     0.265683\n",
              "f1_score                   0.113770\n",
              "dtype: float64"
            ]
          },
          "metadata": {},
          "execution_count": 147
        }
      ]
    },
    {
      "cell_type": "code",
      "metadata": {
        "colab": {
          "base_uri": "https://localhost:8080/"
        },
        "id": "l_F3XOxn2YQy",
        "outputId": "ee16a97e-ca67-43a8-c903-9d40aa758af7"
      },
      "source": [
        "result_bsi_df_100.mean()"
      ],
      "execution_count": null,
      "outputs": [
        {
          "output_type": "execute_result",
          "data": {
            "text/plain": [
              "userId                   461.948944\n",
              "actual_movies_watched     15.485915\n",
              "recomendations           100.000000\n",
              "common_movies              6.186620\n",
              "similar_usres_k            5.000000\n",
              "precision                  0.061866\n",
              "recall                     0.401279\n",
              "f1_score                   0.102104\n",
              "dtype: float64"
            ]
          },
          "metadata": {},
          "execution_count": 148
        }
      ]
    },
    {
      "cell_type": "code",
      "metadata": {
        "id": "qG5lP2cW2Yvm"
      },
      "source": [
        "###"
      ],
      "execution_count": null,
      "outputs": []
    },
    {
      "cell_type": "code",
      "metadata": {
        "colab": {
          "base_uri": "https://localhost:8080/"
        },
        "id": "Hi9hIFDV2Sp4",
        "outputId": "c03723ef-4839-44cf-ae43-63ae298e8474"
      },
      "source": [
        "userId = []\n",
        "recommendations = []\n",
        "input_file_1 = open('bsi_recommendations_for_all_users.txt','r')\n",
        "while (True):\n",
        "    line = input_file_1.readline()\n",
        "    if not line:\n",
        "        break\n",
        "    count +=1\n",
        "    values = line.split(\", \")\n",
        "    user_id = values[0]\n",
        "    recomendations_for_user = values[1:]\n",
        "    recomendations_for_user.pop()\n",
        "    actual_movie_ids = getOrginalMoviesIds(recomendations_for_user)\n",
        "    userId.append(user_id)\n",
        "    recommendations.append(actual_movie_ids)\n",
        "    \n",
        "print(\"Finished\")"
      ],
      "execution_count": null,
      "outputs": [
        {
          "output_type": "stream",
          "name": "stdout",
          "text": [
            "Finished\n"
          ]
        }
      ]
    },
    {
      "cell_type": "code",
      "metadata": {
        "id": "xLjsFJU52fY1"
      },
      "source": [
        "result_all_user_df_dict = {\"userID\": userId, \"recommendations\": recommendations}"
      ],
      "execution_count": null,
      "outputs": []
    },
    {
      "cell_type": "code",
      "metadata": {
        "id": "vAvCKYUJ2hUq"
      },
      "source": [
        "result_all_user_df = pd.DataFrame(result_all_user_df_dict)"
      ],
      "execution_count": null,
      "outputs": []
    },
    {
      "cell_type": "code",
      "metadata": {
        "colab": {
          "base_uri": "https://localhost:8080/",
          "height": 419
        },
        "id": "sUOpdwo62i-y",
        "outputId": "83ed0939-d3b0-4b63-a413-30c1e885647d"
      },
      "source": [
        "result_all_user_df # one user is missing 685/686 rows are 942 # 3 user missing for 1 mil dataset , no rec for missing user"
      ],
      "execution_count": null,
      "outputs": [
        {
          "output_type": "execute_result",
          "data": {
            "text/html": [
              "<div>\n",
              "<style scoped>\n",
              "    .dataframe tbody tr th:only-of-type {\n",
              "        vertical-align: middle;\n",
              "    }\n",
              "\n",
              "    .dataframe tbody tr th {\n",
              "        vertical-align: top;\n",
              "    }\n",
              "\n",
              "    .dataframe thead th {\n",
              "        text-align: right;\n",
              "    }\n",
              "</style>\n",
              "<table border=\"1\" class=\"dataframe\">\n",
              "  <thead>\n",
              "    <tr style=\"text-align: right;\">\n",
              "      <th></th>\n",
              "      <th>userID</th>\n",
              "      <th>recommendations</th>\n",
              "    </tr>\n",
              "  </thead>\n",
              "  <tbody>\n",
              "    <tr>\n",
              "      <th>0</th>\n",
              "      <td>1</td>\n",
              "      <td>[1197, 2797, 2762, 2028, 2916, 1210, 1213, 161...</td>\n",
              "    </tr>\n",
              "    <tr>\n",
              "      <th>1</th>\n",
              "      <td>2</td>\n",
              "      <td>[1287, 2797, 2321, 1270, 527, 1022, 150, 1, 26...</td>\n",
              "    </tr>\n",
              "    <tr>\n",
              "      <th>2</th>\n",
              "      <td>3</td>\n",
              "      <td>[1193, 2804, 919, 2918, 2797, 1270, 527, 1097,...</td>\n",
              "    </tr>\n",
              "    <tr>\n",
              "      <th>3</th>\n",
              "      <td>4</td>\n",
              "      <td>[3408, 2355, 1197, 2791, 2797, 1270, 527, 2762...</td>\n",
              "    </tr>\n",
              "    <tr>\n",
              "      <th>4</th>\n",
              "      <td>5</td>\n",
              "      <td>[1193, 2804, 2797, 2321, 1270, 527, 2762, 260,...</td>\n",
              "    </tr>\n",
              "    <tr>\n",
              "      <th>...</th>\n",
              "      <td>...</td>\n",
              "      <td>...</td>\n",
              "    </tr>\n",
              "    <tr>\n",
              "      <th>6032</th>\n",
              "      <td>6036</td>\n",
              "      <td>[1197, 919, 2918, 2791, 2797, 1270, 527, 1097,...</td>\n",
              "    </tr>\n",
              "    <tr>\n",
              "      <th>6033</th>\n",
              "      <td>6037</td>\n",
              "      <td>[1197, 2918, 2791, 1270, 2762, 1, 2916, 1213, ...</td>\n",
              "    </tr>\n",
              "    <tr>\n",
              "      <th>6034</th>\n",
              "      <td>6038</td>\n",
              "      <td>[1197, 2804, 2918, 2791, 1270, 1097, 1, 260, 2...</td>\n",
              "    </tr>\n",
              "    <tr>\n",
              "      <th>6035</th>\n",
              "      <td>6039</td>\n",
              "      <td>[2355, 2918, 2762, 608, 1213, 368, 110, 589, 3...</td>\n",
              "    </tr>\n",
              "    <tr>\n",
              "      <th>6036</th>\n",
              "      <td>6040</td>\n",
              "      <td>[2355, 1197, 2918, 2797, 1270, 1, 3114, 2194, ...</td>\n",
              "    </tr>\n",
              "  </tbody>\n",
              "</table>\n",
              "<p>6037 rows × 2 columns</p>\n",
              "</div>"
            ],
            "text/plain": [
              "     userID                                    recommendations\n",
              "0         1  [1197, 2797, 2762, 2028, 2916, 1210, 1213, 161...\n",
              "1         2  [1287, 2797, 2321, 1270, 527, 1022, 150, 1, 26...\n",
              "2         3  [1193, 2804, 919, 2918, 2797, 1270, 527, 1097,...\n",
              "3         4  [3408, 2355, 1197, 2791, 2797, 1270, 527, 2762...\n",
              "4         5  [1193, 2804, 2797, 2321, 1270, 527, 2762, 260,...\n",
              "...     ...                                                ...\n",
              "6032   6036  [1197, 919, 2918, 2791, 2797, 1270, 527, 1097,...\n",
              "6033   6037  [1197, 2918, 2791, 1270, 2762, 1, 2916, 1213, ...\n",
              "6034   6038  [1197, 2804, 2918, 2791, 1270, 1097, 1, 260, 2...\n",
              "6035   6039  [2355, 2918, 2762, 608, 1213, 368, 110, 589, 3...\n",
              "6036   6040  [2355, 1197, 2918, 2797, 1270, 1, 3114, 2194, ...\n",
              "\n",
              "[6037 rows x 2 columns]"
            ]
          },
          "metadata": {},
          "execution_count": 98
        }
      ]
    },
    {
      "cell_type": "markdown",
      "metadata": {
        "id": "4cMeap_wAOQU"
      },
      "source": [
        "# Collaborative Filtering pyspark ( ALS Baseline)"
      ]
    },
    {
      "cell_type": "code",
      "metadata": {
        "colab": {
          "base_uri": "https://localhost:8080/"
        },
        "id": "AIl862RwAXFu",
        "outputId": "b86ab5d6-f67f-4a1f-b10a-45daa4ee4560"
      },
      "source": [
        "!pip install pyspark"
      ],
      "execution_count": 23,
      "outputs": [
        {
          "output_type": "stream",
          "name": "stdout",
          "text": [
            "Collecting pyspark\n",
            "  Downloading pyspark-3.2.0.tar.gz (281.3 MB)\n",
            "\u001b[K     |████████████████████████████████| 281.3 MB 31 kB/s \n",
            "\u001b[?25hCollecting py4j==0.10.9.2\n",
            "  Downloading py4j-0.10.9.2-py2.py3-none-any.whl (198 kB)\n",
            "\u001b[K     |████████████████████████████████| 198 kB 56.9 MB/s \n",
            "\u001b[?25hBuilding wheels for collected packages: pyspark\n",
            "  Building wheel for pyspark (setup.py) ... \u001b[?25l\u001b[?25hdone\n",
            "  Created wheel for pyspark: filename=pyspark-3.2.0-py2.py3-none-any.whl size=281805912 sha256=c9ba558d7fd9c1a294064826ffb9d0a8ec7be28bd40ffb856657031ad9105e00\n",
            "  Stored in directory: /root/.cache/pip/wheels/0b/de/d2/9be5d59d7331c6c2a7c1b6d1a4f463ce107332b1ecd4e80718\n",
            "Successfully built pyspark\n",
            "Installing collected packages: py4j, pyspark\n",
            "Successfully installed py4j-0.10.9.2 pyspark-3.2.0\n"
          ]
        }
      ]
    },
    {
      "cell_type": "code",
      "metadata": {
        "id": "-Yzs2X8BATvF"
      },
      "source": [
        "import os\n",
        "import numpy as np\n",
        "from pyspark.sql import SparkSession\n",
        "from pyspark import SparkContext\n",
        "import pandas as pd\n",
        "from pyspark.mllib.recommendation import ALS\n",
        "import math\n",
        "import pyspark.sql\n",
        "from pyspark.sql.functions import udf\n",
        "from pyspark.sql.types import *\n",
        "from pyspark.ml.evaluation import RegressionEvaluator\n",
        "import time\n"
      ],
      "execution_count": 24,
      "outputs": []
    },
    {
      "cell_type": "code",
      "metadata": {
        "id": "d3uy_g7kAof3"
      },
      "source": [
        "# Calling spark session to register application\n",
        "spark = SparkSession \\\n",
        "    .builder \\\n",
        "    .appName(\"Recom\") \\\n",
        "    .config(\"spark.recom.demo\", \"1\") \\\n",
        "    .getOrCreate()\n",
        "# lambda word: (word, 1)"
      ],
      "execution_count": 25,
      "outputs": []
    },
    {
      "cell_type": "code",
      "metadata": {
        "id": "CYxEUyTcBXcj"
      },
      "source": [
        "ratings_df = spark.read \\\n",
        "    .format(\"csv\") \\\n",
        "    .option(\"header\", \"true\") \\\n",
        "    .option(\"inferSchema\", \"true\") \\\n",
        "    .load(\"train_ratings.csv\")"
      ],
      "execution_count": 26,
      "outputs": []
    },
    {
      "cell_type": "code",
      "metadata": {
        "colab": {
          "base_uri": "https://localhost:8080/"
        },
        "id": "y7XzK28zCubi",
        "outputId": "10c96074-f2ee-4f47-d0af-4d2bcfe9a45c"
      },
      "source": [
        "ratings_df.show()\n",
        "ratings_df.count()"
      ],
      "execution_count": 27,
      "outputs": [
        {
          "output_type": "stream",
          "name": "stdout",
          "text": [
            "+------+-------+-----------+\n",
            "|userid|movieid|movieRating|\n",
            "+------+-------+-----------+\n",
            "|     1|   1193|          5|\n",
            "|     1|    661|          3|\n",
            "|     1|    914|          3|\n",
            "|     1|   3408|          4|\n",
            "|     1|   2355|          5|\n",
            "|     1|   1197|          3|\n",
            "|     1|   1287|          5|\n",
            "|     1|   2804|          5|\n",
            "|     1|    594|          4|\n",
            "|     1|    919|          0|\n",
            "|     1|    595|          5|\n",
            "|     1|    938|          4|\n",
            "|     1|   2398|          4|\n",
            "|     1|   2918|          4|\n",
            "|     1|   1035|          5|\n",
            "|     1|   2791|          4|\n",
            "|     1|   2687|          0|\n",
            "|     1|   2018|          0|\n",
            "|     1|   3105|          0|\n",
            "|     1|   2797|          4|\n",
            "+------+-------+-----------+\n",
            "only showing top 20 rows\n",
            "\n"
          ]
        },
        {
          "output_type": "execute_result",
          "data": {
            "text/plain": [
              "1000209"
            ]
          },
          "metadata": {},
          "execution_count": 27
        }
      ]
    },
    {
      "cell_type": "code",
      "metadata": {
        "colab": {
          "base_uri": "https://localhost:8080/"
        },
        "id": "CEOJt25jC3k9",
        "outputId": "e7c1bc5a-1a29-46a2-a37c-3b5b56bc6f7c"
      },
      "source": [
        "ratings_df = ratings_df.drop('') # reduntant> no values are dropped\n",
        "ratings_df.count()"
      ],
      "execution_count": 28,
      "outputs": [
        {
          "output_type": "execute_result",
          "data": {
            "text/plain": [
              "1000209"
            ]
          },
          "metadata": {},
          "execution_count": 28
        }
      ]
    },
    {
      "cell_type": "markdown",
      "metadata": {
        "id": "1euF9pwKDRTW"
      },
      "source": [
        "### Drop test data from training set"
      ]
    },
    {
      "cell_type": "code",
      "metadata": {
        "colab": {
          "base_uri": "https://localhost:8080/"
        },
        "id": "0bxaE-PFDHqS",
        "outputId": "43580c4a-81da-4985-b282-75681e27abcf"
      },
      "source": [
        "ratings_df = ratings_df[ratings_df.movieRating != 0.0]\n",
        "ratings_df.summary\n",
        "ratings_df.count()"
      ],
      "execution_count": 29,
      "outputs": [
        {
          "output_type": "execute_result",
          "data": {
            "text/plain": [
              "830247"
            ]
          },
          "metadata": {},
          "execution_count": 29
        }
      ]
    },
    {
      "cell_type": "code",
      "metadata": {
        "id": "q71EAV0_DdOb"
      },
      "source": [
        "(trainingData,validationData,testData) = ratings_df.randomSplit([0.6,0.2,0.2],5) # randomSplit(weights, seed)"
      ],
      "execution_count": 30,
      "outputs": []
    },
    {
      "cell_type": "code",
      "metadata": {
        "colab": {
          "base_uri": "https://localhost:8080/"
        },
        "id": "k_1TlIe1DlAn",
        "outputId": "04dfa143-e735-42ed-906e-8be63c6b5ba3"
      },
      "source": [
        "trainingData.show()\n",
        "print(trainingData.count())\n",
        "print(validationData.count())\n",
        "print(testData.count())"
      ],
      "execution_count": 31,
      "outputs": [
        {
          "output_type": "stream",
          "name": "stdout",
          "text": [
            "+------+-------+-----------+\n",
            "|userid|movieid|movieRating|\n",
            "+------+-------+-----------+\n",
            "|     1|      1|          5|\n",
            "|     1|     48|          5|\n",
            "|     1|    260|          4|\n",
            "|     1|    527|          5|\n",
            "|     1|    531|          4|\n",
            "|     1|    588|          4|\n",
            "|     1|    595|          5|\n",
            "|     1|    608|          4|\n",
            "|     1|    661|          3|\n",
            "|     1|    745|          3|\n",
            "|     1|    783|          4|\n",
            "|     1|   1022|          5|\n",
            "|     1|   1028|          5|\n",
            "|     1|   1097|          4|\n",
            "|     1|   1193|          5|\n",
            "|     1|   1197|          3|\n",
            "|     1|   1207|          4|\n",
            "|     1|   1270|          5|\n",
            "|     1|   1287|          5|\n",
            "|     1|   1566|          4|\n",
            "+------+-------+-----------+\n",
            "only showing top 20 rows\n",
            "\n",
            "497472\n",
            "166700\n",
            "166075\n"
          ]
        }
      ]
    },
    {
      "cell_type": "code",
      "metadata": {
        "id": "AnFeBlUbDodl"
      },
      "source": [
        "validation_for_predict = validationData.select('userid','movieid')\n",
        "test_for_predict = testData.select('userid','movieid')"
      ],
      "execution_count": 32,
      "outputs": []
    },
    {
      "cell_type": "code",
      "metadata": {
        "id": "b2IE4X97Dr9Y"
      },
      "source": [
        "seed = 5 \n",
        "iterations = 10\n",
        "regularization_parameter = 0.1 \n",
        "ranks = [4, 8, 12] "
      ],
      "execution_count": 33,
      "outputs": []
    },
    {
      "cell_type": "code",
      "metadata": {
        "colab": {
          "base_uri": "https://localhost:8080/"
        },
        "id": "nzy2QRER77Yd",
        "outputId": "f8fa43f6-2d3c-4630-9818-12370ad529fb"
      },
      "source": [
        "min_error = 1000\n",
        "for rank in ranks:\n",
        "    model = ALS.train(ratings_df, rank, seed=seed, iterations=iterations,\n",
        "                      lambda_=regularization_parameter)\n",
        "    \n",
        "    #converting prediction into key value pair like key=(userId,movieId) and value = rating\n",
        "    predictions = model.predictAll(validation_for_predict.rdd).map(lambda r: ((r[0], r[1]), r[2]))\n",
        "    \n",
        "    #joining predicted rating and original ratings to calculate error\n",
        "    rates_and_preds = validationData.rdd.map(lambda r: ((int(r[0]), int(r[1])), float(r[2]))).join(predictions)\n",
        "    \n",
        "    error = math.sqrt(rates_and_preds.map(lambda r: (r[1][0] - r[1][1])**2).mean()) \n",
        "\n",
        "    print ('For rank',rank, \"the RMSE is \", error)\n",
        "    if error < min_error:\n",
        "        min_error = error\n",
        "        best_rank = rank\n",
        "\n",
        "print (\"The best model was trained with rank\", best_rank)"
      ],
      "execution_count": 34,
      "outputs": [
        {
          "output_type": "stream",
          "name": "stdout",
          "text": [
            "For rank 4 the RMSE is  0.850316954280477\n",
            "For rank 8 the RMSE is  0.8302567395217925\n",
            "For rank 12 the RMSE is  0.8179931389419712\n",
            "The best model was trained with rank 12\n"
          ]
        }
      ]
    },
    {
      "cell_type": "code",
      "metadata": {
        "id": "I1GmkvEYD-zl"
      },
      "source": [
        "predictions_test = model.predictAll(test_for_predict.rdd).map(lambda r: ((r[0], r[1]), r[2]))"
      ],
      "execution_count": 35,
      "outputs": []
    },
    {
      "cell_type": "code",
      "metadata": {
        "colab": {
          "base_uri": "https://localhost:8080/"
        },
        "id": "EDJgHk-78VML",
        "outputId": "c90ee3d3-9090-4f51-f452-837547d1309d"
      },
      "source": [
        "predictions_test.take(5)"
      ],
      "execution_count": 36,
      "outputs": [
        {
          "output_type": "execute_result",
          "data": {
            "text/plain": [
              "[((4904, 1304), 4.795474940347013),\n",
              " ((4904, 2116), 4.032788194947812),\n",
              " ((4904, 1320), 3.9355773460942776),\n",
              " ((4904, 588), 4.29802423718202),\n",
              " ((4904, 2068), 4.13739412892656)]"
            ]
          },
          "metadata": {},
          "execution_count": 36
        }
      ]
    },
    {
      "cell_type": "markdown",
      "metadata": {
        "id": "guoMqpntEFZ0"
      },
      "source": [
        "### Get Recomendations For User\n",
        "\n",
        "This method returns original movieId where CBV algorithm returns mapped movieId"
      ]
    },
    {
      "cell_type": "code",
      "metadata": {
        "id": "2xS1hV6XEDr1"
      },
      "source": [
        "def getRecommendations(user,ratings_df,trainDf,model, k): # \n",
        "    \n",
        "    userDf = ratings_df.filter(ratings_df.userid == user) # for eg user = 1 ...getting all movies(rows) user1 has rated \n",
        "\n",
        "    mov = ratings_df.select('movieid').subtract(userDf.select('movieid')) # mov dataframe wont have whatever user1 has rated\n",
        "    \n",
        "    # measure below two only\n",
        "\n",
        "    pred_rat = model.predictAll(mov.rdd.map(lambda x: (user, x[0]))).collect()\n",
        "    \n",
        "    recommendations = sorted(pred_rat, key=lambda x: x[2], reverse=True)[:k]\n",
        "    \n",
        "    return recommendations"
      ],
      "execution_count": 37,
      "outputs": []
    },
    {
      "cell_type": "code",
      "metadata": {
        "colab": {
          "base_uri": "https://localhost:8080/"
        },
        "id": "OKmumSj9EUnr",
        "outputId": "a82a3ba3-f340-42a3-9ee2-0314873c4e15"
      },
      "source": [
        "model.predict(1,1084) # make sure product id is in the model"
      ],
      "execution_count": 38,
      "outputs": [
        {
          "output_type": "execute_result",
          "data": {
            "text/plain": [
              "4.1485223959910416"
            ]
          },
          "metadata": {},
          "execution_count": 38
        }
      ]
    },
    {
      "cell_type": "code",
      "metadata": {
        "colab": {
          "base_uri": "https://localhost:8080/"
        },
        "id": "56fUAP_PElQm",
        "outputId": "372375a3-a6c8-4568-dbb0-141950bc982c"
      },
      "source": [
        "user = 1\n",
        "# how many recommendations you want\n",
        "k= 10\n",
        "\n",
        "# Call getRecommendations method\n",
        "derived_rec = getRecommendations(user, ratings_df, trainingData, model, k)\n",
        "\n",
        "print (\"Movies recommended for:\",user)\n",
        "movie_ids = []\n",
        "for i in range(len(derived_rec)):\n",
        "    movie_ids.append(derived_rec[i][1])\n",
        "#     print (i+1,derived_rec[i][1])\n",
        "\n",
        "print(movie_ids)\n",
        "#     movies_df.filter(movies_df.movieId==derived_rec[i][1]).select('title').show()"
      ],
      "execution_count": 39,
      "outputs": [
        {
          "output_type": "stream",
          "name": "stdout",
          "text": [
            "Movies recommended for: 1\n",
            "[572, 3233, 989, 3172, 318, 919, 953, 858, 787, 3469]\n"
          ]
        }
      ]
    },
    {
      "cell_type": "code",
      "metadata": {
        "id": "YnqR96Y6FgUG"
      },
      "source": [
        "temp_str = \"70, 235, 316, 333, 423, 441, 457, 480, 552, 553, 590, 4006, 72378, 538, 36, 300, 344, 380, 531, 371\""
      ],
      "execution_count": null,
      "outputs": []
    },
    {
      "cell_type": "code",
      "metadata": {
        "colab": {
          "base_uri": "https://localhost:8080/"
        },
        "id": "wGKVJoN6FhMv",
        "outputId": "0dcb01b5-eba7-4801-db79-d367ce22238f"
      },
      "source": [
        "bsi_movie_ids = temp_str.split(\", \") # not using bsi_movie_ids\n",
        "print(bsi_movie_ids)\n",
        "print(movie_ids)"
      ],
      "execution_count": null,
      "outputs": [
        {
          "name": "stdout",
          "output_type": "stream",
          "text": [
            "['70', '235', '316', '333', '423', '441', '457', '480', '552', '553', '590', '4006', '72378', '538', '36', '300', '344', '380', '531', '371']\n",
            "[1512, 1449, 408, 1495, 390, 611, 1467, 1463, 511, 657]\n"
          ]
        }
      ]
    },
    {
      "cell_type": "code",
      "metadata": {
        "colab": {
          "base_uri": "https://localhost:8080/"
        },
        "id": "O_yqfWUYFkwY",
        "outputId": "82b34114-4f03-49e0-ff3b-fc2932fd8dbd"
      },
      "source": [
        "test_data = pd.read_csv('test_ratings.csv')\n",
        "test_users = test_data.userid.unique()\n",
        "print(len(test_users))\n",
        "test_users_list = test_users.tolist()\n",
        "userKs = [5] # 10,20,25 final run\n",
        "itemKs = [5,10,25,50,100] # 5, 10, 25, 50 ,100\n",
        "len(test_users_list)\n",
        "\n",
        "# 568(test_users) * userK(4 len of list) * itemK(5 len of list) = 11360 test_recommendation_bsi.txt rows "
      ],
      "execution_count": 40,
      "outputs": [
        {
          "output_type": "stream",
          "name": "stdout",
          "text": [
            "4296\n"
          ]
        },
        {
          "output_type": "execute_result",
          "data": {
            "text/plain": [
              "4296"
            ]
          },
          "metadata": {},
          "execution_count": 40
        }
      ]
    },
    {
      "cell_type": "code",
      "metadata": {
        "id": "c_qJ9LieFrL1"
      },
      "source": [
        "# def recomendMoviesForAllUsers(test_users, itemKs,testData,trainingData,model):\n",
        "#     output_file = open(\"test_recommendations_als_5_10.txt\", \"a\")\n",
        "#     for u in range(len(test_users)):\n",
        "#         user = test_users[u]\n",
        "#         for itemk in itemKs:\n",
        "#             derived_rec = getRecommendations(user,testData,trainingData,model,itemk)\n",
        "            \n",
        "#             output_file.write(str(user)+\", \")\n",
        "#             output_file.write(str(5)+\", \")\n",
        "#             for i in range(5):\n",
        "#                 output_file.write(str(derived_rec[i][1])+\", \")\n",
        "#             output_file.write(\"\\n\")\n",
        "                \n",
        "#             output_file.write(str(user)+\", \")\n",
        "#             output_file.write(str(itemk)+\", \")\n",
        "#             for i in range(len(derived_rec)):\n",
        "#                 output_file.write(str(derived_rec[i][1])+\", \")\n",
        "#             output_file.write(\"\\n\")\n",
        "## below snippet final run many itemKs \n",
        "def recomendMoviesForAllUsers(test_users, itemKs,testData,trainingData,model):\n",
        "    output_file = open(\"test_recommendations_als.txt\", \"a\")\n",
        "    for u in range(len(test_users)):\n",
        "      user = test_users[u]\n",
        "      for userk in userKs:\n",
        "        for itemk in itemKs:\n",
        "            derived_rec = getRecommendations(user,testData,trainingData,model,itemk)    \n",
        "            output_file.write(str(user)+\", \")\n",
        "            # output_file.write(str(userk)+\", \")\n",
        "            output_file.write(str(itemk)+\", \")\n",
        "            for i in range(len(derived_rec)):\n",
        "                output_file.write(str(derived_rec[i][1])+\", \")\n",
        "            output_file.write(\"\\n\")"
      ],
      "execution_count": 41,
      "outputs": []
    },
    {
      "cell_type": "code",
      "metadata": {
        "id": "SLQbU4wUFtny"
      },
      "source": [
        "start = time.time()\n",
        "derived_rec = recomendMoviesForAllUsers(test_users_list,itemKs,testData,trainingData,model)\n",
        "end = time.time()\n",
        "print(end - start)\n"
      ],
      "execution_count": null,
      "outputs": []
    },
    {
      "cell_type": "code",
      "metadata": {
        "id": "K6XAkIU8meSg"
      },
      "source": [
        "###  Get movies which is rated (>3.0) by user in test data for ALS\n",
        "\n",
        "def get_test_rec_movieIds_als(userId):\n",
        "    user_df = test_data[test_data.userid == userId]\n",
        "    user_movie_df = user_df[user_df.movieRating > 3.0]\n",
        "    original_movieIds = user_movie_df.movieid.unique()\n",
        "    return list(original_movieIds)"
      ],
      "execution_count": null,
      "outputs": []
    },
    {
      "cell_type": "code",
      "metadata": {
        "colab": {
          "base_uri": "https://localhost:8080/"
        },
        "id": "Oq5ZIbrqzaBh",
        "outputId": "14c9ea3d-91ad-4c5f-fe09-089e158cfbda"
      },
      "source": [
        "# get_test_rec_movieIds\n",
        "count = 0\n",
        "input_file = open('test_recommendations_als.txt','r')\n",
        "\n",
        "userIds = []\n",
        "actual_movies_watched = []\n",
        "recomendations = []\n",
        "common_movies = []\n",
        "precision = []\n",
        "recall = []\n",
        "f1score = []\n",
        "\n",
        "while (True):\n",
        "    line = input_file.readline()\n",
        "    if not line:\n",
        "        break\n",
        "    count +=1\n",
        "    values = line.split(\", \")\n",
        "    userId = values[0]\n",
        "    no_recomendations = values[1]\n",
        "    recomendations_for_user = values[2:]\n",
        "    \n",
        "    recomendations_for_user.pop() ## removing last null(\\n) value\n",
        "    \n",
        "    actual_movies_watched_by_users = get_test_rec_movieIds_als(int(userId)) # movies in test data\n",
        "#     print(count)\n",
        "    common_count = find_common(actual_movies_watched_by_users, recomendations_for_user) # movies in algo's predictions\n",
        "    \n",
        "#     print(userId,userK,no_recomendations)\n",
        "#     print(common_count)\n",
        "\n",
        "    userIds.append(userId)\n",
        "    actual_movies_watched.append(len(actual_movies_watched_by_users)) \n",
        "    recomendations.append(int(no_recomendations))\n",
        "    common_movies.append(common_count)\n",
        "    \n",
        "    total_count_for_precision = int(no_recomendations)\n",
        "    total_count_for_recall = len(actual_movies_watched_by_users)\n",
        "    \n",
        "    temp_Precision = getPrecision(total_count_for_precision, common_count)\n",
        "    precision.append(temp_Precision)\n",
        "    temp_recall = getRecall(total_count_for_recall, common_count)\n",
        "    recall.append(temp_recall)\n",
        "    f1score.append(getf1score(temp_Precision, temp_recall))\n",
        "    \n",
        "print(count)\n",
        "# test_recommendations_als_5_10.txt row length"
      ],
      "execution_count": null,
      "outputs": [
        {
          "output_type": "stream",
          "name": "stdout",
          "text": [
            "2800\n"
          ]
        }
      ]
    },
    {
      "cell_type": "code",
      "metadata": {
        "id": "HMACGH_n0T8A"
      },
      "source": [
        "result_df_dict = {\"userId\":userIds,\"actual_movies_watched\":actual_movies_watched,\n",
        "                  \"recomendations\":recomendations,\"common_movies\":common_movies,\n",
        "                   \"precision\": precision, \"recall\": recall, \"f1_score\": f1score}"
      ],
      "execution_count": null,
      "outputs": []
    },
    {
      "cell_type": "code",
      "metadata": {
        "id": "_T_BBYkh0USD"
      },
      "source": [
        "result_als_df = pd.DataFrame(result_df_dict)"
      ],
      "execution_count": null,
      "outputs": []
    },
    {
      "cell_type": "code",
      "metadata": {
        "colab": {
          "base_uri": "https://localhost:8080/",
          "height": 419
        },
        "id": "AnkmC1cA0UZK",
        "outputId": "28bce26e-d173-4579-bef7-8a42cf9afb2a"
      },
      "source": [
        "result_als_df"
      ],
      "execution_count": null,
      "outputs": [
        {
          "output_type": "execute_result",
          "data": {
            "text/html": [
              "<div>\n",
              "<style scoped>\n",
              "    .dataframe tbody tr th:only-of-type {\n",
              "        vertical-align: middle;\n",
              "    }\n",
              "\n",
              "    .dataframe tbody tr th {\n",
              "        vertical-align: top;\n",
              "    }\n",
              "\n",
              "    .dataframe thead th {\n",
              "        text-align: right;\n",
              "    }\n",
              "</style>\n",
              "<table border=\"1\" class=\"dataframe\">\n",
              "  <thead>\n",
              "    <tr style=\"text-align: right;\">\n",
              "      <th></th>\n",
              "      <th>userId</th>\n",
              "      <th>actual_movies_watched</th>\n",
              "      <th>recomendations</th>\n",
              "      <th>common_movies</th>\n",
              "      <th>precision</th>\n",
              "      <th>recall</th>\n",
              "      <th>f1_score</th>\n",
              "    </tr>\n",
              "  </thead>\n",
              "  <tbody>\n",
              "    <tr>\n",
              "      <th>0</th>\n",
              "      <td>1</td>\n",
              "      <td>28</td>\n",
              "      <td>5</td>\n",
              "      <td>0</td>\n",
              "      <td>0.00</td>\n",
              "      <td>0.000000</td>\n",
              "      <td>0.000000</td>\n",
              "    </tr>\n",
              "    <tr>\n",
              "      <th>1</th>\n",
              "      <td>1</td>\n",
              "      <td>28</td>\n",
              "      <td>10</td>\n",
              "      <td>0</td>\n",
              "      <td>0.00</td>\n",
              "      <td>0.000000</td>\n",
              "      <td>0.000000</td>\n",
              "    </tr>\n",
              "    <tr>\n",
              "      <th>2</th>\n",
              "      <td>1</td>\n",
              "      <td>28</td>\n",
              "      <td>25</td>\n",
              "      <td>1</td>\n",
              "      <td>0.04</td>\n",
              "      <td>0.035714</td>\n",
              "      <td>0.037736</td>\n",
              "    </tr>\n",
              "    <tr>\n",
              "      <th>3</th>\n",
              "      <td>1</td>\n",
              "      <td>28</td>\n",
              "      <td>50</td>\n",
              "      <td>3</td>\n",
              "      <td>0.06</td>\n",
              "      <td>0.107143</td>\n",
              "      <td>0.076923</td>\n",
              "    </tr>\n",
              "    <tr>\n",
              "      <th>4</th>\n",
              "      <td>1</td>\n",
              "      <td>28</td>\n",
              "      <td>100</td>\n",
              "      <td>4</td>\n",
              "      <td>0.04</td>\n",
              "      <td>0.142857</td>\n",
              "      <td>0.062500</td>\n",
              "    </tr>\n",
              "    <tr>\n",
              "      <th>...</th>\n",
              "      <td>...</td>\n",
              "      <td>...</td>\n",
              "      <td>...</td>\n",
              "      <td>...</td>\n",
              "      <td>...</td>\n",
              "      <td>...</td>\n",
              "      <td>...</td>\n",
              "    </tr>\n",
              "    <tr>\n",
              "      <th>2795</th>\n",
              "      <td>943</td>\n",
              "      <td>22</td>\n",
              "      <td>5</td>\n",
              "      <td>1</td>\n",
              "      <td>0.20</td>\n",
              "      <td>0.045455</td>\n",
              "      <td>0.074074</td>\n",
              "    </tr>\n",
              "    <tr>\n",
              "      <th>2796</th>\n",
              "      <td>943</td>\n",
              "      <td>22</td>\n",
              "      <td>10</td>\n",
              "      <td>1</td>\n",
              "      <td>0.10</td>\n",
              "      <td>0.045455</td>\n",
              "      <td>0.062500</td>\n",
              "    </tr>\n",
              "    <tr>\n",
              "      <th>2797</th>\n",
              "      <td>943</td>\n",
              "      <td>22</td>\n",
              "      <td>25</td>\n",
              "      <td>3</td>\n",
              "      <td>0.12</td>\n",
              "      <td>0.136364</td>\n",
              "      <td>0.127660</td>\n",
              "    </tr>\n",
              "    <tr>\n",
              "      <th>2798</th>\n",
              "      <td>943</td>\n",
              "      <td>22</td>\n",
              "      <td>50</td>\n",
              "      <td>4</td>\n",
              "      <td>0.08</td>\n",
              "      <td>0.181818</td>\n",
              "      <td>0.111111</td>\n",
              "    </tr>\n",
              "    <tr>\n",
              "      <th>2799</th>\n",
              "      <td>943</td>\n",
              "      <td>22</td>\n",
              "      <td>100</td>\n",
              "      <td>4</td>\n",
              "      <td>0.04</td>\n",
              "      <td>0.181818</td>\n",
              "      <td>0.065574</td>\n",
              "    </tr>\n",
              "  </tbody>\n",
              "</table>\n",
              "<p>2800 rows × 7 columns</p>\n",
              "</div>"
            ],
            "text/plain": [
              "     userId  actual_movies_watched  ...    recall  f1_score\n",
              "0         1                     28  ...  0.000000  0.000000\n",
              "1         1                     28  ...  0.000000  0.000000\n",
              "2         1                     28  ...  0.035714  0.037736\n",
              "3         1                     28  ...  0.107143  0.076923\n",
              "4         1                     28  ...  0.142857  0.062500\n",
              "...     ...                    ...  ...       ...       ...\n",
              "2795    943                     22  ...  0.045455  0.074074\n",
              "2796    943                     22  ...  0.045455  0.062500\n",
              "2797    943                     22  ...  0.136364  0.127660\n",
              "2798    943                     22  ...  0.181818  0.111111\n",
              "2799    943                     22  ...  0.181818  0.065574\n",
              "\n",
              "[2800 rows x 7 columns]"
            ]
          },
          "metadata": {},
          "execution_count": 121
        }
      ]
    },
    {
      "cell_type": "code",
      "metadata": {
        "id": "HKOSnrQY0Ues"
      },
      "source": [
        "result_als_df = result_als_df.astype({\"userId\": int})\n"
      ],
      "execution_count": null,
      "outputs": []
    },
    {
      "cell_type": "code",
      "metadata": {
        "id": "H8vsJ6lg04eH"
      },
      "source": [
        "result_als_df_5 = result_als_df.loc[result_als_df['recomendations']==5]\n",
        "result_als_df_10 = result_als_df.loc[result_als_df['recomendations']==10]\n",
        "result_als_df_25 = result_als_df.loc[result_als_df['recomendations']==25]\n",
        "result_als_df_50 = result_als_df.loc[result_als_df['recomendations']==50]\n",
        "result_als_df_100 = result_als_df.loc[result_als_df['recomendations']==100]"
      ],
      "execution_count": null,
      "outputs": []
    },
    {
      "cell_type": "code",
      "metadata": {
        "colab": {
          "base_uri": "https://localhost:8080/"
        },
        "id": "49mSJ0rP0UjT",
        "outputId": "f408d950-f2fc-495e-b4d7-11b67bbdaed6"
      },
      "source": [
        "result_als_df_5.mean()"
      ],
      "execution_count": null,
      "outputs": [
        {
          "output_type": "execute_result",
          "data": {
            "text/plain": [
              "userId                   467.183929\n",
              "actual_movies_watched     15.428571\n",
              "recomendations             5.000000\n",
              "common_movies              0.298214\n",
              "precision                  0.059643\n",
              "recall                     0.025373\n",
              "f1_score                   0.029301\n",
              "dtype: float64"
            ]
          },
          "metadata": {},
          "execution_count": 124
        }
      ]
    },
    {
      "cell_type": "code",
      "metadata": {
        "colab": {
          "base_uri": "https://localhost:8080/"
        },
        "id": "N5o21kdq1D5E",
        "outputId": "f3cab2ef-a943-4343-e802-fe9fd9c94b49"
      },
      "source": [
        "result_als_df_10.mean()"
      ],
      "execution_count": null,
      "outputs": [
        {
          "output_type": "execute_result",
          "data": {
            "text/plain": [
              "userId                   467.183929\n",
              "actual_movies_watched     15.428571\n",
              "recomendations            10.000000\n",
              "common_movies              0.576786\n",
              "precision                  0.057679\n",
              "recall                     0.047135\n",
              "f1_score                   0.045170\n",
              "dtype: float64"
            ]
          },
          "metadata": {},
          "execution_count": 125
        }
      ]
    },
    {
      "cell_type": "code",
      "metadata": {
        "id": "lIFs1toH2Odx",
        "colab": {
          "base_uri": "https://localhost:8080/"
        },
        "outputId": "072676c4-17c2-4dd0-dac7-43ecd740003e"
      },
      "source": [
        "result_als_df_25.mean()"
      ],
      "execution_count": null,
      "outputs": [
        {
          "output_type": "execute_result",
          "data": {
            "text/plain": [
              "userId                   467.183929\n",
              "actual_movies_watched     15.428571\n",
              "recomendations            25.000000\n",
              "common_movies              1.425000\n",
              "precision                  0.057000\n",
              "recall                     0.114265\n",
              "f1_score                   0.068479\n",
              "dtype: float64"
            ]
          },
          "metadata": {},
          "execution_count": 126
        }
      ]
    },
    {
      "cell_type": "code",
      "metadata": {
        "colab": {
          "base_uri": "https://localhost:8080/"
        },
        "id": "BXU2ow05K5wI",
        "outputId": "552cafd8-02b6-4e52-9ec0-bd84f0d63e07"
      },
      "source": [
        "result_als_df_50.mean()"
      ],
      "execution_count": null,
      "outputs": [
        {
          "output_type": "execute_result",
          "data": {
            "text/plain": [
              "userId                   467.183929\n",
              "actual_movies_watched     15.428571\n",
              "recomendations            50.000000\n",
              "common_movies              2.683929\n",
              "precision                  0.053679\n",
              "recall                     0.206189\n",
              "f1_score                   0.079115\n",
              "dtype: float64"
            ]
          },
          "metadata": {},
          "execution_count": 127
        }
      ]
    },
    {
      "cell_type": "code",
      "metadata": {
        "colab": {
          "base_uri": "https://localhost:8080/"
        },
        "id": "WdjHTLwRK78q",
        "outputId": "4b552201-4c88-44f4-ee3c-75625631120b"
      },
      "source": [
        "result_als_df_100.mean()"
      ],
      "execution_count": null,
      "outputs": [
        {
          "output_type": "execute_result",
          "data": {
            "text/plain": [
              "userId                   467.183929\n",
              "actual_movies_watched     15.428571\n",
              "recomendations           100.000000\n",
              "common_movies              4.783929\n",
              "precision                  0.047839\n",
              "recall                     0.344057\n",
              "f1_score                   0.080057\n",
              "dtype: float64"
            ]
          },
          "metadata": {},
          "execution_count": 128
        }
      ]
    }
  ]
}